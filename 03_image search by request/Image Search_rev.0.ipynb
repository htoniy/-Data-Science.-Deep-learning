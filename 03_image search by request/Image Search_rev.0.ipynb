{
 "cells": [
  {
   "cell_type": "markdown",
   "id": "75844647",
   "metadata": {},
   "source": [
    "# Сборный проект-4\n",
    "\n",
    "**Описание проекта:**\n",
    "\n",
    "Вам поручено разработать демонстрационную версию поиска изображений по запросу.\n",
    "\n",
    "Для демонстрационной версии нужно обучить модель, которая получит векторное представление изображения, векторное представление текста, а на выходе выдаст число от 0 до 1 — покажет, насколько текст и картинка подходят друг другу."
   ]
  },
  {
   "cell_type": "markdown",
   "id": "1ff1020a",
   "metadata": {
    "cellId": "pbwq209p45adtxfy5ofecd",
    "execution_id": "7cb94123-6481-41de-973a-91abe63db303",
    "id": "1ff1020a",
    "tags": [
     "270beaa0-19d4-4537-bff1-11e2aaed886c"
    ]
   },
   "source": [
    "\n",
    "## Описание данных\n",
    "\n",
    "Данные лежат в папке `/datasets/image_search/` или доступны по [ссылке](https://code.s3.yandex.net/datasets/dsplus_integrated_project_4.zip).\n",
    "\n",
    "В файле **`train_dataset.csv`** находится информация, необходимая для обучения: имя файла изображения, идентификатор описания и текст описания. Для одной картинки может быть доступно до 5 описаний. Идентификатор описания имеет формат `<имя файла изображения>#<порядковый номер описания>`.\n",
    "\n",
    "В папке **`train_images`** содержатся изображения для тренировки модели.\n",
    "\n",
    "В файле **`CrowdAnnotations.tsv`** — данные по соответствию изображения и описания, полученные с помощью краудсорсинга. Номера колонок и соответствующий тип данных:\n",
    "\n",
    "1. Имя файла изображения.\n",
    "2. Идентификатор описания.\n",
    "3. Доля людей, подтвердивших, что описание соответствует изображению.\n",
    "4. Количество человек, подтвердивших, что описание соответствует изображению.\n",
    "5. Количество человек, подтвердивших, что описание не соответствует изображению.\n",
    "\n",
    "В файле **`ExpertAnnotations.tsv`** содержатся данные по соответствию изображения и описания, полученные в результате опроса экспертов. Номера колонок и соответствующий тип данных:\n",
    "\n",
    "1. Имя файла изображения.\n",
    "2. Идентификатор описания.\n",
    "\n",
    "3, 4, 5 — оценки трёх экспертов.\n",
    "\n",
    "Эксперты ставят оценки по шкале от 1 до 4, где 1 — изображение и запрос совершенно не соответствуют друг другу, 2 — запрос содержит элементы описания изображения, но в целом запрос тексту не соответствует, 3 — запрос и текст соответствуют с точностью до некоторых деталей, 4 — запрос и текст соответствуют полностью.\n",
    "\n",
    "В файле **`test_queries.csv`** находится информация, необходимая для тестирования: идентификатор запроса, текст запроса и релевантное изображение. Для одной картинки может быть доступно до 5 описаний. Идентификатор описания имеет формат `<имя файла изображения>#<порядковый номер описания>`.\n",
    "\n",
    "В папке **`test_images`** содержатся изображения для тестирования модели."
   ]
  },
  {
   "cell_type": "markdown",
   "id": "a201dc9e",
   "metadata": {},
   "source": [
    "## Импорт библиотек и исходных данных."
   ]
  },
  {
   "cell_type": "markdown",
   "id": "1c72a4d1",
   "metadata": {},
   "source": [
    "**Импорт библиотек.**"
   ]
  },
  {
   "cell_type": "code",
   "execution_count": 1,
   "id": "8a66d52f",
   "metadata": {},
   "outputs": [],
   "source": [
    "import pandas as pd\n",
    "import numpy as np\n",
    "import matplotlib.pyplot as plt\n",
    "\n",
    "import torchvision.models as models\n",
    "import torch.nn as nn\n",
    "from torchvision import transforms\n",
    "\n",
    "from PIL import Image\n",
    "import os\n",
    "\n",
    "from tqdm import notebook\n",
    "from tqdm import tqdm\n",
    "from pprint import pprint\n",
    "import time\n",
    "import re\n",
    "\n",
    "import nltk\n",
    "from nltk.corpus import stopwords\n",
    "from nltk.stem import PorterStemmer\n",
    "from nltk.stem import LancasterStemmer, SnowballStemmer\n",
    "from nltk.stem import WordNetLemmatizer\n",
    "from nltk.tokenize import word_tokenize\n",
    "from nltk.corpus import stopwords as nltk_stopwords\n",
    "\n",
    "import spacy\n",
    "from spacy.lang.en.examples import sentences \n",
    "\n",
    "from sklearn.feature_extraction.text import TfidfVectorizer \n",
    "from sklearn.model_selection import GroupShuffleSplit\n",
    "\n",
    "import transformers \n",
    "\n",
    "from catboost import CatBoostRegressor, Pool"
   ]
  },
  {
   "cell_type": "code",
   "execution_count": 2,
   "id": "245124a5",
   "metadata": {},
   "outputs": [
    {
     "name": "stderr",
     "output_type": "stream",
     "text": [
      "[nltk_data] Downloading package punkt to\n",
      "[nltk_data]     /Users/maksimgorskov/nltk_data...\n",
      "[nltk_data]   Package punkt is already up-to-date!\n",
      "[nltk_data] Downloading package wordnet to\n",
      "[nltk_data]     /Users/maksimgorskov/nltk_data...\n",
      "[nltk_data]   Package wordnet is already up-to-date!\n",
      "[nltk_data] Downloading package stopwords to\n",
      "[nltk_data]     /Users/maksimgorskov/nltk_data...\n",
      "[nltk_data]   Package stopwords is already up-to-date!\n"
     ]
    }
   ],
   "source": [
    "nltk.download('punkt')\n",
    "nltk.download('wordnet')\n",
    "nltk.download('stopwords')\n",
    "stop_words = list(stopwords.words('english'))\n",
    "\n"
   ]
  },
  {
   "cell_type": "markdown",
   "id": "db7e588c",
   "metadata": {},
   "source": [
    "**Импорт исходных данных.**"
   ]
  },
  {
   "cell_type": "code",
   "execution_count": 3,
   "id": "79250670",
   "metadata": {
    "cellId": "exl6m83oldxqlu1vq1s6",
    "id": "79250670",
    "scrolled": true
   },
   "outputs": [],
   "source": [
    "#Для корректной работы кода необходимо заменить путь к директории на локальной машине, содержащей необходимыйе датасеты.\n",
    "path = '/Users/maksimgorskov/Desktop/Data Science/Спринт 22_Сборочный проект/Source Data/'\n",
    "\n",
    "#Загрузка датасета с разметкой данных от краудсорсинга.\n",
    "crowd_ann_data = pd.read_csv(path + 'CrowdAnnotations.tsv', sep='\\t', header=None)\n",
    "\n",
    "#Загрузка датасета с разметкой данных от экспертов.\n",
    "expert_ann_data = pd.read_csv(path + 'ExpertAnnotations.tsv', sep='\\t', header=None)\n",
    "\n",
    "#Загрузка тренировочного датасета.\n",
    "train_data = pd.read_csv(path + 'train_dataset.csv')\n",
    "\n",
    "#Загрузка тестовго датасета с изображениями.\n",
    "test_img_data = pd.read_csv(path + 'test_images.csv')\n",
    "\n",
    "#Загрузка тестовго датасета с списком изображений для теста. \n",
    "test_queries_data = pd.read_csv(path + 'test_queries.csv', sep='|', index_col = 0)"
   ]
  },
  {
   "cell_type": "markdown",
   "id": "99489b26",
   "metadata": {
    "cellId": "n6vkjcacwu39w29bfocxt",
    "execution_id": "1b731a18-3394-4b62-b3f7-018692c2d6de",
    "id": "99489b26"
   },
   "source": [
    "## Исследовательский анализ данных\n",
    "\n",
    "Наш датасет содержит экспертные и краудсорсинговые оценки соответствия текста и изображения.\n",
    "\n",
    "В файле с экспертными мнениями для каждой пары изображение-текст имеются оценки от трёх специалистов. Для решения задачи вы должны эти оценки агрегировать — превратить в одну. Существует несколько способов агрегации оценок, самый простой — голосование большинства: за какую оценку проголосовала большая часть экспертов (в нашем случае 2 или 3), та оценка и ставится как итоговая. Поскольку число экспертов меньше числа классов, может случиться, что каждый эксперт поставит разные оценки, например: 1, 4, 2. В таком случае данную пару изображение-текст можно исключить из датасета.\n",
    "\n",
    "Вы можете воспользоваться другим методом агрегации оценок или придумать свой.\n",
    "\n",
    "В файле с краудсорсинговыми оценками информация расположена в таком порядке:\n",
    "\n",
    "1. Доля исполнителей, подтвердивших, что текст **соответствует** картинке.\n",
    "2. Количество исполнителей, подтвердивших, что текст **соответствует** картинке.\n",
    "3. Количество исполнителей, подтвердивших, что текст **не соответствует** картинке.\n",
    "\n",
    "После анализа экспертных и краудсорсинговых оценок выберите либо одну из них, либо объедините их в одну по какому-то критерию: например, оценка эксперта принимается с коэффициентом 0.6, а крауда — с коэффициентом 0.4.\n",
    "\n",
    "Ваша модель должна возвращать на выходе вероятность соответствия изображения тексту, поэтому целевая переменная должна иметь значения от 0 до 1.\n"
   ]
  },
  {
   "cell_type": "markdown",
   "id": "d2d456e6",
   "metadata": {},
   "source": [
    "**Анализ экспертных оценок.**"
   ]
  },
  {
   "cell_type": "code",
   "execution_count": 4,
   "id": "0ea563cb",
   "metadata": {
    "scrolled": true
   },
   "outputs": [
    {
     "data": {
      "text/html": [
       "<div>\n",
       "<style scoped>\n",
       "    .dataframe tbody tr th:only-of-type {\n",
       "        vertical-align: middle;\n",
       "    }\n",
       "\n",
       "    .dataframe tbody tr th {\n",
       "        vertical-align: top;\n",
       "    }\n",
       "\n",
       "    .dataframe thead th {\n",
       "        text-align: right;\n",
       "    }\n",
       "</style>\n",
       "<table border=\"1\" class=\"dataframe\">\n",
       "  <thead>\n",
       "    <tr style=\"text-align: right;\">\n",
       "      <th></th>\n",
       "      <th>0</th>\n",
       "      <th>1</th>\n",
       "      <th>2</th>\n",
       "      <th>3</th>\n",
       "      <th>4</th>\n",
       "    </tr>\n",
       "  </thead>\n",
       "  <tbody>\n",
       "    <tr>\n",
       "      <th>0</th>\n",
       "      <td>1056338697_4f7d7ce270.jpg</td>\n",
       "      <td>2549968784_39bfbe44f9.jpg#2</td>\n",
       "      <td>1</td>\n",
       "      <td>1</td>\n",
       "      <td>1</td>\n",
       "    </tr>\n",
       "    <tr>\n",
       "      <th>1</th>\n",
       "      <td>1056338697_4f7d7ce270.jpg</td>\n",
       "      <td>2718495608_d8533e3ac5.jpg#2</td>\n",
       "      <td>1</td>\n",
       "      <td>1</td>\n",
       "      <td>2</td>\n",
       "    </tr>\n",
       "    <tr>\n",
       "      <th>2</th>\n",
       "      <td>1056338697_4f7d7ce270.jpg</td>\n",
       "      <td>3181701312_70a379ab6e.jpg#2</td>\n",
       "      <td>1</td>\n",
       "      <td>1</td>\n",
       "      <td>2</td>\n",
       "    </tr>\n",
       "    <tr>\n",
       "      <th>3</th>\n",
       "      <td>1056338697_4f7d7ce270.jpg</td>\n",
       "      <td>3207358897_bfa61fa3c6.jpg#2</td>\n",
       "      <td>1</td>\n",
       "      <td>2</td>\n",
       "      <td>2</td>\n",
       "    </tr>\n",
       "    <tr>\n",
       "      <th>4</th>\n",
       "      <td>1056338697_4f7d7ce270.jpg</td>\n",
       "      <td>3286822339_5535af6b93.jpg#2</td>\n",
       "      <td>1</td>\n",
       "      <td>1</td>\n",
       "      <td>2</td>\n",
       "    </tr>\n",
       "  </tbody>\n",
       "</table>\n",
       "</div>"
      ],
      "text/plain": [
       "                           0                            1  2  3  4\n",
       "0  1056338697_4f7d7ce270.jpg  2549968784_39bfbe44f9.jpg#2  1  1  1\n",
       "1  1056338697_4f7d7ce270.jpg  2718495608_d8533e3ac5.jpg#2  1  1  2\n",
       "2  1056338697_4f7d7ce270.jpg  3181701312_70a379ab6e.jpg#2  1  1  2\n",
       "3  1056338697_4f7d7ce270.jpg  3207358897_bfa61fa3c6.jpg#2  1  2  2\n",
       "4  1056338697_4f7d7ce270.jpg  3286822339_5535af6b93.jpg#2  1  1  2"
      ]
     },
     "execution_count": 4,
     "metadata": {},
     "output_type": "execute_result"
    }
   ],
   "source": [
    "expert_ann_data.head()"
   ]
  },
  {
   "cell_type": "code",
   "execution_count": 5,
   "id": "8c663512",
   "metadata": {
    "scrolled": true
   },
   "outputs": [
    {
     "name": "stdout",
     "output_type": "stream",
     "text": [
      "<class 'pandas.core.frame.DataFrame'>\n",
      "RangeIndex: 5822 entries, 0 to 5821\n",
      "Data columns (total 5 columns):\n",
      " #   Column  Non-Null Count  Dtype \n",
      "---  ------  --------------  ----- \n",
      " 0   0       5822 non-null   object\n",
      " 1   1       5822 non-null   object\n",
      " 2   2       5822 non-null   int64 \n",
      " 3   3       5822 non-null   int64 \n",
      " 4   4       5822 non-null   int64 \n",
      "dtypes: int64(3), object(2)\n",
      "memory usage: 227.6+ KB\n"
     ]
    }
   ],
   "source": [
    "expert_ann_data.info()"
   ]
  },
  {
   "cell_type": "code",
   "execution_count": 6,
   "id": "749d7705",
   "metadata": {},
   "outputs": [
    {
     "name": "stdout",
     "output_type": "stream",
     "text": [
      "[[4120, 1109, 346, 247], [3327, 1666, 518, 311], [2350, 2222, 837, 413]]\n"
     ]
    }
   ],
   "source": [
    "# Список из трех списков(каждый третий список - это список количества оценок от 1 до 4 для каждого эксперта).\n",
    "#Индексация соответствует номерам экспертов и номерам оценок.\n",
    "sum_list = []\n",
    "for n in range(2, 5):\n",
    "    i_list = []\n",
    "    for i in expert_ann_data[n].unique():\n",
    "        i_mark = expert_ann_data[expert_ann_data[n] == i][n].count()\n",
    "        i_list.append(i_mark)\n",
    "    sum_list.append(i_list)\n",
    "print(sum_list)"
   ]
  },
  {
   "cell_type": "code",
   "execution_count": 7,
   "id": "51ccc275",
   "metadata": {},
   "outputs": [
    {
     "data": {
      "text/plain": [
       "[4120, 3327, 2350]"
      ]
     },
     "execution_count": 7,
     "metadata": {},
     "output_type": "execute_result"
    }
   ],
   "source": [
    "indx_0 = [sublist[0] for sublist in sum_list if sublist]\n",
    "indx_0"
   ]
  },
  {
   "cell_type": "code",
   "execution_count": 8,
   "id": "8eccec8c",
   "metadata": {
    "scrolled": false
   },
   "outputs": [
    {
     "data": {
      "image/png": "[encoded data removed]",
      "text/plain": [
       "<Figure size 640x480 with 1 Axes>"
      ]
     },
     "metadata": {},
     "output_type": "display_data"
    }
   ],
   "source": [
    "experts = (\"1\", \"2\", \"3\")\n",
    "marks_means = {\n",
    "    '1': [sublist[0] for sublist in sum_list if sublist],\n",
    "    '2': [sublist[1] for sublist in sum_list if sublist],\n",
    "    '3': [sublist[2] for sublist in sum_list if sublist],\n",
    "    '4': [sublist[3] for sublist in sum_list if sublist]\n",
    "}\n",
    "\n",
    "x = np.arange(len(experts))  # the label locations\n",
    "width = 0.2  # the width of the bars\n",
    "multiplier = 0\n",
    "\n",
    "fig, ax = plt.subplots(layout='constrained')\n",
    "\n",
    "for attribute, measurement in marks_means.items():\n",
    "    offset = width * multiplier\n",
    "    rects = ax.bar(x + offset, measurement, width, label=attribute)\n",
    "    ax.bar_label(rects, padding=3)\n",
    "    multiplier += 1\n",
    "\n",
    "# Add some text for labels, title and custom x-axis tick labels, etc.\n",
    "ax.set_ylabel('Counts')\n",
    "ax.set_title('Counts of marks by expert')\n",
    "ax.set_xticks(x + width, experts)\n",
    "ax.legend(title='Mark')\n",
    "\n",
    "\n",
    "plt.show()"
   ]
  },
  {
   "cell_type": "markdown",
   "id": "6d3a9599",
   "metadata": {},
   "source": [
    "**Вывод:**\n",
    "Из гистограммы распределение меток в зависимости от эксперта видно, что 3й эксперт размечает данные более сбалансированно, а 1-й 70% данных размечает как полностью не соответствущие действительности."
   ]
  },
  {
   "cell_type": "markdown",
   "id": "32d43bcf",
   "metadata": {},
   "source": [
    "**Гипотеза:**\n",
    "3-й эксперт размечает данные более вдумчиво. Правильность его ответов - лучше. 2-й эксперт размечает данные чуть лучше. 1-й - хуже всех. \n",
    "\n",
    "(Гипотеза касается лищь данных с оцеками 1 и 2)\n"
   ]
  },
  {
   "cell_type": "markdown",
   "id": "0b5880ff",
   "metadata": {},
   "source": [
    "Исходя из гипотезы, формирование общей оценки корреляции фотографии и комментария к ней возможно сформировать по принципу взвешенного среднего для определения общей вероятности.\n",
    "\n",
    "- Эксперт 1: оценка вероятности p1 с весом w1 = 0.2\n",
    "- Эксперт 2: оценка вероятности p2 с весом w2 = 0.3\n",
    "- Эксперт 3: оценка вероятности p3 с весом w3 = 0.5"
   ]
  },
  {
   "cell_type": "code",
   "execution_count": 9,
   "id": "5b1944f8",
   "metadata": {},
   "outputs": [],
   "source": [
    "#Определение весов взвешенного среднего для определения общей вероятности. \n",
    "w_1 = 0.2\n",
    "w_2 = 0.3\n",
    "w_3 = 0.5"
   ]
  },
  {
   "cell_type": "markdown",
   "id": "701cf383",
   "metadata": {},
   "source": [
    "В задании необходимо определнить вероятности совпадения картинки и описания. Для этого все имеющиеся данные будут размечены как вероятности корреляции."
   ]
  },
  {
   "cell_type": "code",
   "execution_count": 10,
   "id": "8fc3ceeb",
   "metadata": {},
   "outputs": [],
   "source": [
    "for column in (2, 3, 4):\n",
    "    for i in range(1, 5):\n",
    "        expert_ann_data.loc[expert_ann_data[column] == i, column] = expert_ann_data.loc[expert_ann_data[column] == i, column] / 4"
   ]
  },
  {
   "cell_type": "markdown",
   "id": "0c33cd75",
   "metadata": {},
   "source": [
    "**Анализ краудсорсинговых оценок.**"
   ]
  },
  {
   "cell_type": "code",
   "execution_count": 11,
   "id": "e786790d",
   "metadata": {
    "scrolled": true
   },
   "outputs": [
    {
     "data": {
      "text/html": [
       "<div>\n",
       "<style scoped>\n",
       "    .dataframe tbody tr th:only-of-type {\n",
       "        vertical-align: middle;\n",
       "    }\n",
       "\n",
       "    .dataframe tbody tr th {\n",
       "        vertical-align: top;\n",
       "    }\n",
       "\n",
       "    .dataframe thead th {\n",
       "        text-align: right;\n",
       "    }\n",
       "</style>\n",
       "<table border=\"1\" class=\"dataframe\">\n",
       "  <thead>\n",
       "    <tr style=\"text-align: right;\">\n",
       "      <th></th>\n",
       "      <th>0</th>\n",
       "      <th>1</th>\n",
       "      <th>2</th>\n",
       "      <th>3</th>\n",
       "      <th>4</th>\n",
       "    </tr>\n",
       "  </thead>\n",
       "  <tbody>\n",
       "    <tr>\n",
       "      <th>0</th>\n",
       "      <td>1056338697_4f7d7ce270.jpg</td>\n",
       "      <td>1056338697_4f7d7ce270.jpg#2</td>\n",
       "      <td>1.000000</td>\n",
       "      <td>3</td>\n",
       "      <td>0</td>\n",
       "    </tr>\n",
       "    <tr>\n",
       "      <th>1</th>\n",
       "      <td>1056338697_4f7d7ce270.jpg</td>\n",
       "      <td>114051287_dd85625a04.jpg#2</td>\n",
       "      <td>0.000000</td>\n",
       "      <td>0</td>\n",
       "      <td>3</td>\n",
       "    </tr>\n",
       "    <tr>\n",
       "      <th>2</th>\n",
       "      <td>1056338697_4f7d7ce270.jpg</td>\n",
       "      <td>1427391496_ea512cbe7f.jpg#2</td>\n",
       "      <td>0.000000</td>\n",
       "      <td>0</td>\n",
       "      <td>3</td>\n",
       "    </tr>\n",
       "    <tr>\n",
       "      <th>3</th>\n",
       "      <td>1056338697_4f7d7ce270.jpg</td>\n",
       "      <td>2073964624_52da3a0fc4.jpg#2</td>\n",
       "      <td>0.000000</td>\n",
       "      <td>0</td>\n",
       "      <td>3</td>\n",
       "    </tr>\n",
       "    <tr>\n",
       "      <th>4</th>\n",
       "      <td>1056338697_4f7d7ce270.jpg</td>\n",
       "      <td>2083434441_a93bc6306b.jpg#2</td>\n",
       "      <td>0.000000</td>\n",
       "      <td>0</td>\n",
       "      <td>3</td>\n",
       "    </tr>\n",
       "    <tr>\n",
       "      <th>...</th>\n",
       "      <td>...</td>\n",
       "      <td>...</td>\n",
       "      <td>...</td>\n",
       "      <td>...</td>\n",
       "      <td>...</td>\n",
       "    </tr>\n",
       "    <tr>\n",
       "      <th>47825</th>\n",
       "      <td>997722733_0cb5439472.jpg</td>\n",
       "      <td>543007912_23fc735b99.jpg#2</td>\n",
       "      <td>0.000000</td>\n",
       "      <td>0</td>\n",
       "      <td>3</td>\n",
       "    </tr>\n",
       "    <tr>\n",
       "      <th>47826</th>\n",
       "      <td>997722733_0cb5439472.jpg</td>\n",
       "      <td>544576742_283b65fa0d.jpg#2</td>\n",
       "      <td>0.333333</td>\n",
       "      <td>1</td>\n",
       "      <td>2</td>\n",
       "    </tr>\n",
       "    <tr>\n",
       "      <th>47827</th>\n",
       "      <td>997722733_0cb5439472.jpg</td>\n",
       "      <td>872622575_ba1d3632cc.jpg#2</td>\n",
       "      <td>1.000000</td>\n",
       "      <td>3</td>\n",
       "      <td>0</td>\n",
       "    </tr>\n",
       "    <tr>\n",
       "      <th>47828</th>\n",
       "      <td>997722733_0cb5439472.jpg</td>\n",
       "      <td>888425986_e4b6c12324.jpg#2</td>\n",
       "      <td>0.000000</td>\n",
       "      <td>0</td>\n",
       "      <td>3</td>\n",
       "    </tr>\n",
       "    <tr>\n",
       "      <th>47829</th>\n",
       "      <td>997722733_0cb5439472.jpg</td>\n",
       "      <td>997722733_0cb5439472.jpg#2</td>\n",
       "      <td>0.666667</td>\n",
       "      <td>2</td>\n",
       "      <td>1</td>\n",
       "    </tr>\n",
       "  </tbody>\n",
       "</table>\n",
       "<p>47830 rows × 5 columns</p>\n",
       "</div>"
      ],
      "text/plain": [
       "                               0                            1         2  3  4\n",
       "0      1056338697_4f7d7ce270.jpg  1056338697_4f7d7ce270.jpg#2  1.000000  3  0\n",
       "1      1056338697_4f7d7ce270.jpg   114051287_dd85625a04.jpg#2  0.000000  0  3\n",
       "2      1056338697_4f7d7ce270.jpg  1427391496_ea512cbe7f.jpg#2  0.000000  0  3\n",
       "3      1056338697_4f7d7ce270.jpg  2073964624_52da3a0fc4.jpg#2  0.000000  0  3\n",
       "4      1056338697_4f7d7ce270.jpg  2083434441_a93bc6306b.jpg#2  0.000000  0  3\n",
       "...                          ...                          ...       ... .. ..\n",
       "47825   997722733_0cb5439472.jpg   543007912_23fc735b99.jpg#2  0.000000  0  3\n",
       "47826   997722733_0cb5439472.jpg   544576742_283b65fa0d.jpg#2  0.333333  1  2\n",
       "47827   997722733_0cb5439472.jpg   872622575_ba1d3632cc.jpg#2  1.000000  3  0\n",
       "47828   997722733_0cb5439472.jpg   888425986_e4b6c12324.jpg#2  0.000000  0  3\n",
       "47829   997722733_0cb5439472.jpg   997722733_0cb5439472.jpg#2  0.666667  2  1\n",
       "\n",
       "[47830 rows x 5 columns]"
      ]
     },
     "execution_count": 11,
     "metadata": {},
     "output_type": "execute_result"
    }
   ],
   "source": [
    "crowd_ann_data"
   ]
  },
  {
   "cell_type": "code",
   "execution_count": 12,
   "id": "9e22ed60",
   "metadata": {
    "scrolled": true
   },
   "outputs": [
    {
     "name": "stdout",
     "output_type": "stream",
     "text": [
      "<class 'pandas.core.frame.DataFrame'>\n",
      "RangeIndex: 47830 entries, 0 to 47829\n",
      "Data columns (total 5 columns):\n",
      " #   Column  Non-Null Count  Dtype  \n",
      "---  ------  --------------  -----  \n",
      " 0   0       47830 non-null  object \n",
      " 1   1       47830 non-null  object \n",
      " 2   2       47830 non-null  float64\n",
      " 3   3       47830 non-null  int64  \n",
      " 4   4       47830 non-null  int64  \n",
      "dtypes: float64(1), int64(2), object(2)\n",
      "memory usage: 1.8+ MB\n"
     ]
    }
   ],
   "source": [
    "crowd_ann_data.info()"
   ]
  },
  {
   "cell_type": "code",
   "execution_count": 13,
   "id": "c487a2e8",
   "metadata": {
    "scrolled": false
   },
   "outputs": [
    {
     "data": {
      "text/html": [
       "<div>\n",
       "<style scoped>\n",
       "    .dataframe tbody tr th:only-of-type {\n",
       "        vertical-align: middle;\n",
       "    }\n",
       "\n",
       "    .dataframe tbody tr th {\n",
       "        vertical-align: top;\n",
       "    }\n",
       "\n",
       "    .dataframe thead th {\n",
       "        text-align: right;\n",
       "    }\n",
       "</style>\n",
       "<table border=\"1\" class=\"dataframe\">\n",
       "  <thead>\n",
       "    <tr style=\"text-align: right;\">\n",
       "      <th></th>\n",
       "      <th>2</th>\n",
       "      <th>3</th>\n",
       "      <th>4</th>\n",
       "      <th>5</th>\n",
       "    </tr>\n",
       "  </thead>\n",
       "  <tbody>\n",
       "    <tr>\n",
       "      <th>count</th>\n",
       "      <td>47830.000000</td>\n",
       "      <td>47830.000000</td>\n",
       "      <td>47830.000000</td>\n",
       "      <td>47830.000000</td>\n",
       "    </tr>\n",
       "    <tr>\n",
       "      <th>mean</th>\n",
       "      <td>0.068786</td>\n",
       "      <td>0.208488</td>\n",
       "      <td>2.820155</td>\n",
       "      <td>3.028643</td>\n",
       "    </tr>\n",
       "    <tr>\n",
       "      <th>std</th>\n",
       "      <td>0.207532</td>\n",
       "      <td>0.628898</td>\n",
       "      <td>0.656676</td>\n",
       "      <td>0.208075</td>\n",
       "    </tr>\n",
       "    <tr>\n",
       "      <th>min</th>\n",
       "      <td>0.000000</td>\n",
       "      <td>0.000000</td>\n",
       "      <td>0.000000</td>\n",
       "      <td>3.000000</td>\n",
       "    </tr>\n",
       "    <tr>\n",
       "      <th>25%</th>\n",
       "      <td>0.000000</td>\n",
       "      <td>0.000000</td>\n",
       "      <td>3.000000</td>\n",
       "      <td>3.000000</td>\n",
       "    </tr>\n",
       "    <tr>\n",
       "      <th>50%</th>\n",
       "      <td>0.000000</td>\n",
       "      <td>0.000000</td>\n",
       "      <td>3.000000</td>\n",
       "      <td>3.000000</td>\n",
       "    </tr>\n",
       "    <tr>\n",
       "      <th>75%</th>\n",
       "      <td>0.000000</td>\n",
       "      <td>0.000000</td>\n",
       "      <td>3.000000</td>\n",
       "      <td>3.000000</td>\n",
       "    </tr>\n",
       "    <tr>\n",
       "      <th>max</th>\n",
       "      <td>1.000000</td>\n",
       "      <td>5.000000</td>\n",
       "      <td>6.000000</td>\n",
       "      <td>6.000000</td>\n",
       "    </tr>\n",
       "  </tbody>\n",
       "</table>\n",
       "</div>"
      ],
      "text/plain": [
       "                  2             3             4             5\n",
       "count  47830.000000  47830.000000  47830.000000  47830.000000\n",
       "mean       0.068786      0.208488      2.820155      3.028643\n",
       "std        0.207532      0.628898      0.656676      0.208075\n",
       "min        0.000000      0.000000      0.000000      3.000000\n",
       "25%        0.000000      0.000000      3.000000      3.000000\n",
       "50%        0.000000      0.000000      3.000000      3.000000\n",
       "75%        0.000000      0.000000      3.000000      3.000000\n",
       "max        1.000000      5.000000      6.000000      6.000000"
      ]
     },
     "execution_count": 13,
     "metadata": {},
     "output_type": "execute_result"
    }
   ],
   "source": [
    "crowd_ann_data[5] = crowd_ann_data[3] + crowd_ann_data[4]\n",
    "crowd_ann_data.describe()"
   ]
  },
  {
   "cell_type": "code",
   "execution_count": 14,
   "id": "f3b81508",
   "metadata": {},
   "outputs": [
    {
     "data": {
      "text/plain": [
       "2\n",
       "0.000000    41970\n",
       "0.333333     3000\n",
       "0.666667     1360\n",
       "1.000000     1323\n",
       "0.250000       96\n",
       "0.500000       27\n",
       "0.200000       22\n",
       "0.750000        9\n",
       "0.600000        8\n",
       "0.400000        8\n",
       "0.800000        4\n",
       "0.166667        3\n",
       "Name: count, dtype: int64"
      ]
     },
     "execution_count": 14,
     "metadata": {},
     "output_type": "execute_result"
    }
   ],
   "source": [
    "crowd_ann_data[2].value_counts()"
   ]
  },
  {
   "cell_type": "markdown",
   "id": "43a5a8aa",
   "metadata": {},
   "source": [
    "В данных наблюдается сильный дисбаланс данных в сторону 0."
   ]
  },
  {
   "cell_type": "markdown",
   "id": "409d9e08",
   "metadata": {},
   "source": [
    "**Объеденение данных.**"
   ]
  },
  {
   "cell_type": "markdown",
   "id": "e4454683",
   "metadata": {},
   "source": [
    "Данных с разметкой от краудсорсинга в 8 раз больше, чем от экспертов. Поэтому стоит рассматривать метки от экспертов лишь как частичное дополнение данных с лучшим качеством.\n",
    "\n",
    "Данные от экспертов и от краудсорсинга могут не совпадать. Поэтому два датасета сливаются методом outer с помощью функциии merge()."
   ]
  },
  {
   "cell_type": "code",
   "execution_count": 15,
   "id": "7b40c21f",
   "metadata": {
    "scrolled": false
   },
   "outputs": [
    {
     "data": {
      "text/html": [
       "<div>\n",
       "<style scoped>\n",
       "    .dataframe tbody tr th:only-of-type {\n",
       "        vertical-align: middle;\n",
       "    }\n",
       "\n",
       "    .dataframe tbody tr th {\n",
       "        vertical-align: top;\n",
       "    }\n",
       "\n",
       "    .dataframe thead th {\n",
       "        text-align: right;\n",
       "    }\n",
       "</style>\n",
       "<table border=\"1\" class=\"dataframe\">\n",
       "  <thead>\n",
       "    <tr style=\"text-align: right;\">\n",
       "      <th></th>\n",
       "      <th>0</th>\n",
       "      <th>1</th>\n",
       "      <th>2_x</th>\n",
       "      <th>3_x</th>\n",
       "      <th>4_x</th>\n",
       "      <th>2_y</th>\n",
       "      <th>3_y</th>\n",
       "      <th>4_y</th>\n",
       "      <th>5</th>\n",
       "    </tr>\n",
       "  </thead>\n",
       "  <tbody>\n",
       "    <tr>\n",
       "      <th>0</th>\n",
       "      <td>1056338697_4f7d7ce270.jpg</td>\n",
       "      <td>2549968784_39bfbe44f9.jpg#2</td>\n",
       "      <td>0.25</td>\n",
       "      <td>0.25</td>\n",
       "      <td>0.25</td>\n",
       "      <td>0.0</td>\n",
       "      <td>0.0</td>\n",
       "      <td>3.0</td>\n",
       "      <td>3.0</td>\n",
       "    </tr>\n",
       "    <tr>\n",
       "      <th>1</th>\n",
       "      <td>1056338697_4f7d7ce270.jpg</td>\n",
       "      <td>2718495608_d8533e3ac5.jpg#2</td>\n",
       "      <td>0.25</td>\n",
       "      <td>0.25</td>\n",
       "      <td>0.50</td>\n",
       "      <td>0.0</td>\n",
       "      <td>0.0</td>\n",
       "      <td>3.0</td>\n",
       "      <td>3.0</td>\n",
       "    </tr>\n",
       "    <tr>\n",
       "      <th>2</th>\n",
       "      <td>1056338697_4f7d7ce270.jpg</td>\n",
       "      <td>3181701312_70a379ab6e.jpg#2</td>\n",
       "      <td>0.25</td>\n",
       "      <td>0.25</td>\n",
       "      <td>0.50</td>\n",
       "      <td>NaN</td>\n",
       "      <td>NaN</td>\n",
       "      <td>NaN</td>\n",
       "      <td>NaN</td>\n",
       "    </tr>\n",
       "    <tr>\n",
       "      <th>3</th>\n",
       "      <td>1056338697_4f7d7ce270.jpg</td>\n",
       "      <td>3207358897_bfa61fa3c6.jpg#2</td>\n",
       "      <td>0.25</td>\n",
       "      <td>0.50</td>\n",
       "      <td>0.50</td>\n",
       "      <td>NaN</td>\n",
       "      <td>NaN</td>\n",
       "      <td>NaN</td>\n",
       "      <td>NaN</td>\n",
       "    </tr>\n",
       "    <tr>\n",
       "      <th>4</th>\n",
       "      <td>1056338697_4f7d7ce270.jpg</td>\n",
       "      <td>3286822339_5535af6b93.jpg#2</td>\n",
       "      <td>0.25</td>\n",
       "      <td>0.25</td>\n",
       "      <td>0.50</td>\n",
       "      <td>NaN</td>\n",
       "      <td>NaN</td>\n",
       "      <td>NaN</td>\n",
       "      <td>NaN</td>\n",
       "    </tr>\n",
       "  </tbody>\n",
       "</table>\n",
       "</div>"
      ],
      "text/plain": [
       "                           0                            1   2_x   3_x   4_x  \\\n",
       "0  1056338697_4f7d7ce270.jpg  2549968784_39bfbe44f9.jpg#2  0.25  0.25  0.25   \n",
       "1  1056338697_4f7d7ce270.jpg  2718495608_d8533e3ac5.jpg#2  0.25  0.25  0.50   \n",
       "2  1056338697_4f7d7ce270.jpg  3181701312_70a379ab6e.jpg#2  0.25  0.25  0.50   \n",
       "3  1056338697_4f7d7ce270.jpg  3207358897_bfa61fa3c6.jpg#2  0.25  0.50  0.50   \n",
       "4  1056338697_4f7d7ce270.jpg  3286822339_5535af6b93.jpg#2  0.25  0.25  0.50   \n",
       "\n",
       "   2_y  3_y  4_y    5  \n",
       "0  0.0  0.0  3.0  3.0  \n",
       "1  0.0  0.0  3.0  3.0  \n",
       "2  NaN  NaN  NaN  NaN  \n",
       "3  NaN  NaN  NaN  NaN  \n",
       "4  NaN  NaN  NaN  NaN  "
      ]
     },
     "execution_count": 15,
     "metadata": {},
     "output_type": "execute_result"
    }
   ],
   "source": [
    "full_data = pd.merge(expert_ann_data, crowd_ann_data, on=[0, 1], how='outer')\n",
    "full_data.head()"
   ]
  },
  {
   "cell_type": "markdown",
   "id": "ac6e0232",
   "metadata": {},
   "source": [
    "Из общего набора данных видно, что размеченные данные можно разделить на 3 группы. \n",
    "- 1-я группа: есть разметка и от экспертов и от краудсорсинга;\n",
    "- 2-я группа: есть разметка только от краудсорсинга;\n",
    "- 3-я группа: есть разметка только от экспертов."
   ]
  },
  {
   "cell_type": "markdown",
   "id": "63570c5e",
   "metadata": {},
   "source": [
    "**Определение вероятности полной корреляции изображения и описания к нему.**"
   ]
  },
  {
   "cell_type": "markdown",
   "id": "ee269f6f",
   "metadata": {},
   "source": [
    "Для учета разметок данных и от краудсорсинга и от экспертов все пропуски заменяются на 0, а вес для взвешенного среднего от краудсорсинга принимается равным:\n",
    "- w_0=0.1\n",
    "\n",
    "Данное решение будет немного занижать значение предсказаний 2-й и 3-й групп."
   ]
  },
  {
   "cell_type": "code",
   "execution_count": 16,
   "id": "23c19033",
   "metadata": {},
   "outputs": [
    {
     "data": {
      "text/html": [
       "<div>\n",
       "<style scoped>\n",
       "    .dataframe tbody tr th:only-of-type {\n",
       "        vertical-align: middle;\n",
       "    }\n",
       "\n",
       "    .dataframe tbody tr th {\n",
       "        vertical-align: top;\n",
       "    }\n",
       "\n",
       "    .dataframe thead th {\n",
       "        text-align: right;\n",
       "    }\n",
       "</style>\n",
       "<table border=\"1\" class=\"dataframe\">\n",
       "  <thead>\n",
       "    <tr style=\"text-align: right;\">\n",
       "      <th></th>\n",
       "      <th>0</th>\n",
       "      <th>1</th>\n",
       "      <th>2_x</th>\n",
       "      <th>3_x</th>\n",
       "      <th>4_x</th>\n",
       "      <th>2_y</th>\n",
       "      <th>3_y</th>\n",
       "      <th>4_y</th>\n",
       "      <th>5</th>\n",
       "    </tr>\n",
       "  </thead>\n",
       "  <tbody>\n",
       "    <tr>\n",
       "      <th>0</th>\n",
       "      <td>1056338697_4f7d7ce270.jpg</td>\n",
       "      <td>2549968784_39bfbe44f9.jpg#2</td>\n",
       "      <td>0.25</td>\n",
       "      <td>0.25</td>\n",
       "      <td>0.25</td>\n",
       "      <td>0.0</td>\n",
       "      <td>0.0</td>\n",
       "      <td>3.0</td>\n",
       "      <td>3.0</td>\n",
       "    </tr>\n",
       "    <tr>\n",
       "      <th>1</th>\n",
       "      <td>1056338697_4f7d7ce270.jpg</td>\n",
       "      <td>2718495608_d8533e3ac5.jpg#2</td>\n",
       "      <td>0.25</td>\n",
       "      <td>0.25</td>\n",
       "      <td>0.50</td>\n",
       "      <td>0.0</td>\n",
       "      <td>0.0</td>\n",
       "      <td>3.0</td>\n",
       "      <td>3.0</td>\n",
       "    </tr>\n",
       "    <tr>\n",
       "      <th>2</th>\n",
       "      <td>1056338697_4f7d7ce270.jpg</td>\n",
       "      <td>3181701312_70a379ab6e.jpg#2</td>\n",
       "      <td>0.25</td>\n",
       "      <td>0.25</td>\n",
       "      <td>0.50</td>\n",
       "      <td>0.0</td>\n",
       "      <td>0.0</td>\n",
       "      <td>0.0</td>\n",
       "      <td>0.0</td>\n",
       "    </tr>\n",
       "    <tr>\n",
       "      <th>3</th>\n",
       "      <td>1056338697_4f7d7ce270.jpg</td>\n",
       "      <td>3207358897_bfa61fa3c6.jpg#2</td>\n",
       "      <td>0.25</td>\n",
       "      <td>0.50</td>\n",
       "      <td>0.50</td>\n",
       "      <td>0.0</td>\n",
       "      <td>0.0</td>\n",
       "      <td>0.0</td>\n",
       "      <td>0.0</td>\n",
       "    </tr>\n",
       "    <tr>\n",
       "      <th>4</th>\n",
       "      <td>1056338697_4f7d7ce270.jpg</td>\n",
       "      <td>3286822339_5535af6b93.jpg#2</td>\n",
       "      <td>0.25</td>\n",
       "      <td>0.25</td>\n",
       "      <td>0.50</td>\n",
       "      <td>0.0</td>\n",
       "      <td>0.0</td>\n",
       "      <td>0.0</td>\n",
       "      <td>0.0</td>\n",
       "    </tr>\n",
       "  </tbody>\n",
       "</table>\n",
       "</div>"
      ],
      "text/plain": [
       "                           0                            1   2_x   3_x   4_x  \\\n",
       "0  1056338697_4f7d7ce270.jpg  2549968784_39bfbe44f9.jpg#2  0.25  0.25  0.25   \n",
       "1  1056338697_4f7d7ce270.jpg  2718495608_d8533e3ac5.jpg#2  0.25  0.25  0.50   \n",
       "2  1056338697_4f7d7ce270.jpg  3181701312_70a379ab6e.jpg#2  0.25  0.25  0.50   \n",
       "3  1056338697_4f7d7ce270.jpg  3207358897_bfa61fa3c6.jpg#2  0.25  0.50  0.50   \n",
       "4  1056338697_4f7d7ce270.jpg  3286822339_5535af6b93.jpg#2  0.25  0.25  0.50   \n",
       "\n",
       "   2_y  3_y  4_y    5  \n",
       "0  0.0  0.0  3.0  3.0  \n",
       "1  0.0  0.0  3.0  3.0  \n",
       "2  0.0  0.0  0.0  0.0  \n",
       "3  0.0  0.0  0.0  0.0  \n",
       "4  0.0  0.0  0.0  0.0  "
      ]
     },
     "execution_count": 16,
     "metadata": {},
     "output_type": "execute_result"
    }
   ],
   "source": [
    "full_data = full_data.fillna(0)\n",
    "full_data.head()"
   ]
  },
  {
   "cell_type": "code",
   "execution_count": 17,
   "id": "9d73d32e",
   "metadata": {},
   "outputs": [],
   "source": [
    "#Определение весов взвешенного среднего для определения общей вероятности. \n",
    "w_0 = 0.1"
   ]
  },
  {
   "cell_type": "code",
   "execution_count": 18,
   "id": "8400c62a",
   "metadata": {},
   "outputs": [],
   "source": [
    "#Функция для определения общей вероятности совпадения описания и картинки на основании разметки экспертов.\n",
    "def proba_pict (row):\n",
    "\n",
    "    proba = (row['2_x'] * w_1 + row['3_x']*w_2 + row['4_x']*w_3 + row['2_y']*w_0) / (w_1 + w_2 + w_3 + w_0)\n",
    "    proba=round(proba, 2)\n",
    "    return proba\n"
   ]
  },
  {
   "cell_type": "code",
   "execution_count": 19,
   "id": "1889eb45",
   "metadata": {
    "scrolled": false
   },
   "outputs": [
    {
     "data": {
      "text/plain": [
       "array([0.23, 0.34, 0.41, 0.45, 0.52, 0.67, 0.57, 0.64, 0.6 , 0.68, 0.78,\n",
       "       0.97, 0.75, 0.95, 1.  , 0.77, 0.63, 0.48, 0.8 , 0.89, 0.74, 0.37,\n",
       "       0.44, 0.7 , 0.71, 0.83, 0.59, 0.81, 0.86, 0.84, 0.58, 0.55, 0.94,\n",
       "       0.66, 0.92, 0.73, 0.91, 0.72, 0.85, 0.47, 0.62, 0.65, 0.5 , 0.87,\n",
       "       0.26, 0.43, 0.88, 0.61, 0.36, 0.09, 0.  , 0.03, 0.06, 0.02, 0.05,\n",
       "       0.04, 0.07])"
      ]
     },
     "execution_count": 19,
     "metadata": {},
     "output_type": "execute_result"
    }
   ],
   "source": [
    "full_data['overal_proba'] = full_data.apply(proba_pict, axis = 1)\n",
    "full_data['overal_proba'].unique()"
   ]
  },
  {
   "cell_type": "code",
   "execution_count": 20,
   "id": "be26d6a6",
   "metadata": {
    "scrolled": false
   },
   "outputs": [
    {
     "data": {
      "image/png": "[encoded data removed]",
      "text/plain": [
       "<Figure size 1000x600 with 1 Axes>"
      ]
     },
     "metadata": {},
     "output_type": "display_data"
    }
   ],
   "source": [
    "# Построение гистограммы распределения вероятностей.\n",
    "plt.figure(figsize=(10, 6))  # Установим размер фигуры\n",
    "plt.hist(full_data['overal_proba'], bins = 100)\n",
    "plt.title('Распределение вероятностей соответствия картинки тексту.')\n",
    "plt.xlabel('Значения')  # Подпись оси X\n",
    "plt.ylabel('Количество')  # Подпись оси Y\n",
    "plt.show()\n"
   ]
  },
  {
   "cell_type": "code",
   "execution_count": 21,
   "id": "f283b866",
   "metadata": {
    "scrolled": true
   },
   "outputs": [
    {
     "data": {
      "text/html": [
       "<div>\n",
       "<style scoped>\n",
       "    .dataframe tbody tr th:only-of-type {\n",
       "        vertical-align: middle;\n",
       "    }\n",
       "\n",
       "    .dataframe tbody tr th {\n",
       "        vertical-align: top;\n",
       "    }\n",
       "\n",
       "    .dataframe thead th {\n",
       "        text-align: right;\n",
       "    }\n",
       "</style>\n",
       "<table border=\"1\" class=\"dataframe\">\n",
       "  <thead>\n",
       "    <tr style=\"text-align: right;\">\n",
       "      <th></th>\n",
       "      <th>0</th>\n",
       "      <th>1</th>\n",
       "      <th>overal_proba</th>\n",
       "    </tr>\n",
       "  </thead>\n",
       "  <tbody>\n",
       "    <tr>\n",
       "      <th>0</th>\n",
       "      <td>1056338697_4f7d7ce270.jpg</td>\n",
       "      <td>2549968784_39bfbe44f9.jpg#2</td>\n",
       "      <td>0.23</td>\n",
       "    </tr>\n",
       "    <tr>\n",
       "      <th>1</th>\n",
       "      <td>1056338697_4f7d7ce270.jpg</td>\n",
       "      <td>2718495608_d8533e3ac5.jpg#2</td>\n",
       "      <td>0.34</td>\n",
       "    </tr>\n",
       "    <tr>\n",
       "      <th>2</th>\n",
       "      <td>1056338697_4f7d7ce270.jpg</td>\n",
       "      <td>3181701312_70a379ab6e.jpg#2</td>\n",
       "      <td>0.34</td>\n",
       "    </tr>\n",
       "    <tr>\n",
       "      <th>3</th>\n",
       "      <td>1056338697_4f7d7ce270.jpg</td>\n",
       "      <td>3207358897_bfa61fa3c6.jpg#2</td>\n",
       "      <td>0.41</td>\n",
       "    </tr>\n",
       "    <tr>\n",
       "      <th>4</th>\n",
       "      <td>1056338697_4f7d7ce270.jpg</td>\n",
       "      <td>3286822339_5535af6b93.jpg#2</td>\n",
       "      <td>0.34</td>\n",
       "    </tr>\n",
       "  </tbody>\n",
       "</table>\n",
       "</div>"
      ],
      "text/plain": [
       "                           0                            1  overal_proba\n",
       "0  1056338697_4f7d7ce270.jpg  2549968784_39bfbe44f9.jpg#2          0.23\n",
       "1  1056338697_4f7d7ce270.jpg  2718495608_d8533e3ac5.jpg#2          0.34\n",
       "2  1056338697_4f7d7ce270.jpg  3181701312_70a379ab6e.jpg#2          0.34\n",
       "3  1056338697_4f7d7ce270.jpg  3207358897_bfa61fa3c6.jpg#2          0.41\n",
       "4  1056338697_4f7d7ce270.jpg  3286822339_5535af6b93.jpg#2          0.34"
      ]
     },
     "execution_count": 21,
     "metadata": {},
     "output_type": "execute_result"
    }
   ],
   "source": [
    "full_data = full_data[[0, 1, 'overal_proba']]\n",
    "full_data.head()"
   ]
  },
  {
   "cell_type": "markdown",
   "id": "3ae81a93",
   "metadata": {},
   "source": [
    "<div class=\"alert\" style=\"background-color:#ead7f7;color:#8737bf\">\n",
    "    <font size=\"3\"><b>Комментария студента</b></font>\n",
    "   \n",
    "На первый взгляд мы имеем задачу классификации - необходимо предсказать соответствует ли описание изображению или нет. Вероятность моджет быть определена методом predict_proba() в задаче классификации. Из этого суждения следует сформировать два класса в целевом признаке и решать задачу классификации.\n",
    "    \n",
    "Однако на данном шаге, я делаю предположение о том, что целевой признак лучше оставить дробным значением, которое будет показывать вероятность соотвтетствия картинки и изображения. После чего на базе обученных вероятностей, делать предсказания вероятностей на тестовой выборке. Ниже будет решаться задача регрессии."
   ]
  },
  {
   "cell_type": "markdown",
   "id": "f93487e1",
   "metadata": {},
   "source": [
    "**Вывод:**\n",
    "Данные преобразованы в соответсвтии с заданием. Для каждой пары изображение-описание рассчитана вероятность правильного мэтчинга.\n",
    "\n",
    "Также в данных наблюдается сильный дисбаланс в сторону описаний, которые полностью не соответствуют изображениям, и имеют вероятность 0."
   ]
  },
  {
   "cell_type": "markdown",
   "id": "7cbaa861",
   "metadata": {
    "cellId": "9h91oxwx86d7i8rqt5miv4",
    "execution_id": "4401a0e8-fd2b-479b-9e84-6ffafbcead47",
    "id": "7cbaa861"
   },
   "source": [
    "## Проверка данных\n",
    "\n",
    "В некоторых странах, где работает ваша компания, действуют ограничения по обработке изображений: поисковым сервисам и сервисам, предоставляющим возможность поиска, запрещено без разрешения родителей или законных представителей предоставлять любую информацию, в том числе, но не исключительно тексты, изображения, видео и аудио, содержащие описание, изображение или запись голоса детей. Ребёнком считается любой человек, не достигший 16 лет.\n",
    "\n",
    "В вашем сервисе строго следуют законам стран, в которых работают. Поэтому при попытке посмотреть изображения, запрещённые законодательством, вместо картинок показывается дисклеймер:\n",
    "\n",
    "> This image is unavailable in your country in compliance with local laws\n",
    ">\n",
    "\n",
    "Однако у вас в PoC нет возможности воспользоваться данным функционалом. Поэтому все изображения, которые нарушают данный закон, нужно удалить из обучающей выборки."
   ]
  },
  {
   "cell_type": "markdown",
   "id": "96f984c5",
   "metadata": {},
   "source": [
    "Для выполнени этого требования данные проходят по следующему фильтру:\n",
    "Если в описании к изображению есть ключевые слова из списка child_key_words, то данные позиции не учитываются в датафрейме."
   ]
  },
  {
   "cell_type": "code",
   "execution_count": 22,
   "id": "46b59c90",
   "metadata": {},
   "outputs": [
    {
     "data": {
      "text/html": [
       "<div>\n",
       "<style scoped>\n",
       "    .dataframe tbody tr th:only-of-type {\n",
       "        vertical-align: middle;\n",
       "    }\n",
       "\n",
       "    .dataframe tbody tr th {\n",
       "        vertical-align: top;\n",
       "    }\n",
       "\n",
       "    .dataframe thead th {\n",
       "        text-align: right;\n",
       "    }\n",
       "</style>\n",
       "<table border=\"1\" class=\"dataframe\">\n",
       "  <thead>\n",
       "    <tr style=\"text-align: right;\">\n",
       "      <th></th>\n",
       "      <th>image</th>\n",
       "      <th>query_id</th>\n",
       "      <th>query_text</th>\n",
       "    </tr>\n",
       "  </thead>\n",
       "  <tbody>\n",
       "    <tr>\n",
       "      <th>0</th>\n",
       "      <td>1056338697_4f7d7ce270.jpg</td>\n",
       "      <td>2549968784_39bfbe44f9.jpg#2</td>\n",
       "      <td>A young child is wearing blue goggles and sitt...</td>\n",
       "    </tr>\n",
       "    <tr>\n",
       "      <th>1</th>\n",
       "      <td>1262583859_653f1469a9.jpg</td>\n",
       "      <td>2549968784_39bfbe44f9.jpg#2</td>\n",
       "      <td>A young child is wearing blue goggles and sitt...</td>\n",
       "    </tr>\n",
       "    <tr>\n",
       "      <th>2</th>\n",
       "      <td>2447284966_d6bbdb4b6e.jpg</td>\n",
       "      <td>2549968784_39bfbe44f9.jpg#2</td>\n",
       "      <td>A young child is wearing blue goggles and sitt...</td>\n",
       "    </tr>\n",
       "    <tr>\n",
       "      <th>3</th>\n",
       "      <td>2549968784_39bfbe44f9.jpg</td>\n",
       "      <td>2549968784_39bfbe44f9.jpg#2</td>\n",
       "      <td>A young child is wearing blue goggles and sitt...</td>\n",
       "    </tr>\n",
       "    <tr>\n",
       "      <th>4</th>\n",
       "      <td>2621415349_ef1a7e73be.jpg</td>\n",
       "      <td>2549968784_39bfbe44f9.jpg#2</td>\n",
       "      <td>A young child is wearing blue goggles and sitt...</td>\n",
       "    </tr>\n",
       "    <tr>\n",
       "      <th>...</th>\n",
       "      <td>...</td>\n",
       "      <td>...</td>\n",
       "      <td>...</td>\n",
       "    </tr>\n",
       "    <tr>\n",
       "      <th>5817</th>\n",
       "      <td>757046028_ff5999f91b.jpg</td>\n",
       "      <td>2061144717_5b3a1864f0.jpg#2</td>\n",
       "      <td>A man in an ampitheater talking to a boy .</td>\n",
       "    </tr>\n",
       "    <tr>\n",
       "      <th>5818</th>\n",
       "      <td>799486353_f665d7b0f0.jpg</td>\n",
       "      <td>2196107384_361d73a170.jpg#2</td>\n",
       "      <td>a old man walks down the uncrowded road .</td>\n",
       "    </tr>\n",
       "    <tr>\n",
       "      <th>5819</th>\n",
       "      <td>909808296_23c427022d.jpg</td>\n",
       "      <td>2112921744_92bf706805.jpg#2</td>\n",
       "      <td>A dog stands on the side of a grassy cliff .</td>\n",
       "    </tr>\n",
       "    <tr>\n",
       "      <th>5820</th>\n",
       "      <td>929679367_ff8c7df2ee.jpg</td>\n",
       "      <td>3651971126_309e6a5e22.jpg#2</td>\n",
       "      <td>A blurry photo of two dogs .</td>\n",
       "    </tr>\n",
       "    <tr>\n",
       "      <th>5821</th>\n",
       "      <td>968081289_cdba83ce2e.jpg</td>\n",
       "      <td>2292406847_f366350600.jpg#2</td>\n",
       "      <td>A man rows his boat below .</td>\n",
       "    </tr>\n",
       "  </tbody>\n",
       "</table>\n",
       "<p>5822 rows × 3 columns</p>\n",
       "</div>"
      ],
      "text/plain": [
       "                          image                     query_id  \\\n",
       "0     1056338697_4f7d7ce270.jpg  2549968784_39bfbe44f9.jpg#2   \n",
       "1     1262583859_653f1469a9.jpg  2549968784_39bfbe44f9.jpg#2   \n",
       "2     2447284966_d6bbdb4b6e.jpg  2549968784_39bfbe44f9.jpg#2   \n",
       "3     2549968784_39bfbe44f9.jpg  2549968784_39bfbe44f9.jpg#2   \n",
       "4     2621415349_ef1a7e73be.jpg  2549968784_39bfbe44f9.jpg#2   \n",
       "...                         ...                          ...   \n",
       "5817   757046028_ff5999f91b.jpg  2061144717_5b3a1864f0.jpg#2   \n",
       "5818   799486353_f665d7b0f0.jpg  2196107384_361d73a170.jpg#2   \n",
       "5819   909808296_23c427022d.jpg  2112921744_92bf706805.jpg#2   \n",
       "5820   929679367_ff8c7df2ee.jpg  3651971126_309e6a5e22.jpg#2   \n",
       "5821   968081289_cdba83ce2e.jpg  2292406847_f366350600.jpg#2   \n",
       "\n",
       "                                             query_text  \n",
       "0     A young child is wearing blue goggles and sitt...  \n",
       "1     A young child is wearing blue goggles and sitt...  \n",
       "2     A young child is wearing blue goggles and sitt...  \n",
       "3     A young child is wearing blue goggles and sitt...  \n",
       "4     A young child is wearing blue goggles and sitt...  \n",
       "...                                                 ...  \n",
       "5817         A man in an ampitheater talking to a boy .  \n",
       "5818          a old man walks down the uncrowded road .  \n",
       "5819       A dog stands on the side of a grassy cliff .  \n",
       "5820                       A blurry photo of two dogs .  \n",
       "5821                        A man rows his boat below .  \n",
       "\n",
       "[5822 rows x 3 columns]"
      ]
     },
     "execution_count": 22,
     "metadata": {},
     "output_type": "execute_result"
    }
   ],
   "source": [
    "train_data"
   ]
  },
  {
   "cell_type": "code",
   "execution_count": 23,
   "id": "7edb12da",
   "metadata": {},
   "outputs": [],
   "source": [
    "child_key_words = [\n",
    "    'child', 'boy', 'girl', 'pupil',\n",
    "    'kid','schoolboy', 'schoolgirl',  \n",
    "    'kindergarten', 'nursery', 'preschool', \n",
    "    'youngster'\n",
    "]"
   ]
  },
  {
   "cell_type": "code",
   "execution_count": 24,
   "id": "eb6bc243",
   "metadata": {},
   "outputs": [],
   "source": [
    "def child_photo(row):\n",
    "    for i in child_key_words:\n",
    "        if i in row['query_text']:\n",
    "            return 'high probability'"
   ]
  },
  {
   "cell_type": "code",
   "execution_count": 25,
   "id": "b352d2cd",
   "metadata": {
    "cellId": "6j23jr8qr9wgyyqkm2puj",
    "id": "b352d2cd",
    "scrolled": true
   },
   "outputs": [],
   "source": [
    "train_data['child_proba'] = train_data.apply(child_photo, axis = 1)\n"
   ]
  },
  {
   "cell_type": "code",
   "execution_count": 26,
   "id": "ff974745",
   "metadata": {
    "scrolled": false
   },
   "outputs": [
    {
     "data": {
      "text/plain": [
       "child_proba\n",
       "high probability    1431\n",
       "Name: count, dtype: int64"
      ]
     },
     "execution_count": 26,
     "metadata": {},
     "output_type": "execute_result"
    }
   ],
   "source": [
    "train_data['child_proba'].value_counts()"
   ]
  },
  {
   "cell_type": "markdown",
   "id": "dead20fd",
   "metadata": {},
   "source": [
    "В соответствии с законодательством, 25% данных должно быть удалено."
   ]
  },
  {
   "cell_type": "code",
   "execution_count": 27,
   "id": "9c7eb074",
   "metadata": {
    "scrolled": false
   },
   "outputs": [
    {
     "data": {
      "text/html": [
       "<div>\n",
       "<style scoped>\n",
       "    .dataframe tbody tr th:only-of-type {\n",
       "        vertical-align: middle;\n",
       "    }\n",
       "\n",
       "    .dataframe tbody tr th {\n",
       "        vertical-align: top;\n",
       "    }\n",
       "\n",
       "    .dataframe thead th {\n",
       "        text-align: right;\n",
       "    }\n",
       "</style>\n",
       "<table border=\"1\" class=\"dataframe\">\n",
       "  <thead>\n",
       "    <tr style=\"text-align: right;\">\n",
       "      <th></th>\n",
       "      <th>image</th>\n",
       "      <th>query_id</th>\n",
       "      <th>query_text</th>\n",
       "    </tr>\n",
       "  </thead>\n",
       "  <tbody>\n",
       "    <tr>\n",
       "      <th>22</th>\n",
       "      <td>1056338697_4f7d7ce270.jpg</td>\n",
       "      <td>3181701312_70a379ab6e.jpg#2</td>\n",
       "      <td>A man sleeps under a blanket on a city street .</td>\n",
       "    </tr>\n",
       "    <tr>\n",
       "      <th>23</th>\n",
       "      <td>3187395715_f2940c2b72.jpg</td>\n",
       "      <td>3181701312_70a379ab6e.jpg#2</td>\n",
       "      <td>A man sleeps under a blanket on a city street .</td>\n",
       "    </tr>\n",
       "    <tr>\n",
       "      <th>24</th>\n",
       "      <td>463978865_c87c6ca84c.jpg</td>\n",
       "      <td>3181701312_70a379ab6e.jpg#2</td>\n",
       "      <td>A man sleeps under a blanket on a city street .</td>\n",
       "    </tr>\n",
       "    <tr>\n",
       "      <th>25</th>\n",
       "      <td>488590040_35a3e96c89.jpg</td>\n",
       "      <td>3181701312_70a379ab6e.jpg#2</td>\n",
       "      <td>A man sleeps under a blanket on a city street .</td>\n",
       "    </tr>\n",
       "    <tr>\n",
       "      <th>26</th>\n",
       "      <td>534875358_6ea30d3091.jpg</td>\n",
       "      <td>3181701312_70a379ab6e.jpg#2</td>\n",
       "      <td>A man sleeps under a blanket on a city street .</td>\n",
       "    </tr>\n",
       "  </tbody>\n",
       "</table>\n",
       "</div>"
      ],
      "text/plain": [
       "                        image                     query_id  \\\n",
       "22  1056338697_4f7d7ce270.jpg  3181701312_70a379ab6e.jpg#2   \n",
       "23  3187395715_f2940c2b72.jpg  3181701312_70a379ab6e.jpg#2   \n",
       "24   463978865_c87c6ca84c.jpg  3181701312_70a379ab6e.jpg#2   \n",
       "25   488590040_35a3e96c89.jpg  3181701312_70a379ab6e.jpg#2   \n",
       "26   534875358_6ea30d3091.jpg  3181701312_70a379ab6e.jpg#2   \n",
       "\n",
       "                                         query_text  \n",
       "22  A man sleeps under a blanket on a city street .  \n",
       "23  A man sleeps under a blanket on a city street .  \n",
       "24  A man sleeps under a blanket on a city street .  \n",
       "25  A man sleeps under a blanket on a city street .  \n",
       "26  A man sleeps under a blanket on a city street .  "
      ]
     },
     "execution_count": 27,
     "metadata": {},
     "output_type": "execute_result"
    }
   ],
   "source": [
    "train_data = train_data[train_data['child_proba'] != 'high probability']\n",
    "train_data = train_data[['image', 'query_id', 'query_text']]\n",
    "train_data.head()"
   ]
  },
  {
   "cell_type": "markdown",
   "id": "4f44bd76",
   "metadata": {},
   "source": [
    "**Вывод:** Обучающие данные с изображением детей исключены из датасета."
   ]
  },
  {
   "cell_type": "markdown",
   "id": "45ba7f36",
   "metadata": {},
   "source": [
    "<div class=\"alert\" style=\"background-color:#ead7f7;color:#8737bf\">\n",
    "    <font size=\"3\"><b>Комментария студента</b></font>\n",
    "   \n",
    "Это самый простой и интуитивный способо, который можно предложить. Однако из предыдущего спринта у меня уже есть обученная модель, способная определять возраст людей. Имеет ли смысл встроить в модель - другую модель, чтобы отсеить фотографии детей из датасета? Или отдельно возможно даже прогнать ланные, которые у меня есть, через уже сузествующу. модель и сюда их выгрузить?"
   ]
  },
  {
   "cell_type": "markdown",
   "id": "1d4ef807",
   "metadata": {
    "cellId": "ggxcvhmhcm9rshysbjoo4n",
    "execution_id": "d7935f99-48c0-42b8-a227-dd2b2d9b70fc",
    "id": "1d4ef807"
   },
   "source": [
    "## Векторизация изображений\n",
    "\n",
    "Перейдём к векторизации изображений.\n",
    "\n",
    "Самый примитивный способ — прочесть изображение и превратить полученную матрицу в вектор. Такой способ нам не подходит: длина векторов может быть сильно разной, так как размеры изображений разные. Поэтому стоит обратиться к свёрточным сетям: они позволяют \"выделить\" главные компоненты изображений. Как это сделать? Нужно выбрать какую-либо архитектуру, например ResNet-18, посмотреть на слои и исключить полносвязные слои, которые отвечают за конечное предсказание. При этом можно загрузить модель данной архитектуры, предварительно натренированную на датасете ImageNet."
   ]
  },
  {
   "cell_type": "code",
   "execution_count": 28,
   "id": "c495363d",
   "metadata": {
    "scrolled": true
   },
   "outputs": [
    {
     "name": "stderr",
     "output_type": "stream",
     "text": [
      "/Users/maksimgorskov/anaconda3/lib/python3.11/site-packages/torchvision/models/_utils.py:208: UserWarning: The parameter 'pretrained' is deprecated since 0.13 and may be removed in the future, please use 'weights' instead.\n",
      "  warnings.warn(\n",
      "/Users/maksimgorskov/anaconda3/lib/python3.11/site-packages/torchvision/models/_utils.py:223: UserWarning: Arguments other than a weight enum or `None` for 'weights' are deprecated since 0.13 and may be removed in the future. The current behavior is equivalent to passing `weights=ResNet18_Weights.IMAGENET1K_V1`. You can also use `weights=ResNet18_Weights.DEFAULT` to get the most up-to-date weights.\n",
      "  warnings.warn(msg)\n"
     ]
    }
   ],
   "source": [
    "#Загрузка претренировочной модели\n",
    "resnet = models.resnet18(pretrained=True)"
   ]
  },
  {
   "cell_type": "code",
   "execution_count": 29,
   "id": "ebc3bd17",
   "metadata": {},
   "outputs": [],
   "source": [
    "for param in resnet.parameters():\n",
    "    param.requires_grad_(False) "
   ]
  },
  {
   "cell_type": "code",
   "execution_count": 30,
   "id": "d8281e6d",
   "metadata": {
    "scrolled": true
   },
   "outputs": [
    {
     "name": "stdout",
     "output_type": "stream",
     "text": [
      "[Conv2d(3, 64, kernel_size=(7, 7), stride=(2, 2), padding=(3, 3), bias=False), BatchNorm2d(64, eps=1e-05, momentum=0.1, affine=True, track_running_stats=True), ReLU(inplace=True), MaxPool2d(kernel_size=3, stride=2, padding=1, dilation=1, ceil_mode=False), Sequential(\n",
      "  (0): BasicBlock(\n",
      "    (conv1): Conv2d(64, 64, kernel_size=(3, 3), stride=(1, 1), padding=(1, 1), bias=False)\n",
      "    (bn1): BatchNorm2d(64, eps=1e-05, momentum=0.1, affine=True, track_running_stats=True)\n",
      "    (relu): ReLU(inplace=True)\n",
      "    (conv2): Conv2d(64, 64, kernel_size=(3, 3), stride=(1, 1), padding=(1, 1), bias=False)\n",
      "    (bn2): BatchNorm2d(64, eps=1e-05, momentum=0.1, affine=True, track_running_stats=True)\n",
      "  )\n",
      "  (1): BasicBlock(\n",
      "    (conv1): Conv2d(64, 64, kernel_size=(3, 3), stride=(1, 1), padding=(1, 1), bias=False)\n",
      "    (bn1): BatchNorm2d(64, eps=1e-05, momentum=0.1, affine=True, track_running_stats=True)\n",
      "    (relu): ReLU(inplace=True)\n",
      "    (conv2): Conv2d(64, 64, kernel_size=(3, 3), stride=(1, 1), padding=(1, 1), bias=False)\n",
      "    (bn2): BatchNorm2d(64, eps=1e-05, momentum=0.1, affine=True, track_running_stats=True)\n",
      "  )\n",
      "), Sequential(\n",
      "  (0): BasicBlock(\n",
      "    (conv1): Conv2d(64, 128, kernel_size=(3, 3), stride=(2, 2), padding=(1, 1), bias=False)\n",
      "    (bn1): BatchNorm2d(128, eps=1e-05, momentum=0.1, affine=True, track_running_stats=True)\n",
      "    (relu): ReLU(inplace=True)\n",
      "    (conv2): Conv2d(128, 128, kernel_size=(3, 3), stride=(1, 1), padding=(1, 1), bias=False)\n",
      "    (bn2): BatchNorm2d(128, eps=1e-05, momentum=0.1, affine=True, track_running_stats=True)\n",
      "    (downsample): Sequential(\n",
      "      (0): Conv2d(64, 128, kernel_size=(1, 1), stride=(2, 2), bias=False)\n",
      "      (1): BatchNorm2d(128, eps=1e-05, momentum=0.1, affine=True, track_running_stats=True)\n",
      "    )\n",
      "  )\n",
      "  (1): BasicBlock(\n",
      "    (conv1): Conv2d(128, 128, kernel_size=(3, 3), stride=(1, 1), padding=(1, 1), bias=False)\n",
      "    (bn1): BatchNorm2d(128, eps=1e-05, momentum=0.1, affine=True, track_running_stats=True)\n",
      "    (relu): ReLU(inplace=True)\n",
      "    (conv2): Conv2d(128, 128, kernel_size=(3, 3), stride=(1, 1), padding=(1, 1), bias=False)\n",
      "    (bn2): BatchNorm2d(128, eps=1e-05, momentum=0.1, affine=True, track_running_stats=True)\n",
      "  )\n",
      "), Sequential(\n",
      "  (0): BasicBlock(\n",
      "    (conv1): Conv2d(128, 256, kernel_size=(3, 3), stride=(2, 2), padding=(1, 1), bias=False)\n",
      "    (bn1): BatchNorm2d(256, eps=1e-05, momentum=0.1, affine=True, track_running_stats=True)\n",
      "    (relu): ReLU(inplace=True)\n",
      "    (conv2): Conv2d(256, 256, kernel_size=(3, 3), stride=(1, 1), padding=(1, 1), bias=False)\n",
      "    (bn2): BatchNorm2d(256, eps=1e-05, momentum=0.1, affine=True, track_running_stats=True)\n",
      "    (downsample): Sequential(\n",
      "      (0): Conv2d(128, 256, kernel_size=(1, 1), stride=(2, 2), bias=False)\n",
      "      (1): BatchNorm2d(256, eps=1e-05, momentum=0.1, affine=True, track_running_stats=True)\n",
      "    )\n",
      "  )\n",
      "  (1): BasicBlock(\n",
      "    (conv1): Conv2d(256, 256, kernel_size=(3, 3), stride=(1, 1), padding=(1, 1), bias=False)\n",
      "    (bn1): BatchNorm2d(256, eps=1e-05, momentum=0.1, affine=True, track_running_stats=True)\n",
      "    (relu): ReLU(inplace=True)\n",
      "    (conv2): Conv2d(256, 256, kernel_size=(3, 3), stride=(1, 1), padding=(1, 1), bias=False)\n",
      "    (bn2): BatchNorm2d(256, eps=1e-05, momentum=0.1, affine=True, track_running_stats=True)\n",
      "  )\n",
      "), Sequential(\n",
      "  (0): BasicBlock(\n",
      "    (conv1): Conv2d(256, 512, kernel_size=(3, 3), stride=(2, 2), padding=(1, 1), bias=False)\n",
      "    (bn1): BatchNorm2d(512, eps=1e-05, momentum=0.1, affine=True, track_running_stats=True)\n",
      "    (relu): ReLU(inplace=True)\n",
      "    (conv2): Conv2d(512, 512, kernel_size=(3, 3), stride=(1, 1), padding=(1, 1), bias=False)\n",
      "    (bn2): BatchNorm2d(512, eps=1e-05, momentum=0.1, affine=True, track_running_stats=True)\n",
      "    (downsample): Sequential(\n",
      "      (0): Conv2d(256, 512, kernel_size=(1, 1), stride=(2, 2), bias=False)\n",
      "      (1): BatchNorm2d(512, eps=1e-05, momentum=0.1, affine=True, track_running_stats=True)\n",
      "    )\n",
      "  )\n",
      "  (1): BasicBlock(\n",
      "    (conv1): Conv2d(512, 512, kernel_size=(3, 3), stride=(1, 1), padding=(1, 1), bias=False)\n",
      "    (bn1): BatchNorm2d(512, eps=1e-05, momentum=0.1, affine=True, track_running_stats=True)\n",
      "    (relu): ReLU(inplace=True)\n",
      "    (conv2): Conv2d(512, 512, kernel_size=(3, 3), stride=(1, 1), padding=(1, 1), bias=False)\n",
      "    (bn2): BatchNorm2d(512, eps=1e-05, momentum=0.1, affine=True, track_running_stats=True)\n",
      "  )\n",
      "), AdaptiveAvgPool2d(output_size=(1, 1)), Linear(in_features=512, out_features=1000, bias=True)]\n"
     ]
    }
   ],
   "source": [
    "print(list(resnet.children())) "
   ]
  },
  {
   "cell_type": "code",
   "execution_count": 31,
   "id": "5bd5ab0b",
   "metadata": {},
   "outputs": [],
   "source": [
    "modules = list(resnet.children())[:-2]\n",
    "resnet = nn.Sequential(*modules) "
   ]
  },
  {
   "cell_type": "code",
   "execution_count": 32,
   "id": "d5a7f297",
   "metadata": {
    "scrolled": true
   },
   "outputs": [
    {
     "data": {
      "text/plain": [
       "Sequential(\n",
       "  (0): Conv2d(3, 64, kernel_size=(7, 7), stride=(2, 2), padding=(3, 3), bias=False)\n",
       "  (1): BatchNorm2d(64, eps=1e-05, momentum=0.1, affine=True, track_running_stats=True)\n",
       "  (2): ReLU(inplace=True)\n",
       "  (3): MaxPool2d(kernel_size=3, stride=2, padding=1, dilation=1, ceil_mode=False)\n",
       "  (4): Sequential(\n",
       "    (0): BasicBlock(\n",
       "      (conv1): Conv2d(64, 64, kernel_size=(3, 3), stride=(1, 1), padding=(1, 1), bias=False)\n",
       "      (bn1): BatchNorm2d(64, eps=1e-05, momentum=0.1, affine=True, track_running_stats=True)\n",
       "      (relu): ReLU(inplace=True)\n",
       "      (conv2): Conv2d(64, 64, kernel_size=(3, 3), stride=(1, 1), padding=(1, 1), bias=False)\n",
       "      (bn2): BatchNorm2d(64, eps=1e-05, momentum=0.1, affine=True, track_running_stats=True)\n",
       "    )\n",
       "    (1): BasicBlock(\n",
       "      (conv1): Conv2d(64, 64, kernel_size=(3, 3), stride=(1, 1), padding=(1, 1), bias=False)\n",
       "      (bn1): BatchNorm2d(64, eps=1e-05, momentum=0.1, affine=True, track_running_stats=True)\n",
       "      (relu): ReLU(inplace=True)\n",
       "      (conv2): Conv2d(64, 64, kernel_size=(3, 3), stride=(1, 1), padding=(1, 1), bias=False)\n",
       "      (bn2): BatchNorm2d(64, eps=1e-05, momentum=0.1, affine=True, track_running_stats=True)\n",
       "    )\n",
       "  )\n",
       "  (5): Sequential(\n",
       "    (0): BasicBlock(\n",
       "      (conv1): Conv2d(64, 128, kernel_size=(3, 3), stride=(2, 2), padding=(1, 1), bias=False)\n",
       "      (bn1): BatchNorm2d(128, eps=1e-05, momentum=0.1, affine=True, track_running_stats=True)\n",
       "      (relu): ReLU(inplace=True)\n",
       "      (conv2): Conv2d(128, 128, kernel_size=(3, 3), stride=(1, 1), padding=(1, 1), bias=False)\n",
       "      (bn2): BatchNorm2d(128, eps=1e-05, momentum=0.1, affine=True, track_running_stats=True)\n",
       "      (downsample): Sequential(\n",
       "        (0): Conv2d(64, 128, kernel_size=(1, 1), stride=(2, 2), bias=False)\n",
       "        (1): BatchNorm2d(128, eps=1e-05, momentum=0.1, affine=True, track_running_stats=True)\n",
       "      )\n",
       "    )\n",
       "    (1): BasicBlock(\n",
       "      (conv1): Conv2d(128, 128, kernel_size=(3, 3), stride=(1, 1), padding=(1, 1), bias=False)\n",
       "      (bn1): BatchNorm2d(128, eps=1e-05, momentum=0.1, affine=True, track_running_stats=True)\n",
       "      (relu): ReLU(inplace=True)\n",
       "      (conv2): Conv2d(128, 128, kernel_size=(3, 3), stride=(1, 1), padding=(1, 1), bias=False)\n",
       "      (bn2): BatchNorm2d(128, eps=1e-05, momentum=0.1, affine=True, track_running_stats=True)\n",
       "    )\n",
       "  )\n",
       "  (6): Sequential(\n",
       "    (0): BasicBlock(\n",
       "      (conv1): Conv2d(128, 256, kernel_size=(3, 3), stride=(2, 2), padding=(1, 1), bias=False)\n",
       "      (bn1): BatchNorm2d(256, eps=1e-05, momentum=0.1, affine=True, track_running_stats=True)\n",
       "      (relu): ReLU(inplace=True)\n",
       "      (conv2): Conv2d(256, 256, kernel_size=(3, 3), stride=(1, 1), padding=(1, 1), bias=False)\n",
       "      (bn2): BatchNorm2d(256, eps=1e-05, momentum=0.1, affine=True, track_running_stats=True)\n",
       "      (downsample): Sequential(\n",
       "        (0): Conv2d(128, 256, kernel_size=(1, 1), stride=(2, 2), bias=False)\n",
       "        (1): BatchNorm2d(256, eps=1e-05, momentum=0.1, affine=True, track_running_stats=True)\n",
       "      )\n",
       "    )\n",
       "    (1): BasicBlock(\n",
       "      (conv1): Conv2d(256, 256, kernel_size=(3, 3), stride=(1, 1), padding=(1, 1), bias=False)\n",
       "      (bn1): BatchNorm2d(256, eps=1e-05, momentum=0.1, affine=True, track_running_stats=True)\n",
       "      (relu): ReLU(inplace=True)\n",
       "      (conv2): Conv2d(256, 256, kernel_size=(3, 3), stride=(1, 1), padding=(1, 1), bias=False)\n",
       "      (bn2): BatchNorm2d(256, eps=1e-05, momentum=0.1, affine=True, track_running_stats=True)\n",
       "    )\n",
       "  )\n",
       "  (7): Sequential(\n",
       "    (0): BasicBlock(\n",
       "      (conv1): Conv2d(256, 512, kernel_size=(3, 3), stride=(2, 2), padding=(1, 1), bias=False)\n",
       "      (bn1): BatchNorm2d(512, eps=1e-05, momentum=0.1, affine=True, track_running_stats=True)\n",
       "      (relu): ReLU(inplace=True)\n",
       "      (conv2): Conv2d(512, 512, kernel_size=(3, 3), stride=(1, 1), padding=(1, 1), bias=False)\n",
       "      (bn2): BatchNorm2d(512, eps=1e-05, momentum=0.1, affine=True, track_running_stats=True)\n",
       "      (downsample): Sequential(\n",
       "        (0): Conv2d(256, 512, kernel_size=(1, 1), stride=(2, 2), bias=False)\n",
       "        (1): BatchNorm2d(512, eps=1e-05, momentum=0.1, affine=True, track_running_stats=True)\n",
       "      )\n",
       "    )\n",
       "    (1): BasicBlock(\n",
       "      (conv1): Conv2d(512, 512, kernel_size=(3, 3), stride=(1, 1), padding=(1, 1), bias=False)\n",
       "      (bn1): BatchNorm2d(512, eps=1e-05, momentum=0.1, affine=True, track_running_stats=True)\n",
       "      (relu): ReLU(inplace=True)\n",
       "      (conv2): Conv2d(512, 512, kernel_size=(3, 3), stride=(1, 1), padding=(1, 1), bias=False)\n",
       "      (bn2): BatchNorm2d(512, eps=1e-05, momentum=0.1, affine=True, track_running_stats=True)\n",
       "    )\n",
       "  )\n",
       ")"
      ]
     },
     "execution_count": 32,
     "metadata": {},
     "output_type": "execute_result"
    }
   ],
   "source": [
    "resnet.eval() "
   ]
  },
  {
   "cell_type": "code",
   "execution_count": 33,
   "id": "7cd0120b",
   "metadata": {},
   "outputs": [],
   "source": [
    "norm = transforms.Normalize(\n",
    "    mean=[0.485, 0.456, 0.406], std=[0.229, 0.224, 0.225])\n",
    "preprocess = transforms.Compose([\n",
    "    transforms.Resize(256),\n",
    "    transforms.CenterCrop(224),\n",
    "    transforms.ToTensor(),\n",
    "    norm,\n",
    "]) "
   ]
  },
  {
   "cell_type": "code",
   "execution_count": 34,
   "id": "07730e11",
   "metadata": {},
   "outputs": [],
   "source": [
    "#Данные должны находиться в локальной папке \"train_images\" внутри общей директории, указанной в разделе с импортами.\n",
    "img_folder = path + 'train_images'\n",
    "\n",
    "#Функция для эмбединга одного изображения. \n",
    "def img_emb(row):\n",
    "\n",
    "    img_name=row['image']\n",
    "    img_path = os.path.join(img_folder, img_name)\n",
    "    img = Image.open(img_path).convert('RGB') \n",
    "    \n",
    "    image_tensor = preprocess(img).unsqueeze(0)\n",
    "    output_tensor = resnet(image_tensor).flatten() #Тензор спрямляется в вектор\n",
    "    return output_tensor"
   ]
  },
  {
   "cell_type": "code",
   "execution_count": 35,
   "id": "cfeb7c62",
   "metadata": {},
   "outputs": [],
   "source": [
    "train_data['embeding'] = train_data.apply(img_emb, axis=1)"
   ]
  },
  {
   "cell_type": "code",
   "execution_count": 36,
   "id": "0167b804",
   "metadata": {
    "cellId": "4wiflhqkew9mq1gq5927e",
    "id": "0167b804",
    "scrolled": true
   },
   "outputs": [
    {
     "data": {
      "text/plain": [
       "22      [tensor(1.4565), tensor(1.4630), tensor(0.0038...\n",
       "23      [tensor(0.), tensor(0.), tensor(0.), tensor(0....\n",
       "24      [tensor(2.4619), tensor(5.0047), tensor(5.3163...\n",
       "25      [tensor(0.1198), tensor(1.9786), tensor(2.7893...\n",
       "26      [tensor(0.), tensor(0.), tensor(0.), tensor(0....\n",
       "                              ...                        \n",
       "5816    [tensor(0.), tensor(0.), tensor(0.), tensor(0....\n",
       "5818    [tensor(0.), tensor(0.), tensor(0.), tensor(0....\n",
       "5819    [tensor(0.), tensor(0.), tensor(0.2197), tenso...\n",
       "5820    [tensor(0.), tensor(0.), tensor(0.), tensor(0....\n",
       "5821    [tensor(0.0535), tensor(0.3369), tensor(0.4606...\n",
       "Name: embeding, Length: 4391, dtype: object"
      ]
     },
     "execution_count": 36,
     "metadata": {},
     "output_type": "execute_result"
    }
   ],
   "source": [
    "train_data['embeding']"
   ]
  },
  {
   "cell_type": "markdown",
   "id": "4ab1c95e",
   "metadata": {},
   "source": [
    "**Вывод:**\n",
    "\n",
    "В тренировочный датасет добавлен ветор изображений."
   ]
  },
  {
   "cell_type": "markdown",
   "id": "aea53bf6",
   "metadata": {
    "cellId": "z8evfugfch8wpstvnxv0t",
    "execution_id": "028ade1d-49fe-4110-8b13-3c1aecdaa142",
    "id": "aea53bf6"
   },
   "source": [
    "## Векторизация текстов\n",
    "\n",
    "Следующий этап — векторизация текстов. Вы можете поэкспериментировать с несколькими способами векторизации текстов:\n",
    "\n",
    "- tf-idf\n",
    "- word2vec\n",
    "- \\*трансформеры (например Bert)\n",
    "\n",
    "\\* — если вы изучали трансформеры в спринте Машинное обучение для текстов.\n"
   ]
  },
  {
   "cell_type": "markdown",
   "id": "a2ba0d26",
   "metadata": {},
   "source": [
    "### Лемметизация текстов"
   ]
  },
  {
   "cell_type": "code",
   "execution_count": 37,
   "id": "cd7584bd",
   "metadata": {
    "cellId": "5f0eae9yldcozrwh01qp0c",
    "id": "cd7584bd"
   },
   "outputs": [],
   "source": [
    "#Функция для чистки текста от лишних символов.\n",
    "def text_preprocessing(text):\n",
    "    tokenized = nltk.word_tokenize(text)\n",
    "    joined = ' '.join(tokenized)\n",
    "    text_only = re.sub(r\"[^a-z0-9!@#\\$%\\^\\&\\*_\\-,\\.' ]\", ' ', joined)\n",
    "    final = ' '.join(text_only.split())\n",
    "    return final"
   ]
  },
  {
   "cell_type": "code",
   "execution_count": 38,
   "id": "da9c585b",
   "metadata": {
    "scrolled": false
   },
   "outputs": [
    {
     "name": "stderr",
     "output_type": "stream",
     "text": [
      "100%|████████████████████████████████████| 4391/4391 [00:00<00:00, 26578.14it/s]\n"
     ]
    }
   ],
   "source": [
    "tqdm.pandas()\n",
    "#Применение функции очистки к фрему данных.\n",
    "train_data['query_text'] = train_data['query_text'].progress_apply(text_preprocessing)"
   ]
  },
  {
   "cell_type": "code",
   "execution_count": 39,
   "id": "70a5d6f7",
   "metadata": {},
   "outputs": [],
   "source": [
    "#Инициализация модели NLP\n",
    "nlp = spacy.load('en_core_web_sm')\n",
    "#, exclude=['parser', 'attribute_ruler', 'ner']"
   ]
  },
  {
   "cell_type": "code",
   "execution_count": 40,
   "id": "a9c20fe0",
   "metadata": {},
   "outputs": [],
   "source": [
    "#Функция для лемматизации текстов.\n",
    "def lemmatize(text):\n",
    "    doc = nlp(text)\n",
    "    words = []\n",
    "    for token in doc:\n",
    "        if (token.is_stop != True) and (token.is_punct != True) and\\\n",
    "            (token.is_space != True) and (token.is_digit != True):\n",
    "            words.append(token.lemma_)\n",
    "    return ' '.join(words)"
   ]
  },
  {
   "cell_type": "code",
   "execution_count": 41,
   "id": "8bb1cdac",
   "metadata": {},
   "outputs": [
    {
     "name": "stderr",
     "output_type": "stream",
     "text": [
      "100%|██████████████████████████████████████| 4391/4391 [00:10<00:00, 402.88it/s]\n"
     ]
    }
   ],
   "source": [
    "#Лемметизация текста\n",
    "tqdm.pandas()\n",
    "train_data['query_text'] = train_data['query_text'].progress_apply(lemmatize)"
   ]
  },
  {
   "cell_type": "markdown",
   "id": "760c0ccd",
   "metadata": {
    "cellId": "yci1zcmnsacl720fr75sb",
    "execution_id": "5ecfa9d5-3913-4fb3-a33e-99bab3798577",
    "id": "760c0ccd"
   },
   "source": [
    "## Объединение разметочных данных с тренировочной выборкой.\n",
    "\n",
    "В данном разделе к тренировочному датасету train_data присоединяются вероятности соответствия изображения и комментария к нему из датасета full_data."
   ]
  },
  {
   "cell_type": "markdown",
   "id": "6bd457a9",
   "metadata": {},
   "source": [
    "Для уоректного объединения данных в датафрейме full_data необходимо заменить наименования столбцов '0' и '1' на 'image' и 'query_id' соответственно."
   ]
  },
  {
   "cell_type": "code",
   "execution_count": 42,
   "id": "1ca113af",
   "metadata": {},
   "outputs": [
    {
     "data": {
      "text/html": [
       "<div>\n",
       "<style scoped>\n",
       "    .dataframe tbody tr th:only-of-type {\n",
       "        vertical-align: middle;\n",
       "    }\n",
       "\n",
       "    .dataframe tbody tr th {\n",
       "        vertical-align: top;\n",
       "    }\n",
       "\n",
       "    .dataframe thead th {\n",
       "        text-align: right;\n",
       "    }\n",
       "</style>\n",
       "<table border=\"1\" class=\"dataframe\">\n",
       "  <thead>\n",
       "    <tr style=\"text-align: right;\">\n",
       "      <th></th>\n",
       "      <th>image</th>\n",
       "      <th>query_id</th>\n",
       "      <th>query_text</th>\n",
       "      <th>embeding</th>\n",
       "    </tr>\n",
       "  </thead>\n",
       "  <tbody>\n",
       "    <tr>\n",
       "      <th>22</th>\n",
       "      <td>1056338697_4f7d7ce270.jpg</td>\n",
       "      <td>3181701312_70a379ab6e.jpg#2</td>\n",
       "      <td>man sleep blanket city street</td>\n",
       "      <td>[tensor(1.4565), tensor(1.4630), tensor(0.0038...</td>\n",
       "    </tr>\n",
       "    <tr>\n",
       "      <th>23</th>\n",
       "      <td>3187395715_f2940c2b72.jpg</td>\n",
       "      <td>3181701312_70a379ab6e.jpg#2</td>\n",
       "      <td>man sleep blanket city street</td>\n",
       "      <td>[tensor(0.), tensor(0.), tensor(0.), tensor(0....</td>\n",
       "    </tr>\n",
       "    <tr>\n",
       "      <th>24</th>\n",
       "      <td>463978865_c87c6ca84c.jpg</td>\n",
       "      <td>3181701312_70a379ab6e.jpg#2</td>\n",
       "      <td>man sleep blanket city street</td>\n",
       "      <td>[tensor(2.4619), tensor(5.0047), tensor(5.3163...</td>\n",
       "    </tr>\n",
       "    <tr>\n",
       "      <th>25</th>\n",
       "      <td>488590040_35a3e96c89.jpg</td>\n",
       "      <td>3181701312_70a379ab6e.jpg#2</td>\n",
       "      <td>man sleep blanket city street</td>\n",
       "      <td>[tensor(0.1198), tensor(1.9786), tensor(2.7893...</td>\n",
       "    </tr>\n",
       "    <tr>\n",
       "      <th>26</th>\n",
       "      <td>534875358_6ea30d3091.jpg</td>\n",
       "      <td>3181701312_70a379ab6e.jpg#2</td>\n",
       "      <td>man sleep blanket city street</td>\n",
       "      <td>[tensor(0.), tensor(0.), tensor(0.), tensor(0....</td>\n",
       "    </tr>\n",
       "    <tr>\n",
       "      <th>...</th>\n",
       "      <td>...</td>\n",
       "      <td>...</td>\n",
       "      <td>...</td>\n",
       "      <td>...</td>\n",
       "    </tr>\n",
       "    <tr>\n",
       "      <th>5816</th>\n",
       "      <td>799486353_f665d7b0f0.jpg</td>\n",
       "      <td>2170222061_e8bce4a32d.jpg#2</td>\n",
       "      <td>small animal leap large animal large animal ta...</td>\n",
       "      <td>[tensor(0.), tensor(0.), tensor(0.), tensor(0....</td>\n",
       "    </tr>\n",
       "    <tr>\n",
       "      <th>5818</th>\n",
       "      <td>799486353_f665d7b0f0.jpg</td>\n",
       "      <td>2196107384_361d73a170.jpg#2</td>\n",
       "      <td>old man walk uncrowded road</td>\n",
       "      <td>[tensor(0.), tensor(0.), tensor(0.), tensor(0....</td>\n",
       "    </tr>\n",
       "    <tr>\n",
       "      <th>5819</th>\n",
       "      <td>909808296_23c427022d.jpg</td>\n",
       "      <td>2112921744_92bf706805.jpg#2</td>\n",
       "      <td>dog stand grassy cliff</td>\n",
       "      <td>[tensor(0.), tensor(0.), tensor(0.2197), tenso...</td>\n",
       "    </tr>\n",
       "    <tr>\n",
       "      <th>5820</th>\n",
       "      <td>929679367_ff8c7df2ee.jpg</td>\n",
       "      <td>3651971126_309e6a5e22.jpg#2</td>\n",
       "      <td>blurry photo dog</td>\n",
       "      <td>[tensor(0.), tensor(0.), tensor(0.), tensor(0....</td>\n",
       "    </tr>\n",
       "    <tr>\n",
       "      <th>5821</th>\n",
       "      <td>968081289_cdba83ce2e.jpg</td>\n",
       "      <td>2292406847_f366350600.jpg#2</td>\n",
       "      <td>man row boat</td>\n",
       "      <td>[tensor(0.0535), tensor(0.3369), tensor(0.4606...</td>\n",
       "    </tr>\n",
       "  </tbody>\n",
       "</table>\n",
       "<p>4391 rows × 4 columns</p>\n",
       "</div>"
      ],
      "text/plain": [
       "                          image                     query_id  \\\n",
       "22    1056338697_4f7d7ce270.jpg  3181701312_70a379ab6e.jpg#2   \n",
       "23    3187395715_f2940c2b72.jpg  3181701312_70a379ab6e.jpg#2   \n",
       "24     463978865_c87c6ca84c.jpg  3181701312_70a379ab6e.jpg#2   \n",
       "25     488590040_35a3e96c89.jpg  3181701312_70a379ab6e.jpg#2   \n",
       "26     534875358_6ea30d3091.jpg  3181701312_70a379ab6e.jpg#2   \n",
       "...                         ...                          ...   \n",
       "5816   799486353_f665d7b0f0.jpg  2170222061_e8bce4a32d.jpg#2   \n",
       "5818   799486353_f665d7b0f0.jpg  2196107384_361d73a170.jpg#2   \n",
       "5819   909808296_23c427022d.jpg  2112921744_92bf706805.jpg#2   \n",
       "5820   929679367_ff8c7df2ee.jpg  3651971126_309e6a5e22.jpg#2   \n",
       "5821   968081289_cdba83ce2e.jpg  2292406847_f366350600.jpg#2   \n",
       "\n",
       "                                             query_text  \\\n",
       "22                        man sleep blanket city street   \n",
       "23                        man sleep blanket city street   \n",
       "24                        man sleep blanket city street   \n",
       "25                        man sleep blanket city street   \n",
       "26                        man sleep blanket city street   \n",
       "...                                                 ...   \n",
       "5816  small animal leap large animal large animal ta...   \n",
       "5818                        old man walk uncrowded road   \n",
       "5819                             dog stand grassy cliff   \n",
       "5820                                   blurry photo dog   \n",
       "5821                                       man row boat   \n",
       "\n",
       "                                               embeding  \n",
       "22    [tensor(1.4565), tensor(1.4630), tensor(0.0038...  \n",
       "23    [tensor(0.), tensor(0.), tensor(0.), tensor(0....  \n",
       "24    [tensor(2.4619), tensor(5.0047), tensor(5.3163...  \n",
       "25    [tensor(0.1198), tensor(1.9786), tensor(2.7893...  \n",
       "26    [tensor(0.), tensor(0.), tensor(0.), tensor(0....  \n",
       "...                                                 ...  \n",
       "5816  [tensor(0.), tensor(0.), tensor(0.), tensor(0....  \n",
       "5818  [tensor(0.), tensor(0.), tensor(0.), tensor(0....  \n",
       "5819  [tensor(0.), tensor(0.), tensor(0.2197), tenso...  \n",
       "5820  [tensor(0.), tensor(0.), tensor(0.), tensor(0....  \n",
       "5821  [tensor(0.0535), tensor(0.3369), tensor(0.4606...  \n",
       "\n",
       "[4391 rows x 4 columns]"
      ]
     },
     "execution_count": 42,
     "metadata": {},
     "output_type": "execute_result"
    }
   ],
   "source": [
    "train_data"
   ]
  },
  {
   "cell_type": "code",
   "execution_count": 43,
   "id": "858af1a3",
   "metadata": {},
   "outputs": [],
   "source": [
    "full_data = full_data.rename(columns={0:'image', 1: 'query_id'})"
   ]
  },
  {
   "cell_type": "code",
   "execution_count": 44,
   "id": "b747671f",
   "metadata": {
    "cellId": "n64cmotqegij9arvbc7sxf",
    "id": "b747671f",
    "scrolled": true
   },
   "outputs": [
    {
     "data": {
      "text/html": [
       "<div>\n",
       "<style scoped>\n",
       "    .dataframe tbody tr th:only-of-type {\n",
       "        vertical-align: middle;\n",
       "    }\n",
       "\n",
       "    .dataframe tbody tr th {\n",
       "        vertical-align: top;\n",
       "    }\n",
       "\n",
       "    .dataframe thead th {\n",
       "        text-align: right;\n",
       "    }\n",
       "</style>\n",
       "<table border=\"1\" class=\"dataframe\">\n",
       "  <thead>\n",
       "    <tr style=\"text-align: right;\">\n",
       "      <th></th>\n",
       "      <th>image</th>\n",
       "      <th>query_id</th>\n",
       "      <th>query_text</th>\n",
       "      <th>embeding</th>\n",
       "      <th>overal_proba</th>\n",
       "    </tr>\n",
       "  </thead>\n",
       "  <tbody>\n",
       "    <tr>\n",
       "      <th>0</th>\n",
       "      <td>1056338697_4f7d7ce270.jpg</td>\n",
       "      <td>3181701312_70a379ab6e.jpg#2</td>\n",
       "      <td>man sleep blanket city street</td>\n",
       "      <td>[tensor(1.4565), tensor(1.4630), tensor(0.0038...</td>\n",
       "      <td>0.34</td>\n",
       "    </tr>\n",
       "    <tr>\n",
       "      <th>1</th>\n",
       "      <td>3187395715_f2940c2b72.jpg</td>\n",
       "      <td>3181701312_70a379ab6e.jpg#2</td>\n",
       "      <td>man sleep blanket city street</td>\n",
       "      <td>[tensor(0.), tensor(0.), tensor(0.), tensor(0....</td>\n",
       "      <td>0.41</td>\n",
       "    </tr>\n",
       "    <tr>\n",
       "      <th>2</th>\n",
       "      <td>463978865_c87c6ca84c.jpg</td>\n",
       "      <td>3181701312_70a379ab6e.jpg#2</td>\n",
       "      <td>man sleep blanket city street</td>\n",
       "      <td>[tensor(2.4619), tensor(5.0047), tensor(5.3163...</td>\n",
       "      <td>0.45</td>\n",
       "    </tr>\n",
       "    <tr>\n",
       "      <th>3</th>\n",
       "      <td>488590040_35a3e96c89.jpg</td>\n",
       "      <td>3181701312_70a379ab6e.jpg#2</td>\n",
       "      <td>man sleep blanket city street</td>\n",
       "      <td>[tensor(0.1198), tensor(1.9786), tensor(2.7893...</td>\n",
       "      <td>0.41</td>\n",
       "    </tr>\n",
       "    <tr>\n",
       "      <th>4</th>\n",
       "      <td>534875358_6ea30d3091.jpg</td>\n",
       "      <td>3181701312_70a379ab6e.jpg#2</td>\n",
       "      <td>man sleep blanket city street</td>\n",
       "      <td>[tensor(0.), tensor(0.), tensor(0.), tensor(0....</td>\n",
       "      <td>0.34</td>\n",
       "    </tr>\n",
       "    <tr>\n",
       "      <th>...</th>\n",
       "      <td>...</td>\n",
       "      <td>...</td>\n",
       "      <td>...</td>\n",
       "      <td>...</td>\n",
       "      <td>...</td>\n",
       "    </tr>\n",
       "    <tr>\n",
       "      <th>4386</th>\n",
       "      <td>799486353_f665d7b0f0.jpg</td>\n",
       "      <td>2170222061_e8bce4a32d.jpg#2</td>\n",
       "      <td>small animal leap large animal large animal ta...</td>\n",
       "      <td>[tensor(0.), tensor(0.), tensor(0.), tensor(0....</td>\n",
       "      <td>0.23</td>\n",
       "    </tr>\n",
       "    <tr>\n",
       "      <th>4387</th>\n",
       "      <td>799486353_f665d7b0f0.jpg</td>\n",
       "      <td>2196107384_361d73a170.jpg#2</td>\n",
       "      <td>old man walk uncrowded road</td>\n",
       "      <td>[tensor(0.), tensor(0.), tensor(0.), tensor(0....</td>\n",
       "      <td>0.23</td>\n",
       "    </tr>\n",
       "    <tr>\n",
       "      <th>4388</th>\n",
       "      <td>909808296_23c427022d.jpg</td>\n",
       "      <td>2112921744_92bf706805.jpg#2</td>\n",
       "      <td>dog stand grassy cliff</td>\n",
       "      <td>[tensor(0.), tensor(0.), tensor(0.2197), tenso...</td>\n",
       "      <td>0.45</td>\n",
       "    </tr>\n",
       "    <tr>\n",
       "      <th>4389</th>\n",
       "      <td>929679367_ff8c7df2ee.jpg</td>\n",
       "      <td>3651971126_309e6a5e22.jpg#2</td>\n",
       "      <td>blurry photo dog</td>\n",
       "      <td>[tensor(0.), tensor(0.), tensor(0.), tensor(0....</td>\n",
       "      <td>0.64</td>\n",
       "    </tr>\n",
       "    <tr>\n",
       "      <th>4390</th>\n",
       "      <td>968081289_cdba83ce2e.jpg</td>\n",
       "      <td>2292406847_f366350600.jpg#2</td>\n",
       "      <td>man row boat</td>\n",
       "      <td>[tensor(0.0535), tensor(0.3369), tensor(0.4606...</td>\n",
       "      <td>0.23</td>\n",
       "    </tr>\n",
       "  </tbody>\n",
       "</table>\n",
       "<p>4391 rows × 5 columns</p>\n",
       "</div>"
      ],
      "text/plain": [
       "                          image                     query_id  \\\n",
       "0     1056338697_4f7d7ce270.jpg  3181701312_70a379ab6e.jpg#2   \n",
       "1     3187395715_f2940c2b72.jpg  3181701312_70a379ab6e.jpg#2   \n",
       "2      463978865_c87c6ca84c.jpg  3181701312_70a379ab6e.jpg#2   \n",
       "3      488590040_35a3e96c89.jpg  3181701312_70a379ab6e.jpg#2   \n",
       "4      534875358_6ea30d3091.jpg  3181701312_70a379ab6e.jpg#2   \n",
       "...                         ...                          ...   \n",
       "4386   799486353_f665d7b0f0.jpg  2170222061_e8bce4a32d.jpg#2   \n",
       "4387   799486353_f665d7b0f0.jpg  2196107384_361d73a170.jpg#2   \n",
       "4388   909808296_23c427022d.jpg  2112921744_92bf706805.jpg#2   \n",
       "4389   929679367_ff8c7df2ee.jpg  3651971126_309e6a5e22.jpg#2   \n",
       "4390   968081289_cdba83ce2e.jpg  2292406847_f366350600.jpg#2   \n",
       "\n",
       "                                             query_text  \\\n",
       "0                         man sleep blanket city street   \n",
       "1                         man sleep blanket city street   \n",
       "2                         man sleep blanket city street   \n",
       "3                         man sleep blanket city street   \n",
       "4                         man sleep blanket city street   \n",
       "...                                                 ...   \n",
       "4386  small animal leap large animal large animal ta...   \n",
       "4387                        old man walk uncrowded road   \n",
       "4388                             dog stand grassy cliff   \n",
       "4389                                   blurry photo dog   \n",
       "4390                                       man row boat   \n",
       "\n",
       "                                               embeding  overal_proba  \n",
       "0     [tensor(1.4565), tensor(1.4630), tensor(0.0038...          0.34  \n",
       "1     [tensor(0.), tensor(0.), tensor(0.), tensor(0....          0.41  \n",
       "2     [tensor(2.4619), tensor(5.0047), tensor(5.3163...          0.45  \n",
       "3     [tensor(0.1198), tensor(1.9786), tensor(2.7893...          0.41  \n",
       "4     [tensor(0.), tensor(0.), tensor(0.), tensor(0....          0.34  \n",
       "...                                                 ...           ...  \n",
       "4386  [tensor(0.), tensor(0.), tensor(0.), tensor(0....          0.23  \n",
       "4387  [tensor(0.), tensor(0.), tensor(0.), tensor(0....          0.23  \n",
       "4388  [tensor(0.), tensor(0.), tensor(0.2197), tenso...          0.45  \n",
       "4389  [tensor(0.), tensor(0.), tensor(0.), tensor(0....          0.64  \n",
       "4390  [tensor(0.0535), tensor(0.3369), tensor(0.4606...          0.23  \n",
       "\n",
       "[4391 rows x 5 columns]"
      ]
     },
     "execution_count": 44,
     "metadata": {},
     "output_type": "execute_result"
    }
   ],
   "source": [
    "train_data_full = pd.merge(train_data, full_data, on=['image', 'query_id'], how='left')\n",
    "train_data_full"
   ]
  },
  {
   "cell_type": "code",
   "execution_count": 45,
   "id": "c1449ba5",
   "metadata": {
    "scrolled": true
   },
   "outputs": [
    {
     "data": {
      "image/png": "[encoded data removed]",
      "text/plain": [
       "<Figure size 1000x600 with 1 Axes>"
      ]
     },
     "metadata": {},
     "output_type": "display_data"
    }
   ],
   "source": [
    "# Построение гистограммы распределения вероятностей.\n",
    "plt.figure(figsize=(10, 6))  # Установим размер фигуры\n",
    "plt.hist(train_data_full['overal_proba'], bins = 100)\n",
    "plt.title('Распределение вероятностей соответствия картинки тексту.')\n",
    "plt.xlabel('Значения')  # Подпись оси X\n",
    "plt.ylabel('Количество')  # Подпись оси Y\n",
    "plt.show()\n"
   ]
  },
  {
   "cell_type": "markdown",
   "id": "c0686aca",
   "metadata": {},
   "source": [
    "**Вывод:**\n",
    "\n",
    "В тренирововчном датасете к каждой паре изображение - описание к изображению присвоены вероятности, которые показывают, насколько два параметра соответствуют друг-другу.\n",
    "В тренировочном датасете видно, что даннные распределены более равномерно, чем разметочные данные от экспертов и краудсорсинга."
   ]
  },
  {
   "cell_type": "markdown",
   "id": "60bc5668",
   "metadata": {
    "cellId": "97c9jj3s2zjj62vznivsk",
    "execution_id": "1a2d7233-0c79-479a-be63-5787145e3b48",
    "id": "60bc5668"
   },
   "source": [
    "## Обучение модели предсказания соответствия\n",
    "\n",
    "Для обучения разделите датасет на тренировочную и тестовую выборки. Простое случайное разбиение не подходит: нужно исключить попадание изображения и в обучающую, и в тестовую выборки.\n",
    "Для того чтобы учесть изображения при разбиении, можно воспользоваться классом [GroupShuffleSplit](https://scikit-learn.org/stable/modules/generated/sklearn.model_selection.GroupShuffleSplit.html) из библиотеки sklearn.model_selection.\n",
    "\n",
    "\n",
    "Код ниже разбивает датасет на тренировочную и тестовую выборки в пропорции 7:3 так, что строки с одинаковым значением 'group_column' будут содержаться либо в тестовом, либо в тренировочном датасете.\n",
    "\n",
    "```\n",
    "from sklearn.model_selection import GroupShuffleSplit\n",
    "gss = GroupShuffleSplit(n_splits=1, train_size=.7, random_state=42)\n",
    "train_indices, test_indices = next(gss.split(X=df.drop(columns=['target']), y=df['target'], groups=df['group_column']))\n",
    "train_df, test_df = df.loc[train_indices], df.loc[test_indices]\n",
    "\n",
    "```\n",
    "**Определение метрики:**\n",
    "Основная цель — оценить, насколько хорошо модель способна определить соответствие между текстом и изображением, тогда можно использовать следующую метрику:\n",
    "- Mean Absolute Error (MAE): Это среднее значение абсолютных разностей между фактическими и прогнозируемыми значениями. MAE измеряет среднее абсолютное отклонение прогнозируемых значений от фактических значений."
   ]
  },
  {
   "cell_type": "markdown",
   "id": "fcb86f99",
   "metadata": {
    "cellId": "v1ntb27jt4z9fazi1y8me",
    "id": "a723a8ad"
   },
   "source": [
    "### Подготовка признаков"
   ]
  },
  {
   "cell_type": "markdown",
   "id": "8383404b",
   "metadata": {},
   "source": [
    "Определение целевого признака и набора фичей."
   ]
  },
  {
   "cell_type": "code",
   "execution_count": 46,
   "id": "af512cf5",
   "metadata": {},
   "outputs": [],
   "source": [
    "X = train_data_full.drop('overal_proba', axis=1)\n",
    "y = train_data_full['overal_proba']"
   ]
  },
  {
   "cell_type": "markdown",
   "id": "e90bb9b0",
   "metadata": {},
   "source": [
    "Разбиение на тестовую и валидационную выборки. Размер тестовой выборки = 70%, размер валидационной выборки - 30%."
   ]
  },
  {
   "cell_type": "code",
   "execution_count": 47,
   "id": "d2547689",
   "metadata": {},
   "outputs": [],
   "source": [
    "gss = GroupShuffleSplit(n_splits=1, train_size=.7, random_state=42)\n",
    "train_indices, valid_indices = next(gss.split(X=X, \n",
    "                                             y=y, \n",
    "                                             groups=train_data_full['image']))\n",
    "                                  \n",
    "train_df, valid_df = train_data_full.loc[train_indices], train_data_full.loc[valid_indices]\n"
   ]
  },
  {
   "cell_type": "code",
   "execution_count": 48,
   "id": "1d4cf5cf",
   "metadata": {
    "scrolled": true
   },
   "outputs": [
    {
     "name": "stdout",
     "output_type": "stream",
     "text": [
      "Train shape: (3066, 4) (3066,)\n",
      "Validation shape: (1325, 4) (1325,)\n"
     ]
    }
   ],
   "source": [
    "# Отдельное выделение признаков и целевой переменной из обучающей и валидационной выборок\n",
    "X_train, y_train = train_df.drop(columns=['overal_proba']), train_df['overal_proba']\n",
    "X_valid, y_valid = valid_df.drop(columns=['overal_proba']), valid_df['overal_proba']\n",
    "\n",
    "# Проверка размерностей выборок\n",
    "print(\"Train shape:\", X_train.shape, y_train.shape)\n",
    "print(\"Validation shape:\", X_valid.shape, y_valid.shape)"
   ]
  },
  {
   "cell_type": "markdown",
   "id": "9d4f11fc",
   "metadata": {},
   "source": [
    "**Вывод:**\n",
    "\n",
    "Выборки разделены в правильном соотношении. Утечка данных из обучающей выборки исключена."
   ]
  },
  {
   "cell_type": "markdown",
   "id": "7e2f7db6",
   "metadata": {},
   "source": [
    "### TF-IDF"
   ]
  },
  {
   "cell_type": "code",
   "execution_count": 49,
   "id": "8932500a",
   "metadata": {
    "scrolled": false
   },
   "outputs": [
    {
     "name": "stdout",
     "output_type": "stream",
     "text": [
      "Размер матрицы для обучения: (3066, 922)\n"
     ]
    }
   ],
   "source": [
    "#Создание корпуса текстов. Добавление признаков в тестовую выборку.\n",
    "corpus = X_train['query_text'].values\n",
    "count_tf_idf = TfidfVectorizer(stop_words=stop_words)\n",
    "X_train = count_tf_idf.fit_transform(corpus) \n",
    "print(f'Размер матрицы для обучения: {X_train.shape}')"
   ]
  },
  {
   "cell_type": "code",
   "execution_count": 50,
   "id": "8290579d",
   "metadata": {
    "scrolled": true
   },
   "outputs": [
    {
     "name": "stdout",
     "output_type": "stream",
     "text": [
      "Размер матрицы для обучения: (1325, 922)\n"
     ]
    }
   ],
   "source": [
    "#Создание корпуса текстов. Добавление признаков в валидационную выборку выборку.\n",
    "corpus = X_valid['query_text'].values\n",
    "X_valid = count_tf_idf.transform(corpus) \n",
    "print(f'Размер матрицы для обучения: {X_valid.shape}')"
   ]
  },
  {
   "cell_type": "markdown",
   "id": "b9eafc44",
   "metadata": {},
   "source": [
    "### CatBoostRegressor"
   ]
  },
  {
   "cell_type": "code",
   "execution_count": 51,
   "id": "2cf06fc9",
   "metadata": {},
   "outputs": [],
   "source": [
    "#Функция для обучения модели CatBoostRegressor\n",
    "def fit_model(train_pool, test_pool, **kwargs):\n",
    "    model = CatBoostRegressor(\n",
    "        iterations=5000,\n",
    "        eval_metric='MAE',\n",
    "        od_type='Iter',\n",
    "        od_wait=500,\n",
    "        l2_leaf_reg=2,\n",
    "        border_count=32,\n",
    "        depth=5,\n",
    "        random_state=42,\n",
    "        boosting_type='Plain',\n",
    "        **kwargs\n",
    "    )\n",
    "    return model.fit(\n",
    "        train_pool,\n",
    "        eval_set=test_pool,\n",
    "        verbose=500,\n",
    "        use_best_model=True)"
   ]
  },
  {
   "cell_type": "code",
   "execution_count": 52,
   "id": "c516ad33",
   "metadata": {},
   "outputs": [],
   "source": [
    "# Создание объекта Pool для обучения\n",
    "train_pool = Pool(\n",
    "    data=X_train,\n",
    "    label=y_train\n",
    ")\n",
    "\n",
    "# Создание объекта Pool для теста\n",
    "valid_pool = Pool(\n",
    "    data=X_valid,\n",
    "    label=y_valid\n",
    ")"
   ]
  },
  {
   "cell_type": "code",
   "execution_count": 53,
   "id": "c1ae6c43",
   "metadata": {
    "scrolled": true
   },
   "outputs": [
    {
     "name": "stdout",
     "output_type": "stream",
     "text": [
      "0:\tlearn: 0.1609513\ttest: 0.1625047\tbest: 0.1625047 (0)\ttotal: 57.3ms\tremaining: 4m 46s\n",
      "500:\tlearn: 0.1581947\ttest: 0.1601857\tbest: 0.1601857 (500)\ttotal: 634ms\tremaining: 5.69s\n",
      "1000:\tlearn: 0.1565082\ttest: 0.1588687\tbest: 0.1588687 (1000)\ttotal: 1.2s\tremaining: 4.81s\n",
      "1500:\tlearn: 0.1554568\ttest: 0.1582279\tbest: 0.1582279 (1500)\ttotal: 1.78s\tremaining: 4.14s\n",
      "2000:\tlearn: 0.1546216\ttest: 0.1578312\tbest: 0.1578312 (2000)\ttotal: 2.35s\tremaining: 3.52s\n",
      "2500:\tlearn: 0.1539350\ttest: 0.1575252\tbest: 0.1575250 (2499)\ttotal: 2.92s\tremaining: 2.92s\n",
      "3000:\tlearn: 0.1533295\ttest: 0.1572945\tbest: 0.1572945 (3000)\ttotal: 3.5s\tremaining: 2.33s\n",
      "3500:\tlearn: 0.1527822\ttest: 0.1571134\tbest: 0.1571125 (3494)\ttotal: 4.07s\tremaining: 1.74s\n",
      "4000:\tlearn: 0.1522779\ttest: 0.1569635\tbest: 0.1569635 (4000)\ttotal: 4.64s\tremaining: 1.16s\n",
      "4500:\tlearn: 0.1518110\ttest: 0.1568418\tbest: 0.1568418 (4500)\ttotal: 5.22s\tremaining: 579ms\n",
      "4999:\tlearn: 0.1513969\ttest: 0.1567446\tbest: 0.1567434 (4960)\ttotal: 5.8s\tremaining: 0us\n",
      "\n",
      "bestTest = 0.1567434364\n",
      "bestIteration = 4960\n",
      "\n",
      "Shrink model to first 4961 iterations.\n",
      "CPU times: user 14.8 s, sys: 11.9 s, total: 26.7 s\n",
      "Wall time: 5.99 s\n"
     ]
    }
   ],
   "source": [
    "%%time\n",
    "start_time = time.time()\n",
    "\n",
    "model_cbc = fit_model(\n",
    "    train_pool, valid_pool,\n",
    "    learning_rate=0.001,\n",
    "    tokenizers=[\n",
    "        {\n",
    "            'tokenizer_id': 'Sense',\n",
    "            'separator_type': 'BySense',\n",
    "            'lowercasing': 'True',\n",
    "            'token_types':['Word', 'Number', 'SentenceBreak'],\n",
    "            'sub_tokens_policy':'SeveralTokens'\n",
    "        }      \n",
    "    ],\n",
    "    dictionaries = [\n",
    "        {\n",
    "            'dictionary_id': 'Word',\n",
    "            'max_dictionary_size': '50000'\n",
    "        }\n",
    "    ],\n",
    "    feature_calcers = [\n",
    "        'BoW:top_tokens_count=10000'\n",
    "    ]\n",
    ")\n",
    "\n",
    "end_time = time.time()\n",
    "model_1_time = round(end_time - start_time, 0)"
   ]
  },
  {
   "cell_type": "markdown",
   "id": "71c8b053",
   "metadata": {},
   "source": [
    "**Вывод:**\n",
    "На тестовой выборке абсолютное отклонение от вероятности соответствия картинки с текстом составляет 15,6%."
   ]
  },
  {
   "cell_type": "markdown",
   "id": "2f870d77",
   "metadata": {
    "cellId": "tbnfwg686jpxjdsw7cqbl",
    "execution_id": "5e14c3be-a481-438e-a979-0f4621acea44",
    "id": "2f870d77"
   },
   "source": [
    "## Тестирование модели\n",
    "\n",
    "Настало время протестировать модель. Для этого получите эмбеддинги для всех тестовых изображений из папки `test_images`, выберите случайные 10 запросов из файла `test_queries.csv` и для каждого запроса выведите наиболее релевантное изображение. Сравните визуально качество поиска."
   ]
  },
  {
   "cell_type": "markdown",
   "id": "6947554b",
   "metadata": {},
   "source": [
    "Описание методики определения картинки по запросу:\n",
    "\n",
    "1) На базе 10 рандомных запросов и на базе датасета test_queries_data создается новый набор данных. Формирование датасета осуществляется следующим образом:\n",
    "- Для кадого униканльгого изображения из датасета test_queries_data присваивается один и тот же запрос из спсика рандомных запросов.\n",
    "- Данная опирация повторяется 10 раз.\n",
    "\n",
    "2) Производится предобработка полученного датасета.\n",
    "\n",
    "3) На основании ранее обучнной модели делается прогноз о вероятности корреляций изображений и описаний к ним.\n",
    "\n",
    "4) Для каждого запроса выводится наиболее релевантное изображение. На основании вероятностей совпадений.\n"
   ]
  },
  {
   "cell_type": "markdown",
   "id": "8995d776",
   "metadata": {},
   "source": [
    "#### Формирование тестового датасета."
   ]
  },
  {
   "cell_type": "code",
   "execution_count": 54,
   "id": "e096b793",
   "metadata": {
    "scrolled": true
   },
   "outputs": [],
   "source": [
    "#Определение 10 рандомных запросов.\n",
    "random_rows = test_queries_data.sample(n=10, random_state=42)['query_text']\n",
    "random_rows = random_rows.reset_index(drop = True)"
   ]
  },
  {
   "cell_type": "code",
   "execution_count": 55,
   "id": "8380573c",
   "metadata": {},
   "outputs": [
    {
     "data": {
      "text/plain": [
       "'A group of girls who are gothically dressed standing together'"
      ]
     },
     "execution_count": 55,
     "metadata": {},
     "output_type": "execute_result"
    }
   ],
   "source": [
    "random_rows[0]"
   ]
  },
  {
   "cell_type": "code",
   "execution_count": 56,
   "id": "db6cafb0",
   "metadata": {},
   "outputs": [],
   "source": [
    "test_values = pd.DataFrame(columns = ['image', 'requests'])\n",
    "for i in random_rows:\n",
    "    temp_df=pd.DataFrame()\n",
    "    temp_df['image'] = test_queries_data['image'].unique()\n",
    "    temp_df['requests'] = i\n",
    "    test_values = pd.concat([test_values, temp_df], ignore_index=True)"
   ]
  },
  {
   "cell_type": "code",
   "execution_count": 57,
   "id": "e869704d",
   "metadata": {
    "scrolled": true
   },
   "outputs": [
    {
     "data": {
      "text/html": [
       "<div>\n",
       "<style scoped>\n",
       "    .dataframe tbody tr th:only-of-type {\n",
       "        vertical-align: middle;\n",
       "    }\n",
       "\n",
       "    .dataframe tbody tr th {\n",
       "        vertical-align: top;\n",
       "    }\n",
       "\n",
       "    .dataframe thead th {\n",
       "        text-align: right;\n",
       "    }\n",
       "</style>\n",
       "<table border=\"1\" class=\"dataframe\">\n",
       "  <thead>\n",
       "    <tr style=\"text-align: right;\">\n",
       "      <th></th>\n",
       "      <th>image</th>\n",
       "      <th>requests</th>\n",
       "    </tr>\n",
       "  </thead>\n",
       "  <tbody>\n",
       "    <tr>\n",
       "      <th>0</th>\n",
       "      <td>1177994172_10d143cb8d.jpg</td>\n",
       "      <td>A group of girls who are gothically dressed st...</td>\n",
       "    </tr>\n",
       "    <tr>\n",
       "      <th>1</th>\n",
       "      <td>1232148178_4f45cc3284.jpg</td>\n",
       "      <td>A group of girls who are gothically dressed st...</td>\n",
       "    </tr>\n",
       "    <tr>\n",
       "      <th>2</th>\n",
       "      <td>123997871_6a9ca987b1.jpg</td>\n",
       "      <td>A group of girls who are gothically dressed st...</td>\n",
       "    </tr>\n",
       "    <tr>\n",
       "      <th>3</th>\n",
       "      <td>1319634306_816f21677f.jpg</td>\n",
       "      <td>A group of girls who are gothically dressed st...</td>\n",
       "    </tr>\n",
       "    <tr>\n",
       "      <th>4</th>\n",
       "      <td>1429546659_44cb09cbe2.jpg</td>\n",
       "      <td>A group of girls who are gothically dressed st...</td>\n",
       "    </tr>\n",
       "  </tbody>\n",
       "</table>\n",
       "</div>"
      ],
      "text/plain": [
       "                       image  \\\n",
       "0  1177994172_10d143cb8d.jpg   \n",
       "1  1232148178_4f45cc3284.jpg   \n",
       "2   123997871_6a9ca987b1.jpg   \n",
       "3  1319634306_816f21677f.jpg   \n",
       "4  1429546659_44cb09cbe2.jpg   \n",
       "\n",
       "                                            requests  \n",
       "0  A group of girls who are gothically dressed st...  \n",
       "1  A group of girls who are gothically dressed st...  \n",
       "2  A group of girls who are gothically dressed st...  \n",
       "3  A group of girls who are gothically dressed st...  \n",
       "4  A group of girls who are gothically dressed st...  "
      ]
     },
     "execution_count": 57,
     "metadata": {},
     "output_type": "execute_result"
    }
   ],
   "source": [
    "test_values.head()"
   ]
  },
  {
   "cell_type": "markdown",
   "id": "2f600f33",
   "metadata": {},
   "source": [
    "Датафрейм готов к предобработке."
   ]
  },
  {
   "cell_type": "markdown",
   "id": "8599da29",
   "metadata": {},
   "source": [
    "### Подготовка тестовой выборки."
   ]
  },
  {
   "cell_type": "markdown",
   "id": "38e0441c",
   "metadata": {},
   "source": [
    "#### Получение эмбедингов изображений."
   ]
  },
  {
   "cell_type": "markdown",
   "id": "1a347919",
   "metadata": {},
   "source": [
    "Для получения эмбедингов изображений используется функция **img_emb**"
   ]
  },
  {
   "cell_type": "code",
   "execution_count": 58,
   "id": "9e6ac829",
   "metadata": {},
   "outputs": [],
   "source": [
    "#Перезапись пути для тестовых изображений для корректной работы функци.\n",
    "img_folder = path + 'test_images'"
   ]
  },
  {
   "cell_type": "code",
   "execution_count": 59,
   "id": "8d09c3eb",
   "metadata": {},
   "outputs": [],
   "source": [
    "test_values['embeding'] = test_values.apply(img_emb, axis=1)"
   ]
  },
  {
   "cell_type": "code",
   "execution_count": 60,
   "id": "e298219f",
   "metadata": {
    "scrolled": true
   },
   "outputs": [
    {
     "data": {
      "text/html": [
       "<div>\n",
       "<style scoped>\n",
       "    .dataframe tbody tr th:only-of-type {\n",
       "        vertical-align: middle;\n",
       "    }\n",
       "\n",
       "    .dataframe tbody tr th {\n",
       "        vertical-align: top;\n",
       "    }\n",
       "\n",
       "    .dataframe thead th {\n",
       "        text-align: right;\n",
       "    }\n",
       "</style>\n",
       "<table border=\"1\" class=\"dataframe\">\n",
       "  <thead>\n",
       "    <tr style=\"text-align: right;\">\n",
       "      <th></th>\n",
       "      <th>image</th>\n",
       "      <th>requests</th>\n",
       "      <th>embeding</th>\n",
       "    </tr>\n",
       "  </thead>\n",
       "  <tbody>\n",
       "    <tr>\n",
       "      <th>0</th>\n",
       "      <td>1177994172_10d143cb8d.jpg</td>\n",
       "      <td>A group of girls who are gothically dressed st...</td>\n",
       "      <td>[tensor(0.4101), tensor(0.4835), tensor(1.8883...</td>\n",
       "    </tr>\n",
       "    <tr>\n",
       "      <th>1</th>\n",
       "      <td>1232148178_4f45cc3284.jpg</td>\n",
       "      <td>A group of girls who are gothically dressed st...</td>\n",
       "      <td>[tensor(0.), tensor(0.), tensor(0.), tensor(0....</td>\n",
       "    </tr>\n",
       "    <tr>\n",
       "      <th>2</th>\n",
       "      <td>123997871_6a9ca987b1.jpg</td>\n",
       "      <td>A group of girls who are gothically dressed st...</td>\n",
       "      <td>[tensor(0.), tensor(0.), tensor(0.), tensor(0....</td>\n",
       "    </tr>\n",
       "    <tr>\n",
       "      <th>3</th>\n",
       "      <td>1319634306_816f21677f.jpg</td>\n",
       "      <td>A group of girls who are gothically dressed st...</td>\n",
       "      <td>[tensor(0.), tensor(0.), tensor(0.), tensor(0....</td>\n",
       "    </tr>\n",
       "    <tr>\n",
       "      <th>4</th>\n",
       "      <td>1429546659_44cb09cbe2.jpg</td>\n",
       "      <td>A group of girls who are gothically dressed st...</td>\n",
       "      <td>[tensor(0.), tensor(1.3871), tensor(0.), tenso...</td>\n",
       "    </tr>\n",
       "  </tbody>\n",
       "</table>\n",
       "</div>"
      ],
      "text/plain": [
       "                       image  \\\n",
       "0  1177994172_10d143cb8d.jpg   \n",
       "1  1232148178_4f45cc3284.jpg   \n",
       "2   123997871_6a9ca987b1.jpg   \n",
       "3  1319634306_816f21677f.jpg   \n",
       "4  1429546659_44cb09cbe2.jpg   \n",
       "\n",
       "                                            requests  \\\n",
       "0  A group of girls who are gothically dressed st...   \n",
       "1  A group of girls who are gothically dressed st...   \n",
       "2  A group of girls who are gothically dressed st...   \n",
       "3  A group of girls who are gothically dressed st...   \n",
       "4  A group of girls who are gothically dressed st...   \n",
       "\n",
       "                                            embeding  \n",
       "0  [tensor(0.4101), tensor(0.4835), tensor(1.8883...  \n",
       "1  [tensor(0.), tensor(0.), tensor(0.), tensor(0....  \n",
       "2  [tensor(0.), tensor(0.), tensor(0.), tensor(0....  \n",
       "3  [tensor(0.), tensor(0.), tensor(0.), tensor(0....  \n",
       "4  [tensor(0.), tensor(1.3871), tensor(0.), tenso...  "
      ]
     },
     "execution_count": 60,
     "metadata": {},
     "output_type": "execute_result"
    }
   ],
   "source": [
    "test_values.head()"
   ]
  },
  {
   "cell_type": "markdown",
   "id": "9fe541b3",
   "metadata": {},
   "source": [
    "#### Лемметизация текстов."
   ]
  },
  {
   "cell_type": "markdown",
   "id": "ad9e56db",
   "metadata": {},
   "source": [
    "Чистка текста от лишних символов."
   ]
  },
  {
   "cell_type": "code",
   "execution_count": 63,
   "id": "2c049f75",
   "metadata": {},
   "outputs": [
    {
     "name": "stderr",
     "output_type": "stream",
     "text": [
      "100%|████████████████████████████████████| 1000/1000 [00:00<00:00, 16950.31it/s]\n"
     ]
    }
   ],
   "source": [
    "tqdm.pandas()\n",
    "#Применение функции очистки к фрейму данных.\n",
    "test_values['requests'] = test_values['requests'].progress_apply(text_preprocessing)"
   ]
  },
  {
   "cell_type": "markdown",
   "id": "7f6e8e8b",
   "metadata": {},
   "source": [
    "Лемметизация текстов."
   ]
  },
  {
   "cell_type": "code",
   "execution_count": 64,
   "id": "73939e8f",
   "metadata": {},
   "outputs": [
    {
     "name": "stderr",
     "output_type": "stream",
     "text": [
      "100%|██████████████████████████████████████| 1000/1000 [00:02<00:00, 431.90it/s]\n"
     ]
    }
   ],
   "source": [
    "#Лемметизация текста\n",
    "tqdm.pandas()\n",
    "test_values['requests'] = test_values['requests'].progress_apply(lemmatize)"
   ]
  },
  {
   "cell_type": "code",
   "execution_count": 65,
   "id": "54ee18a2",
   "metadata": {
    "scrolled": false
   },
   "outputs": [
    {
     "data": {
      "text/html": [
       "<div>\n",
       "<style scoped>\n",
       "    .dataframe tbody tr th:only-of-type {\n",
       "        vertical-align: middle;\n",
       "    }\n",
       "\n",
       "    .dataframe tbody tr th {\n",
       "        vertical-align: top;\n",
       "    }\n",
       "\n",
       "    .dataframe thead th {\n",
       "        text-align: right;\n",
       "    }\n",
       "</style>\n",
       "<table border=\"1\" class=\"dataframe\">\n",
       "  <thead>\n",
       "    <tr style=\"text-align: right;\">\n",
       "      <th></th>\n",
       "      <th>image</th>\n",
       "      <th>requests</th>\n",
       "      <th>embeding</th>\n",
       "    </tr>\n",
       "  </thead>\n",
       "  <tbody>\n",
       "    <tr>\n",
       "      <th>0</th>\n",
       "      <td>1177994172_10d143cb8d.jpg</td>\n",
       "      <td>group girl gothically dress stand</td>\n",
       "      <td>[tensor(0.4101), tensor(0.4835), tensor(1.8883...</td>\n",
       "    </tr>\n",
       "    <tr>\n",
       "      <th>1</th>\n",
       "      <td>1232148178_4f45cc3284.jpg</td>\n",
       "      <td>group girl gothically dress stand</td>\n",
       "      <td>[tensor(0.), tensor(0.), tensor(0.), tensor(0....</td>\n",
       "    </tr>\n",
       "    <tr>\n",
       "      <th>2</th>\n",
       "      <td>123997871_6a9ca987b1.jpg</td>\n",
       "      <td>group girl gothically dress stand</td>\n",
       "      <td>[tensor(0.), tensor(0.), tensor(0.), tensor(0....</td>\n",
       "    </tr>\n",
       "    <tr>\n",
       "      <th>3</th>\n",
       "      <td>1319634306_816f21677f.jpg</td>\n",
       "      <td>group girl gothically dress stand</td>\n",
       "      <td>[tensor(0.), tensor(0.), tensor(0.), tensor(0....</td>\n",
       "    </tr>\n",
       "    <tr>\n",
       "      <th>4</th>\n",
       "      <td>1429546659_44cb09cbe2.jpg</td>\n",
       "      <td>group girl gothically dress stand</td>\n",
       "      <td>[tensor(0.), tensor(1.3871), tensor(0.), tenso...</td>\n",
       "    </tr>\n",
       "  </tbody>\n",
       "</table>\n",
       "</div>"
      ],
      "text/plain": [
       "                       image                           requests  \\\n",
       "0  1177994172_10d143cb8d.jpg  group girl gothically dress stand   \n",
       "1  1232148178_4f45cc3284.jpg  group girl gothically dress stand   \n",
       "2   123997871_6a9ca987b1.jpg  group girl gothically dress stand   \n",
       "3  1319634306_816f21677f.jpg  group girl gothically dress stand   \n",
       "4  1429546659_44cb09cbe2.jpg  group girl gothically dress stand   \n",
       "\n",
       "                                            embeding  \n",
       "0  [tensor(0.4101), tensor(0.4835), tensor(1.8883...  \n",
       "1  [tensor(0.), tensor(0.), tensor(0.), tensor(0....  \n",
       "2  [tensor(0.), tensor(0.), tensor(0.), tensor(0....  \n",
       "3  [tensor(0.), tensor(0.), tensor(0.), tensor(0....  \n",
       "4  [tensor(0.), tensor(1.3871), tensor(0.), tenso...  "
      ]
     },
     "execution_count": 65,
     "metadata": {},
     "output_type": "execute_result"
    }
   ],
   "source": [
    "test_values.head()"
   ]
  },
  {
   "cell_type": "markdown",
   "id": "9979fc30",
   "metadata": {},
   "source": [
    "#### TF-IDF."
   ]
  },
  {
   "cell_type": "code",
   "execution_count": 66,
   "id": "7495380d",
   "metadata": {},
   "outputs": [],
   "source": [
    "#Создание копии датафрейма test_queries_data для дальнейшего добавления предсказания вероятностей.\n",
    "test_values_res = test_values.copy()"
   ]
  },
  {
   "cell_type": "code",
   "execution_count": 67,
   "id": "dffc2f82",
   "metadata": {},
   "outputs": [
    {
     "name": "stdout",
     "output_type": "stream",
     "text": [
      "Размер матрицы для обучения: (1000, 922)\n"
     ]
    }
   ],
   "source": [
    "#Создание корпуса текстов. Добавление признаков в валидационную выборку выборку.\n",
    "corpus = test_values['requests'].values\n",
    "test_values = count_tf_idf.transform(corpus) \n",
    "print(f'Размер матрицы для обучения: {test_values.shape}')"
   ]
  },
  {
   "cell_type": "markdown",
   "id": "f4206b8a",
   "metadata": {},
   "source": [
    "**Вывод:**\n",
    "\n",
    "Тестовая выборка готова.Количество признаков совпадает с тренировочной выборкой."
   ]
  },
  {
   "cell_type": "markdown",
   "id": "a7be476a",
   "metadata": {
    "cellId": "q6sn9kh039f4a6xvu66y7",
    "id": "801e0c32"
   },
   "source": [
    "### Предсказание вероятностей соответствия изображений и описаний к ним."
   ]
  },
  {
   "cell_type": "code",
   "execution_count": 72,
   "id": "8edafad9",
   "metadata": {},
   "outputs": [],
   "source": [
    "test_pool = Pool(data=test_values)"
   ]
  },
  {
   "cell_type": "code",
   "execution_count": 73,
   "id": "f97c058f",
   "metadata": {},
   "outputs": [],
   "source": [
    "# Получение предсказаний от модели\n",
    "predictions = model_cbc.predict(test_pool)"
   ]
  },
  {
   "cell_type": "code",
   "execution_count": 74,
   "id": "f37f8729",
   "metadata": {},
   "outputs": [
    {
     "data": {
      "text/plain": [
       "array([0.38454326, 0.38454326, 0.38454326, 0.38454326, 0.38454326,\n",
       "       0.38454326, 0.38454326, 0.38454326, 0.38454326, 0.38454326,\n",
       "       0.38454326, 0.38454326, 0.38454326, 0.38454326, 0.38454326,\n",
       "       0.38454326, 0.38454326, 0.38454326, 0.38454326, 0.38454326,\n",
       "       0.38454326, 0.38454326, 0.38454326, 0.38454326, 0.38454326,\n",
       "       0.38454326, 0.38454326, 0.38454326, 0.38454326, 0.38454326,\n",
       "       0.38454326, 0.38454326, 0.38454326, 0.38454326, 0.38454326,\n",
       "       0.38454326, 0.38454326, 0.38454326, 0.38454326, 0.38454326,\n",
       "       0.38454326, 0.38454326, 0.38454326, 0.38454326, 0.38454326,\n",
       "       0.38454326, 0.38454326, 0.38454326, 0.38454326, 0.38454326,\n",
       "       0.38454326, 0.38454326, 0.38454326, 0.38454326, 0.38454326,\n",
       "       0.38454326, 0.38454326, 0.38454326, 0.38454326, 0.38454326,\n",
       "       0.38454326, 0.38454326, 0.38454326, 0.38454326, 0.38454326,\n",
       "       0.38454326, 0.38454326, 0.38454326, 0.38454326, 0.38454326,\n",
       "       0.38454326, 0.38454326, 0.38454326, 0.38454326, 0.38454326,\n",
       "       0.38454326, 0.38454326, 0.38454326, 0.38454326, 0.38454326,\n",
       "       0.38454326, 0.38454326, 0.38454326, 0.38454326, 0.38454326,\n",
       "       0.38454326, 0.38454326, 0.38454326, 0.38454326, 0.38454326,\n",
       "       0.38454326, 0.38454326, 0.38454326, 0.38454326, 0.38454326,\n",
       "       0.38454326, 0.38454326, 0.38454326, 0.38454326, 0.38454326,\n",
       "       0.3763375 , 0.3763375 , 0.3763375 , 0.3763375 , 0.3763375 ,\n",
       "       0.3763375 , 0.3763375 , 0.3763375 , 0.3763375 , 0.3763375 ,\n",
       "       0.3763375 , 0.3763375 , 0.3763375 , 0.3763375 , 0.3763375 ,\n",
       "       0.3763375 , 0.3763375 , 0.3763375 , 0.3763375 , 0.3763375 ,\n",
       "       0.3763375 , 0.3763375 , 0.3763375 , 0.3763375 , 0.3763375 ,\n",
       "       0.3763375 , 0.3763375 , 0.3763375 , 0.3763375 , 0.3763375 ,\n",
       "       0.3763375 , 0.3763375 , 0.3763375 , 0.3763375 , 0.3763375 ,\n",
       "       0.3763375 , 0.3763375 , 0.3763375 , 0.3763375 , 0.3763375 ,\n",
       "       0.3763375 , 0.3763375 , 0.3763375 , 0.3763375 , 0.3763375 ,\n",
       "       0.3763375 , 0.3763375 , 0.3763375 , 0.3763375 , 0.3763375 ,\n",
       "       0.3763375 , 0.3763375 , 0.3763375 , 0.3763375 , 0.3763375 ,\n",
       "       0.3763375 , 0.3763375 , 0.3763375 , 0.3763375 , 0.3763375 ,\n",
       "       0.3763375 , 0.3763375 , 0.3763375 , 0.3763375 , 0.3763375 ,\n",
       "       0.3763375 , 0.3763375 , 0.3763375 , 0.3763375 , 0.3763375 ,\n",
       "       0.3763375 , 0.3763375 , 0.3763375 , 0.3763375 , 0.3763375 ,\n",
       "       0.3763375 , 0.3763375 , 0.3763375 , 0.3763375 , 0.3763375 ,\n",
       "       0.3763375 , 0.3763375 , 0.3763375 , 0.3763375 , 0.3763375 ,\n",
       "       0.3763375 , 0.3763375 , 0.3763375 , 0.3763375 , 0.3763375 ,\n",
       "       0.3763375 , 0.3763375 , 0.3763375 , 0.3763375 , 0.3763375 ,\n",
       "       0.3763375 , 0.3763375 , 0.3763375 , 0.3763375 , 0.3763375 ,\n",
       "       0.49344421, 0.49344421, 0.49344421, 0.49344421, 0.49344421,\n",
       "       0.49344421, 0.49344421, 0.49344421, 0.49344421, 0.49344421,\n",
       "       0.49344421, 0.49344421, 0.49344421, 0.49344421, 0.49344421,\n",
       "       0.49344421, 0.49344421, 0.49344421, 0.49344421, 0.49344421,\n",
       "       0.49344421, 0.49344421, 0.49344421, 0.49344421, 0.49344421,\n",
       "       0.49344421, 0.49344421, 0.49344421, 0.49344421, 0.49344421,\n",
       "       0.49344421, 0.49344421, 0.49344421, 0.49344421, 0.49344421,\n",
       "       0.49344421, 0.49344421, 0.49344421, 0.49344421, 0.49344421,\n",
       "       0.49344421, 0.49344421, 0.49344421, 0.49344421, 0.49344421,\n",
       "       0.49344421, 0.49344421, 0.49344421, 0.49344421, 0.49344421,\n",
       "       0.49344421, 0.49344421, 0.49344421, 0.49344421, 0.49344421,\n",
       "       0.49344421, 0.49344421, 0.49344421, 0.49344421, 0.49344421,\n",
       "       0.49344421, 0.49344421, 0.49344421, 0.49344421, 0.49344421,\n",
       "       0.49344421, 0.49344421, 0.49344421, 0.49344421, 0.49344421,\n",
       "       0.49344421, 0.49344421, 0.49344421, 0.49344421, 0.49344421,\n",
       "       0.49344421, 0.49344421, 0.49344421, 0.49344421, 0.49344421,\n",
       "       0.49344421, 0.49344421, 0.49344421, 0.49344421, 0.49344421,\n",
       "       0.49344421, 0.49344421, 0.49344421, 0.49344421, 0.49344421,\n",
       "       0.49344421, 0.49344421, 0.49344421, 0.49344421, 0.49344421,\n",
       "       0.49344421, 0.49344421, 0.49344421, 0.49344421, 0.49344421,\n",
       "       0.39910853, 0.39910853, 0.39910853, 0.39910853, 0.39910853,\n",
       "       0.39910853, 0.39910853, 0.39910853, 0.39910853, 0.39910853,\n",
       "       0.39910853, 0.39910853, 0.39910853, 0.39910853, 0.39910853,\n",
       "       0.39910853, 0.39910853, 0.39910853, 0.39910853, 0.39910853,\n",
       "       0.39910853, 0.39910853, 0.39910853, 0.39910853, 0.39910853,\n",
       "       0.39910853, 0.39910853, 0.39910853, 0.39910853, 0.39910853,\n",
       "       0.39910853, 0.39910853, 0.39910853, 0.39910853, 0.39910853,\n",
       "       0.39910853, 0.39910853, 0.39910853, 0.39910853, 0.39910853,\n",
       "       0.39910853, 0.39910853, 0.39910853, 0.39910853, 0.39910853,\n",
       "       0.39910853, 0.39910853, 0.39910853, 0.39910853, 0.39910853,\n",
       "       0.39910853, 0.39910853, 0.39910853, 0.39910853, 0.39910853,\n",
       "       0.39910853, 0.39910853, 0.39910853, 0.39910853, 0.39910853,\n",
       "       0.39910853, 0.39910853, 0.39910853, 0.39910853, 0.39910853,\n",
       "       0.39910853, 0.39910853, 0.39910853, 0.39910853, 0.39910853,\n",
       "       0.39910853, 0.39910853, 0.39910853, 0.39910853, 0.39910853,\n",
       "       0.39910853, 0.39910853, 0.39910853, 0.39910853, 0.39910853,\n",
       "       0.39910853, 0.39910853, 0.39910853, 0.39910853, 0.39910853,\n",
       "       0.39910853, 0.39910853, 0.39910853, 0.39910853, 0.39910853,\n",
       "       0.39910853, 0.39910853, 0.39910853, 0.39910853, 0.39910853,\n",
       "       0.39910853, 0.39910853, 0.39910853, 0.39910853, 0.39910853,\n",
       "       0.41495394, 0.41495394, 0.41495394, 0.41495394, 0.41495394,\n",
       "       0.41495394, 0.41495394, 0.41495394, 0.41495394, 0.41495394,\n",
       "       0.41495394, 0.41495394, 0.41495394, 0.41495394, 0.41495394,\n",
       "       0.41495394, 0.41495394, 0.41495394, 0.41495394, 0.41495394,\n",
       "       0.41495394, 0.41495394, 0.41495394, 0.41495394, 0.41495394,\n",
       "       0.41495394, 0.41495394, 0.41495394, 0.41495394, 0.41495394,\n",
       "       0.41495394, 0.41495394, 0.41495394, 0.41495394, 0.41495394,\n",
       "       0.41495394, 0.41495394, 0.41495394, 0.41495394, 0.41495394,\n",
       "       0.41495394, 0.41495394, 0.41495394, 0.41495394, 0.41495394,\n",
       "       0.41495394, 0.41495394, 0.41495394, 0.41495394, 0.41495394,\n",
       "       0.41495394, 0.41495394, 0.41495394, 0.41495394, 0.41495394,\n",
       "       0.41495394, 0.41495394, 0.41495394, 0.41495394, 0.41495394,\n",
       "       0.41495394, 0.41495394, 0.41495394, 0.41495394, 0.41495394,\n",
       "       0.41495394, 0.41495394, 0.41495394, 0.41495394, 0.41495394,\n",
       "       0.41495394, 0.41495394, 0.41495394, 0.41495394, 0.41495394,\n",
       "       0.41495394, 0.41495394, 0.41495394, 0.41495394, 0.41495394,\n",
       "       0.41495394, 0.41495394, 0.41495394, 0.41495394, 0.41495394,\n",
       "       0.41495394, 0.41495394, 0.41495394, 0.41495394, 0.41495394,\n",
       "       0.41495394, 0.41495394, 0.41495394, 0.41495394, 0.41495394,\n",
       "       0.41495394, 0.41495394, 0.41495394, 0.41495394, 0.41495394,\n",
       "       0.42478537, 0.42478537, 0.42478537, 0.42478537, 0.42478537,\n",
       "       0.42478537, 0.42478537, 0.42478537, 0.42478537, 0.42478537,\n",
       "       0.42478537, 0.42478537, 0.42478537, 0.42478537, 0.42478537,\n",
       "       0.42478537, 0.42478537, 0.42478537, 0.42478537, 0.42478537,\n",
       "       0.42478537, 0.42478537, 0.42478537, 0.42478537, 0.42478537,\n",
       "       0.42478537, 0.42478537, 0.42478537, 0.42478537, 0.42478537,\n",
       "       0.42478537, 0.42478537, 0.42478537, 0.42478537, 0.42478537,\n",
       "       0.42478537, 0.42478537, 0.42478537, 0.42478537, 0.42478537,\n",
       "       0.42478537, 0.42478537, 0.42478537, 0.42478537, 0.42478537,\n",
       "       0.42478537, 0.42478537, 0.42478537, 0.42478537, 0.42478537,\n",
       "       0.42478537, 0.42478537, 0.42478537, 0.42478537, 0.42478537,\n",
       "       0.42478537, 0.42478537, 0.42478537, 0.42478537, 0.42478537,\n",
       "       0.42478537, 0.42478537, 0.42478537, 0.42478537, 0.42478537,\n",
       "       0.42478537, 0.42478537, 0.42478537, 0.42478537, 0.42478537,\n",
       "       0.42478537, 0.42478537, 0.42478537, 0.42478537, 0.42478537,\n",
       "       0.42478537, 0.42478537, 0.42478537, 0.42478537, 0.42478537,\n",
       "       0.42478537, 0.42478537, 0.42478537, 0.42478537, 0.42478537,\n",
       "       0.42478537, 0.42478537, 0.42478537, 0.42478537, 0.42478537,\n",
       "       0.42478537, 0.42478537, 0.42478537, 0.42478537, 0.42478537,\n",
       "       0.42478537, 0.42478537, 0.42478537, 0.42478537, 0.42478537,\n",
       "       0.44624847, 0.44624847, 0.44624847, 0.44624847, 0.44624847,\n",
       "       0.44624847, 0.44624847, 0.44624847, 0.44624847, 0.44624847,\n",
       "       0.44624847, 0.44624847, 0.44624847, 0.44624847, 0.44624847,\n",
       "       0.44624847, 0.44624847, 0.44624847, 0.44624847, 0.44624847,\n",
       "       0.44624847, 0.44624847, 0.44624847, 0.44624847, 0.44624847,\n",
       "       0.44624847, 0.44624847, 0.44624847, 0.44624847, 0.44624847,\n",
       "       0.44624847, 0.44624847, 0.44624847, 0.44624847, 0.44624847,\n",
       "       0.44624847, 0.44624847, 0.44624847, 0.44624847, 0.44624847,\n",
       "       0.44624847, 0.44624847, 0.44624847, 0.44624847, 0.44624847,\n",
       "       0.44624847, 0.44624847, 0.44624847, 0.44624847, 0.44624847,\n",
       "       0.44624847, 0.44624847, 0.44624847, 0.44624847, 0.44624847,\n",
       "       0.44624847, 0.44624847, 0.44624847, 0.44624847, 0.44624847,\n",
       "       0.44624847, 0.44624847, 0.44624847, 0.44624847, 0.44624847,\n",
       "       0.44624847, 0.44624847, 0.44624847, 0.44624847, 0.44624847,\n",
       "       0.44624847, 0.44624847, 0.44624847, 0.44624847, 0.44624847,\n",
       "       0.44624847, 0.44624847, 0.44624847, 0.44624847, 0.44624847,\n",
       "       0.44624847, 0.44624847, 0.44624847, 0.44624847, 0.44624847,\n",
       "       0.44624847, 0.44624847, 0.44624847, 0.44624847, 0.44624847,\n",
       "       0.44624847, 0.44624847, 0.44624847, 0.44624847, 0.44624847,\n",
       "       0.44624847, 0.44624847, 0.44624847, 0.44624847, 0.44624847,\n",
       "       0.38542388, 0.38542388, 0.38542388, 0.38542388, 0.38542388,\n",
       "       0.38542388, 0.38542388, 0.38542388, 0.38542388, 0.38542388,\n",
       "       0.38542388, 0.38542388, 0.38542388, 0.38542388, 0.38542388,\n",
       "       0.38542388, 0.38542388, 0.38542388, 0.38542388, 0.38542388,\n",
       "       0.38542388, 0.38542388, 0.38542388, 0.38542388, 0.38542388,\n",
       "       0.38542388, 0.38542388, 0.38542388, 0.38542388, 0.38542388,\n",
       "       0.38542388, 0.38542388, 0.38542388, 0.38542388, 0.38542388,\n",
       "       0.38542388, 0.38542388, 0.38542388, 0.38542388, 0.38542388,\n",
       "       0.38542388, 0.38542388, 0.38542388, 0.38542388, 0.38542388,\n",
       "       0.38542388, 0.38542388, 0.38542388, 0.38542388, 0.38542388,\n",
       "       0.38542388, 0.38542388, 0.38542388, 0.38542388, 0.38542388,\n",
       "       0.38542388, 0.38542388, 0.38542388, 0.38542388, 0.38542388,\n",
       "       0.38542388, 0.38542388, 0.38542388, 0.38542388, 0.38542388,\n",
       "       0.38542388, 0.38542388, 0.38542388, 0.38542388, 0.38542388,\n",
       "       0.38542388, 0.38542388, 0.38542388, 0.38542388, 0.38542388,\n",
       "       0.38542388, 0.38542388, 0.38542388, 0.38542388, 0.38542388,\n",
       "       0.38542388, 0.38542388, 0.38542388, 0.38542388, 0.38542388,\n",
       "       0.38542388, 0.38542388, 0.38542388, 0.38542388, 0.38542388,\n",
       "       0.38542388, 0.38542388, 0.38542388, 0.38542388, 0.38542388,\n",
       "       0.38542388, 0.38542388, 0.38542388, 0.38542388, 0.38542388,\n",
       "       0.39058355, 0.39058355, 0.39058355, 0.39058355, 0.39058355,\n",
       "       0.39058355, 0.39058355, 0.39058355, 0.39058355, 0.39058355,\n",
       "       0.39058355, 0.39058355, 0.39058355, 0.39058355, 0.39058355,\n",
       "       0.39058355, 0.39058355, 0.39058355, 0.39058355, 0.39058355,\n",
       "       0.39058355, 0.39058355, 0.39058355, 0.39058355, 0.39058355,\n",
       "       0.39058355, 0.39058355, 0.39058355, 0.39058355, 0.39058355,\n",
       "       0.39058355, 0.39058355, 0.39058355, 0.39058355, 0.39058355,\n",
       "       0.39058355, 0.39058355, 0.39058355, 0.39058355, 0.39058355,\n",
       "       0.39058355, 0.39058355, 0.39058355, 0.39058355, 0.39058355,\n",
       "       0.39058355, 0.39058355, 0.39058355, 0.39058355, 0.39058355,\n",
       "       0.39058355, 0.39058355, 0.39058355, 0.39058355, 0.39058355,\n",
       "       0.39058355, 0.39058355, 0.39058355, 0.39058355, 0.39058355,\n",
       "       0.39058355, 0.39058355, 0.39058355, 0.39058355, 0.39058355,\n",
       "       0.39058355, 0.39058355, 0.39058355, 0.39058355, 0.39058355,\n",
       "       0.39058355, 0.39058355, 0.39058355, 0.39058355, 0.39058355,\n",
       "       0.39058355, 0.39058355, 0.39058355, 0.39058355, 0.39058355,\n",
       "       0.39058355, 0.39058355, 0.39058355, 0.39058355, 0.39058355,\n",
       "       0.39058355, 0.39058355, 0.39058355, 0.39058355, 0.39058355,\n",
       "       0.39058355, 0.39058355, 0.39058355, 0.39058355, 0.39058355,\n",
       "       0.39058355, 0.39058355, 0.39058355, 0.39058355, 0.39058355,\n",
       "       0.38106613, 0.38106613, 0.38106613, 0.38106613, 0.38106613,\n",
       "       0.38106613, 0.38106613, 0.38106613, 0.38106613, 0.38106613,\n",
       "       0.38106613, 0.38106613, 0.38106613, 0.38106613, 0.38106613,\n",
       "       0.38106613, 0.38106613, 0.38106613, 0.38106613, 0.38106613,\n",
       "       0.38106613, 0.38106613, 0.38106613, 0.38106613, 0.38106613,\n",
       "       0.38106613, 0.38106613, 0.38106613, 0.38106613, 0.38106613,\n",
       "       0.38106613, 0.38106613, 0.38106613, 0.38106613, 0.38106613,\n",
       "       0.38106613, 0.38106613, 0.38106613, 0.38106613, 0.38106613,\n",
       "       0.38106613, 0.38106613, 0.38106613, 0.38106613, 0.38106613,\n",
       "       0.38106613, 0.38106613, 0.38106613, 0.38106613, 0.38106613,\n",
       "       0.38106613, 0.38106613, 0.38106613, 0.38106613, 0.38106613,\n",
       "       0.38106613, 0.38106613, 0.38106613, 0.38106613, 0.38106613,\n",
       "       0.38106613, 0.38106613, 0.38106613, 0.38106613, 0.38106613,\n",
       "       0.38106613, 0.38106613, 0.38106613, 0.38106613, 0.38106613,\n",
       "       0.38106613, 0.38106613, 0.38106613, 0.38106613, 0.38106613,\n",
       "       0.38106613, 0.38106613, 0.38106613, 0.38106613, 0.38106613,\n",
       "       0.38106613, 0.38106613, 0.38106613, 0.38106613, 0.38106613,\n",
       "       0.38106613, 0.38106613, 0.38106613, 0.38106613, 0.38106613,\n",
       "       0.38106613, 0.38106613, 0.38106613, 0.38106613, 0.38106613,\n",
       "       0.38106613, 0.38106613, 0.38106613, 0.38106613, 0.38106613])"
      ]
     },
     "execution_count": 74,
     "metadata": {},
     "output_type": "execute_result"
    }
   ],
   "source": [
    "predictions"
   ]
  },
  {
   "cell_type": "code",
   "execution_count": 70,
   "id": "6b905891",
   "metadata": {
    "scrolled": false
   },
   "outputs": [
    {
     "data": {
      "text/html": [
       "<div>\n",
       "<style scoped>\n",
       "    .dataframe tbody tr th:only-of-type {\n",
       "        vertical-align: middle;\n",
       "    }\n",
       "\n",
       "    .dataframe tbody tr th {\n",
       "        vertical-align: top;\n",
       "    }\n",
       "\n",
       "    .dataframe thead th {\n",
       "        text-align: right;\n",
       "    }\n",
       "</style>\n",
       "<table border=\"1\" class=\"dataframe\">\n",
       "  <thead>\n",
       "    <tr style=\"text-align: right;\">\n",
       "      <th></th>\n",
       "      <th>image</th>\n",
       "      <th>requests</th>\n",
       "      <th>embeding</th>\n",
       "      <th>ver_pred</th>\n",
       "    </tr>\n",
       "  </thead>\n",
       "  <tbody>\n",
       "    <tr>\n",
       "      <th>0</th>\n",
       "      <td>1177994172_10d143cb8d.jpg</td>\n",
       "      <td>group girl gothically dress stand</td>\n",
       "      <td>[tensor(0.4101), tensor(0.4835), tensor(1.8883...</td>\n",
       "      <td>0.384543</td>\n",
       "    </tr>\n",
       "    <tr>\n",
       "      <th>1</th>\n",
       "      <td>1232148178_4f45cc3284.jpg</td>\n",
       "      <td>group girl gothically dress stand</td>\n",
       "      <td>[tensor(0.), tensor(0.), tensor(0.), tensor(0....</td>\n",
       "      <td>0.384543</td>\n",
       "    </tr>\n",
       "    <tr>\n",
       "      <th>2</th>\n",
       "      <td>123997871_6a9ca987b1.jpg</td>\n",
       "      <td>group girl gothically dress stand</td>\n",
       "      <td>[tensor(0.), tensor(0.), tensor(0.), tensor(0....</td>\n",
       "      <td>0.384543</td>\n",
       "    </tr>\n",
       "    <tr>\n",
       "      <th>3</th>\n",
       "      <td>1319634306_816f21677f.jpg</td>\n",
       "      <td>group girl gothically dress stand</td>\n",
       "      <td>[tensor(0.), tensor(0.), tensor(0.), tensor(0....</td>\n",
       "      <td>0.384543</td>\n",
       "    </tr>\n",
       "    <tr>\n",
       "      <th>4</th>\n",
       "      <td>1429546659_44cb09cbe2.jpg</td>\n",
       "      <td>group girl gothically dress stand</td>\n",
       "      <td>[tensor(0.), tensor(1.3871), tensor(0.), tenso...</td>\n",
       "      <td>0.384543</td>\n",
       "    </tr>\n",
       "  </tbody>\n",
       "</table>\n",
       "</div>"
      ],
      "text/plain": [
       "                       image                           requests  \\\n",
       "0  1177994172_10d143cb8d.jpg  group girl gothically dress stand   \n",
       "1  1232148178_4f45cc3284.jpg  group girl gothically dress stand   \n",
       "2   123997871_6a9ca987b1.jpg  group girl gothically dress stand   \n",
       "3  1319634306_816f21677f.jpg  group girl gothically dress stand   \n",
       "4  1429546659_44cb09cbe2.jpg  group girl gothically dress stand   \n",
       "\n",
       "                                            embeding  ver_pred  \n",
       "0  [tensor(0.4101), tensor(0.4835), tensor(1.8883...  0.384543  \n",
       "1  [tensor(0.), tensor(0.), tensor(0.), tensor(0....  0.384543  \n",
       "2  [tensor(0.), tensor(0.), tensor(0.), tensor(0....  0.384543  \n",
       "3  [tensor(0.), tensor(0.), tensor(0.), tensor(0....  0.384543  \n",
       "4  [tensor(0.), tensor(1.3871), tensor(0.), tenso...  0.384543  "
      ]
     },
     "execution_count": 70,
     "metadata": {},
     "output_type": "execute_result"
    }
   ],
   "source": [
    "test_values_res['ver_pred'] = ver_predictions\n",
    "test_values_res.head()"
   ]
  },
  {
   "cell_type": "markdown",
   "id": "ce44aaa2",
   "metadata": {},
   "source": [
    "<div class=\"alert\" style=\"background-color:#ead7f7;color:#8737bf\">\n",
    "    <font size=\"3\"><b>Комментария студента</b></font>\n",
    "   \n",
    "К концу проекта столкнулся с проблемой. Модель неадекватно предсказывает вероятность корреляции комменатриев и изображений. Выглядит так, буд-то эмбединг изображения не вносит никакого вклада в обучение модели...\n",
    "Хоть проект не доведен до конца - прошу помочь направить в сторону решения проблемы, и подсказать где я могу ошибаться.\n",
    "Параллельно с эти решением разрабатываю модель построенную на фаис, чтобы сравнить результатаы работы двух разных моделей."
   ]
  },
  {
   "cell_type": "markdown",
   "id": "fab1345a",
   "metadata": {
    "cellId": "dnvdkzzxdpet1yc4m64cx",
    "execution_id": "3e367f6a-97e3-4ed7-9b73-39ed363fd2b7",
    "id": "fab1345a"
   },
   "source": [
    "## Выводы\n",
    "\n",
    "- Jupyter Notebook открыт\n",
    "- Весь код выполняется без ошибок\n",
    "- Ячейки с кодом расположены в порядке исполнения\n",
    "- Исследовательский анализ данных выполнен\n",
    "- Проверены экспертные оценки и краудсорсинговые оценки\n",
    "- Из датасета исключены те объекты, которые выходят за рамки юридических ограничений\n",
    "- Изображения векторизованы\n",
    "- Текстовые запросы векторизованы\n",
    "- Данные корректно разбиты на тренировочную и тестовую выборки\n",
    "- Предложена метрика качества работы модели\n",
    "- Предложена модель схожести изображений и текстового запроса\n",
    "- Модель обучена\n",
    "- По итогам обучения модели сделаны выводы\n",
    "- Проведено тестирование работы модели\n",
    "- По итогам тестирования визуально сравнили качество поиска"
   ]
  },
  {
   "cell_type": "code",
   "execution_count": null,
   "id": "b18146c0",
   "metadata": {},
   "outputs": [],
   "source": []
  }
 ],
 "metadata": {
  "celltoolbar": "Raw Cell Format",
  "colab": {
   "provenance": []
  },
  "hide_input": false,
  "kernelspec": {
   "display_name": "Python 3 (ipykernel)",
   "language": "python",
   "name": "python3"
  },
  "language_info": {
   "codemirror_mode": {
    "name": "ipython",
    "version": 3
   },
   "file_extension": ".py",
   "mimetype": "text/x-python",
   "name": "python",
   "nbconvert_exporter": "python",
   "pygments_lexer": "ipython3",
   "version": "3.11.7"
  },
  "notebookId": "e47b60f7-b2b4-44ee-beb3-b44a93eaf068",
  "notebookPath": "precode.ipynb",
  "toc": {
   "base_numbering": 1,
   "nav_menu": {},
   "number_sections": true,
   "sideBar": true,
   "skip_h1_title": true,
   "title_cell": "Table of Contents",
   "title_sidebar": "Contents",
   "toc_cell": false,
   "toc_position": {
    "height": "calc(100% - 180px)",
    "left": "10px",
    "top": "150px",
    "width": "357.390625px"
   },
   "toc_section_display": true,
   "toc_window_display": true
  }
 },
 "nbformat": 4,
 "nbformat_minor": 5
}
