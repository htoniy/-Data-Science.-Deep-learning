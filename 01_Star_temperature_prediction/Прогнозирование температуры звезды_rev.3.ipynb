{
 "cells": [
  {
   "cell_type": "markdown",
   "id": "7ea4f06f",
   "metadata": {},
   "source": [
    "# Описание проекта."
   ]
  },
  {
   "cell_type": "markdown",
   "id": "6cf8f2be",
   "metadata": {},
   "source": [
    "В проекте разработана нейронная сеть, которая предсказывает абсолютную температуру на поверхности новых открытых звезд. За основы взяты данные уже изученных 240 звёзд.\n",
    "\n",
    "Для определения качества работы модели принята метрика RMSE. Значение метрики по условию не должно привышать 4500 К.\n",
    "\n",
    "Для решения задачи применены следующие инструменты:\n",
    "- pytorch;\n",
    "- sklearn;\n",
    "- phik;\n",
    "- matplotlib;\n",
    "- seaborn.\n",
    "\n",
    "В ходе решения разработана нейронная сеть с 4 скрытыми слоями, к ней подобраны лучшие гиперпараметрами, а также добавлены улучшения в виде dropout и разбиения на batch-и.\n",
    "Для изучения результатов работы в выоде приведена сводная таблица, показывающая, как изменения гиперпараметров и добавление улучшений влияют на матрику."
   ]
  },
  {
   "cell_type": "markdown",
   "id": "a43b8635",
   "metadata": {},
   "source": [
    "# Импорт данных."
   ]
  },
  {
   "cell_type": "code",
   "execution_count": 1,
   "id": "30b356d7",
   "metadata": {},
   "outputs": [
    {
     "name": "stdout",
     "output_type": "stream",
     "text": [
      "Requirement already satisfied: phik in /Users/maksimgorskov/opt/anaconda3/lib/python3.9/site-packages (0.11.2)\n",
      "Requirement already satisfied: matplotlib>=2.2.3 in /Users/maksimgorskov/opt/anaconda3/lib/python3.9/site-packages (from phik) (3.5.1)\n",
      "Requirement already satisfied: numpy>=1.18.0 in /Users/maksimgorskov/opt/anaconda3/lib/python3.9/site-packages (from phik) (1.21.5)\n",
      "Requirement already satisfied: pandas>=0.25.1 in /Users/maksimgorskov/opt/anaconda3/lib/python3.9/site-packages (from phik) (1.4.2)\n",
      "Requirement already satisfied: joblib>=0.14.1 in /Users/maksimgorskov/opt/anaconda3/lib/python3.9/site-packages (from phik) (1.1.0)\n",
      "Requirement already satisfied: scipy>=1.5.2 in /Users/maksimgorskov/opt/anaconda3/lib/python3.9/site-packages (from phik) (1.7.3)\n",
      "Requirement already satisfied: pyparsing>=2.2.1 in /Users/maksimgorskov/opt/anaconda3/lib/python3.9/site-packages (from matplotlib>=2.2.3->phik) (3.0.4)\n",
      "Requirement already satisfied: python-dateutil>=2.7 in /Users/maksimgorskov/opt/anaconda3/lib/python3.9/site-packages (from matplotlib>=2.2.3->phik) (2.8.2)\n",
      "Requirement already satisfied: kiwisolver>=1.0.1 in /Users/maksimgorskov/opt/anaconda3/lib/python3.9/site-packages (from matplotlib>=2.2.3->phik) (1.3.2)\n",
      "Requirement already satisfied: cycler>=0.10 in /Users/maksimgorskov/opt/anaconda3/lib/python3.9/site-packages (from matplotlib>=2.2.3->phik) (0.11.0)\n",
      "Requirement already satisfied: packaging>=20.0 in /Users/maksimgorskov/opt/anaconda3/lib/python3.9/site-packages (from matplotlib>=2.2.3->phik) (21.3)\n",
      "Requirement already satisfied: fonttools>=4.22.0 in /Users/maksimgorskov/opt/anaconda3/lib/python3.9/site-packages (from matplotlib>=2.2.3->phik) (4.25.0)\n",
      "Requirement already satisfied: pillow>=6.2.0 in /Users/maksimgorskov/opt/anaconda3/lib/python3.9/site-packages (from matplotlib>=2.2.3->phik) (9.0.1)\n",
      "Requirement already satisfied: pytz>=2020.1 in /Users/maksimgorskov/opt/anaconda3/lib/python3.9/site-packages (from pandas>=0.25.1->phik) (2021.3)\n",
      "Requirement already satisfied: six>=1.5 in /Users/maksimgorskov/opt/anaconda3/lib/python3.9/site-packages (from python-dateutil>=2.7->matplotlib>=2.2.3->phik) (1.16.0)\n"
     ]
    }
   ],
   "source": [
    "import random\n",
    "import pandas as pd\n",
    "import numpy as np\n",
    "import matplotlib.pyplot as plt\n",
    "from matplotlib.lines import Line2D\n",
    "import copy\n",
    "from math import ceil\n",
    "\n",
    "import seaborn as sns\n",
    "\n",
    "\n",
    "from sklearn.model_selection import train_test_split\n",
    "from sklearn.preprocessing import OneHotEncoder, StandardScaler, MinMaxScaler\n",
    "from sklearn.metrics import mean_squared_error\n",
    "from sklearn.compose import ColumnTransformer\n",
    "from sklearn.pipeline import Pipeline\n",
    "\n",
    "import torch \n",
    "import torch.nn as nn\n",
    "from torch.utils.data import DataLoader, TensorDataset\n",
    "\n",
    "!pip install phik\n",
    "import phik\n",
    "from phik.report import plot_correlation_matrix\n",
    "\n",
    "from phik import report\n",
    "\n",
    "from urllib.parse import quote\n",
    "import requests\n",
    "from io import StringIO"
   ]
  },
  {
   "cell_type": "code",
   "execution_count": 2,
   "id": "4fdf8207",
   "metadata": {},
   "outputs": [],
   "source": [
    "file_path_local = '/Users/maksimgorskov/Desktop/Data Science/Спринт 17_Нейронные сети/Исходные данные /6_class.csv'\n",
    "file_path_hab = '/datasets/6_class.csv'\n",
    " \n",
    "try:\n",
    "    stars_df = pd.read_csv(file_path_local)\n",
    "\n",
    "except:\n",
    "    stars_df = pd.read_csv(file_path_hab)\n"
   ]
  },
  {
   "cell_type": "markdown",
   "id": "d2722e03",
   "metadata": {},
   "source": [
    "**Описание данных.**\n",
    "- Относительная светимость L/Lo — светимость звезды относительно Солнца.\n",
    "- Относительный радиус R/Ro — радиус звезды относительно радиуса Солнца.\n",
    "- Абсолютная звёздная величина Mv — физическая величина, характеризующая блеск звезды.\n",
    "- Звёздный цвет (white, red, blue, yellow, yellow-orange и др.) — цвет звезды, который определяют на основе спектрального анализа.\n",
    "- Тип звезды.\n",
    " | Тип звезды                      | Номер, соответствующий типу |\n",
    "|---------------------------------|------------------------------|\n",
    "| Коричневый карлик               | 0                            |\n",
    "| Красный карлик                  | 1                            |\n",
    "| Белый карлик                    | 2                            |\n",
    "| Звёзды главной последовательности | 3                            |\n",
    "| Сверхгигант                     | 4                            |\n",
    "| Гипергигант                     | 5                            |\n",
    "\n",
    "- Абсолютная температура T(K) — температура на поверхности звезды в Кельвинах."
   ]
  },
  {
   "cell_type": "markdown",
   "id": "b5fd7be9",
   "metadata": {},
   "source": [
    "# Разведочный анализ."
   ]
  },
  {
   "cell_type": "markdown",
   "id": "96ee1203",
   "metadata": {},
   "source": [
    "## Общая оценка данных."
   ]
  },
  {
   "cell_type": "code",
   "execution_count": 3,
   "id": "36355169",
   "metadata": {},
   "outputs": [
    {
     "name": "stdout",
     "output_type": "stream",
     "text": [
      "<class 'pandas.core.frame.DataFrame'>\n",
      "RangeIndex: 240 entries, 0 to 239\n",
      "Data columns (total 7 columns):\n",
      " #   Column                  Non-Null Count  Dtype  \n",
      "---  ------                  --------------  -----  \n",
      " 0   Unnamed: 0              240 non-null    int64  \n",
      " 1   Temperature (K)         240 non-null    int64  \n",
      " 2   Luminosity(L/Lo)        240 non-null    float64\n",
      " 3   Radius(R/Ro)            240 non-null    float64\n",
      " 4   Absolute magnitude(Mv)  240 non-null    float64\n",
      " 5   Star type               240 non-null    int64  \n",
      " 6   Star color              240 non-null    object \n",
      "dtypes: float64(3), int64(3), object(1)\n",
      "memory usage: 13.2+ KB\n"
     ]
    }
   ],
   "source": [
    "stars_df.info()"
   ]
  },
  {
   "cell_type": "markdown",
   "id": "333fed8b",
   "metadata": {},
   "source": [
    "Столбец **'Unnamed: 0'** дублирует индексы датафрейма. Производится его удаление за ненужностью."
   ]
  },
  {
   "cell_type": "code",
   "execution_count": 4,
   "id": "60ec75ce",
   "metadata": {},
   "outputs": [],
   "source": [
    "stars_df = stars_df.drop('Unnamed: 0', axis = 1)"
   ]
  },
  {
   "cell_type": "markdown",
   "id": "f5251353",
   "metadata": {},
   "source": [
    "## Оценка категориальных данных."
   ]
  },
  {
   "cell_type": "markdown",
   "id": "cfeeb06e",
   "metadata": {},
   "source": [
    "Данные приводятся в соответствии с стандартной классификацией цветов звезд по гарвардской системе."
   ]
  },
  {
   "cell_type": "code",
   "execution_count": 5,
   "id": "a7e12ce6",
   "metadata": {
    "scrolled": true
   },
   "outputs": [
    {
     "data": {
      "text/plain": [
       "array(['Red', 'Blue White', 'White', 'Yellowish White', 'Blue white',\n",
       "       'Pale yellow orange', 'Blue', 'Blue-white', 'Whitish',\n",
       "       'yellow-white', 'Orange', 'White-Yellow', 'white', 'Blue ',\n",
       "       'yellowish', 'Yellowish', 'Orange-Red', 'Blue white ',\n",
       "       'Blue-White'], dtype=object)"
      ]
     },
     "execution_count": 5,
     "metadata": {},
     "output_type": "execute_result"
    }
   ],
   "source": [
    "# Анализ уникальных значений.\n",
    "stars_df['Star color'].unique()"
   ]
  },
  {
   "cell_type": "code",
   "execution_count": 6,
   "id": "ae290bee",
   "metadata": {},
   "outputs": [
    {
     "data": {
      "text/plain": [
       "array(['red', 'blue-white', 'white', 'yellowish-white', 'orange', 'blue',\n",
       "       'yellow'], dtype=object)"
      ]
     },
     "execution_count": 6,
     "metadata": {},
     "output_type": "execute_result"
    }
   ],
   "source": [
    "#Приведение данных к нижнему регистру.\n",
    "stars_df['Star color'] = stars_df['Star color'].str.lower()\n",
    "stars_df['Star color'] = stars_df['Star color'].replace(\n",
    "    ['blue white', 'yellowish white', 'pale yellow orange', 'blue ', 'blue white ', 'white-yellow', 'yellowish', 'whitish', 'pale-yellow-orange', 'yellow-white', 'orange-red'], \n",
    "    ['blue-white', 'yellowish-white', 'orange', 'blue', 'blue-white', 'yellowish-white', 'yellow', 'white', 'orange', 'yellowish-white', 'orange']\n",
    ")\n",
    "\n",
    "stars_df['Star color'].unique()"
   ]
  },
  {
   "cell_type": "markdown",
   "id": "e1c091f3",
   "metadata": {},
   "source": [
    "**Вывод:**\n",
    "\n",
    "В параметре цвет, все значения приведены к стандартным, принятым в спетральном анализе звезд."
   ]
  },
  {
   "cell_type": "markdown",
   "id": "3ce2c4b1",
   "metadata": {},
   "source": [
    "## Оценка количественных данных."
   ]
  },
  {
   "cell_type": "markdown",
   "id": "86d59a08",
   "metadata": {},
   "source": [
    "**Для оценки данных в зависимости от типа звезды строятся гистограммы распределения для каждого класса звезды.**"
   ]
  },
  {
   "cell_type": "code",
   "execution_count": 7,
   "id": "95987108",
   "metadata": {
    "scrolled": true
   },
   "outputs": [
    {
     "name": "stdout",
     "output_type": "stream",
     "text": [
      "Распределение признаков звезд 0 класса\n"
     ]
    },
    {
     "data": {
      "image/png": "[encoded data removed]",
      "text/plain": [
       "<Figure size 1440x360 with 5 Axes>"
      ]
     },
     "metadata": {
      "needs_background": "light"
     },
     "output_type": "display_data"
    },
    {
     "name": "stdout",
     "output_type": "stream",
     "text": [
      "_____________________________________________________________\n",
      "Распределение признаков звезд 1 класса\n"
     ]
    },
    {
     "data": {
      "image/png": "[encoded data removed]",
      "text/plain": [
       "<Figure size 1440x360 with 5 Axes>"
      ]
     },
     "metadata": {
      "needs_background": "light"
     },
     "output_type": "display_data"
    },
    {
     "name": "stdout",
     "output_type": "stream",
     "text": [
      "_____________________________________________________________\n",
      "Распределение признаков звезд 2 класса\n"
     ]
    },
    {
     "data": {
      "image/png": "[encoded data removed]",
      "text/plain": [
       "<Figure size 1440x360 with 5 Axes>"
      ]
     },
     "metadata": {
      "needs_background": "light"
     },
     "output_type": "display_data"
    },
    {
     "name": "stdout",
     "output_type": "stream",
     "text": [
      "_____________________________________________________________\n",
      "Распределение признаков звезд 3 класса\n"
     ]
    },
    {
     "data": {
      "image/png": "[encoded data removed]",
      "text/plain": [
       "<Figure size 1440x360 with 5 Axes>"
      ]
     },
     "metadata": {
      "needs_background": "light"
     },
     "output_type": "display_data"
    },
    {
     "name": "stdout",
     "output_type": "stream",
     "text": [
      "_____________________________________________________________\n",
      "Распределение признаков звезд 4 класса\n"
     ]
    },
    {
     "data": {
      "image/png": "[encoded data removed]",
      "text/plain": [
       "<Figure size 1440x360 with 5 Axes>"
      ]
     },
     "metadata": {
      "needs_background": "light"
     },
     "output_type": "display_data"
    },
    {
     "name": "stdout",
     "output_type": "stream",
     "text": [
      "_____________________________________________________________\n",
      "Распределение признаков звезд 5 класса\n"
     ]
    },
    {
     "data": {
      "image/png": "[encoded data removed]",
      "text/plain": [
       "<Figure size 1440x360 with 5 Axes>"
      ]
     },
     "metadata": {
      "needs_background": "light"
     },
     "output_type": "display_data"
    },
    {
     "name": "stdout",
     "output_type": "stream",
     "text": [
      "_____________________________________________________________\n"
     ]
    }
   ],
   "source": [
    "num_columns = 5\n",
    "num_rows = 1\n",
    "\n",
    "# Уникальные классы звезд.\n",
    "star_classes = stars_df['Star type'].unique()\n",
    "\n",
    "# Построение графика распределения значений параметров для каждого типа звезды.\n",
    "for s_class in star_classes: \n",
    "    print(f'Распределение признаков звезд {s_class} класса')\n",
    "    \n",
    "    # Фигура и оси для каждого класса звезды.\n",
    "    fig, axes = plt.subplots(num_rows, num_columns, figsize=(20, 5))\n",
    "    \n",
    "    # Параметры для текущего класса звезды.\n",
    "    star_parameter = stars_df[stars_df['Star type'] == s_class].drop('Star type', axis=1)\n",
    "    \n",
    "    # Обработка каждой оси в данной фигуре\n",
    "    for i, ax in enumerate(axes.flatten()):\n",
    "        if i < len(star_parameter.columns):\n",
    "            # Гистограмма для текущей оси\n",
    "            star_parameter[star_parameter.columns[i]].hist(bins=15,\n",
    "                                                            color='powderblue',\n",
    "                                                            edgecolor='darkslategray',\n",
    "                                                            linewidth=1,\n",
    "                                                            ax=ax)\n",
    "            ax.set_title(star_parameter.columns[i])\n",
    "    \n",
    "    plt.show()\n",
    "    print('_____________________________________________________________')"
   ]
  },
  {
   "cell_type": "markdown",
   "id": "e93bde19",
   "metadata": {},
   "source": [
    "**Оценка распределения данных по каждому классу.**\n",
    "- класс 0. \n",
    "        1) Есть аномальные значения светимости превышающие значение 0.002.\n",
    "- класс 1.\n",
    "        1)Есть аномальные значения светимости превышающие значение 0.02.\n",
    "- класс 2.\n",
    "        1)Есть аномальные значения светимости превышающие значение 0.015."
   ]
  },
  {
   "cell_type": "markdown",
   "id": "b62ecc78",
   "metadata": {},
   "source": [
    "### Обработка аномальных значений."
   ]
  },
  {
   "cell_type": "code",
   "execution_count": 8,
   "id": "8995980b",
   "metadata": {},
   "outputs": [],
   "source": [
    "#Удаление аномальных значений светимости для класса 0.\n",
    "class_num = [0, 1, 2]\n",
    "lumin_threshold_value = [0.002, 0.01, 0.01]\n",
    "for i in class_num: \n",
    "    class_lumin_median = stars_df.loc[stars_df['Star type'] == i, 'Luminosity(L/Lo)'].median()\n",
    "    stars_df.loc[(stars_df['Star type'] == i) & \n",
    "                 (stars_df['Luminosity(L/Lo)'] > lumin_threshold_value[i]), \n",
    "                                             'Luminosity(L/Lo)'] = class_lumin_median"
   ]
  },
  {
   "cell_type": "markdown",
   "id": "2d99974b",
   "metadata": {},
   "source": [
    "### Оценка распределения признаков каждого класса звезд в совокупности со всеми классами."
   ]
  },
  {
   "cell_type": "code",
   "execution_count": 9,
   "id": "1bf3148f",
   "metadata": {
    "scrolled": false
   },
   "outputs": [
    {
     "data": {
      "image/png": "[encoded data removed]",
      "text/plain": [
       "<Figure size 1440x216 with 1 Axes>"
      ]
     },
     "metadata": {
      "needs_background": "light"
     },
     "output_type": "display_data"
    },
    {
     "data": {
      "image/png": "[encoded data removed]",
      "text/plain": [
       "<Figure size 1440x216 with 1 Axes>"
      ]
     },
     "metadata": {
      "needs_background": "light"
     },
     "output_type": "display_data"
    },
    {
     "data": {
      "image/png": "[encoded data removed]",
      "text/plain": [
       "<Figure size 1440x216 with 1 Axes>"
      ]
     },
     "metadata": {
      "needs_background": "light"
     },
     "output_type": "display_data"
    },
    {
     "data": {
      "image/png": "[encoded data removed]",
      "text/plain": [
       "<Figure size 1440x216 with 1 Axes>"
      ]
     },
     "metadata": {
      "needs_background": "light"
     },
     "output_type": "display_data"
    },
    {
     "data": {
      "image/png": "[encoded data removed]",
      "text/plain": [
       "<Figure size 1440x216 with 1 Axes>"
      ]
     },
     "metadata": {
      "needs_background": "light"
     },
     "output_type": "display_data"
    }
   ],
   "source": [
    "# Data anomaly reserch\n",
    "main_features_corr = ['Temperature (K)', 'Luminosity(L/Lo)', 'Radius(R/Ro)',\n",
    "       'Absolute magnitude(Mv)', 'Star color'] \n",
    "for i in main_features_corr:\n",
    "    stars_df.plot(kind = 'scatter', y = 'Star type', x = i, \n",
    "                  grid = True, legend=True, figsize = (20,3), color='darkslategray')"
   ]
  },
  {
   "cell_type": "markdown",
   "id": "5c6c8e14",
   "metadata": {},
   "source": [
    "**Вывод:**\n",
    "\n",
    "    1) Необходимо обработать данные с цетами звезд класса 2. Т.к. часть цветовых значений не соответствую данному классу звезд.\n",
    "    2) Необходимо проверить данные на соответстие спектральному классу звезд.\n",
    "    3) Данные, за исключением п.1, не имеют явного отклонения в распределении значений.\n"
   ]
  },
  {
   "cell_type": "markdown",
   "id": "98a0910d",
   "metadata": {},
   "source": [
    "## Анализ наличия дубликатов."
   ]
  },
  {
   "cell_type": "code",
   "execution_count": 10,
   "id": "21f2ce4b",
   "metadata": {},
   "outputs": [
    {
     "data": {
      "text/plain": [
       "0"
      ]
     },
     "execution_count": 10,
     "metadata": {},
     "output_type": "execute_result"
    }
   ],
   "source": [
    "stars_df.duplicated().sum()"
   ]
  },
  {
   "cell_type": "markdown",
   "id": "0a87ed4c",
   "metadata": {},
   "source": [
    "### Вывод.\n",
    "\n",
    "Дубликаты в датасете отсутствуют."
   ]
  },
  {
   "cell_type": "markdown",
   "id": "7e8f14bc",
   "metadata": {},
   "source": [
    "## Анализ нулевых значений относительных величин."
   ]
  },
  {
   "cell_type": "markdown",
   "id": "25668d5c",
   "metadata": {},
   "source": [
    "При оценке количественных данных на графиках обнаружены значения близкие к 0 в следующих признаках: 'Luminosity(L/Lo)'и 'Radius(R/Ro)'.\n",
    "Т.к. данные значения отображают параметры относительно солнца значения не моут принимать 0 значение.\n",
    "Ниже проведена провверка на раввенство 0."
   ]
  },
  {
   "cell_type": "code",
   "execution_count": 11,
   "id": "4844297c",
   "metadata": {
    "scrolled": true
   },
   "outputs": [
    {
     "name": "stdout",
     "output_type": "stream",
     "text": [
      "Для значений Luminosity(L/Lo) 0 значения отсутствуют.\n",
      "Для значений Radius(R/Ro) 0 значения отсутствуют.\n"
     ]
    }
   ],
   "source": [
    "for i in ['Luminosity(L/Lo)', 'Radius(R/Ro)']:\n",
    "    nulls = stars_df[i].isnull().sum()\n",
    "    if nulls != 0:\n",
    "        print(f'Количество нулевых значений: {nulls}')\n",
    "    else:\n",
    "        print(f'Для значений {i} 0 значения отсутствуют.')"
   ]
  },
  {
   "cell_type": "markdown",
   "id": "2c4106dc",
   "metadata": {},
   "source": [
    "**Вывод:**\n",
    "\n",
    "0-е значения отсутствуют. Данные могут быть оставлены."
   ]
  },
  {
   "cell_type": "markdown",
   "id": "989c583f",
   "metadata": {},
   "source": [
    "## Анализ физических параметров звезд."
   ]
  },
  {
   "cell_type": "markdown",
   "id": "29e51f4c",
   "metadata": {},
   "source": [
    "### Анализ температуры звезд"
   ]
  },
  {
   "cell_type": "markdown",
   "id": "591952d7",
   "metadata": {},
   "source": [
    "Для оценки анализа звезд возможно произвести оценку адекватности исходных данных.\n",
    "\n",
    "По закону Стефана-Больцмана возможно рассчитать температуры звезд и сраввнить их с существующими значениями."
   ]
  },
  {
   "cell_type": "code",
   "execution_count": 12,
   "id": "89848318",
   "metadata": {},
   "outputs": [],
   "source": [
    "L_0 = 3.828e26 #светимость солнца\n",
    "R_0 = 6.9551e8 #радиус солнца\n",
    "StB_const = 5.67e-8 #постоянная Стефана-Больцмана\n",
    "Pi = 3.14 "
   ]
  },
  {
   "cell_type": "markdown",
   "id": "04b47af0",
   "metadata": {},
   "source": [
    "Добавление рассчетных значений температур в датафрейм."
   ]
  },
  {
   "cell_type": "code",
   "execution_count": 13,
   "id": "1b6b5072",
   "metadata": {
    "scrolled": true
   },
   "outputs": [],
   "source": [
    "stars_df['Stefan Boltzmann law'] = (\n",
    "    (stars_df['Luminosity(L/Lo)'] * L_0) / \n",
    "    (4 * Pi * StB_const * (stars_df['Radius(R/Ro)'] * R_0) ** 2)\n",
    ")**0.25"
   ]
  },
  {
   "cell_type": "markdown",
   "id": "3f8aff35",
   "metadata": {},
   "source": [
    "С помощью метрики RMSE оценивается, насколько фактические температуры отличаются от рассчетных."
   ]
  },
  {
   "cell_type": "code",
   "execution_count": 14,
   "id": "7b148f2e",
   "metadata": {},
   "outputs": [
    {
     "name": "stdout",
     "output_type": "stream",
     "text": [
      "RMSE: 8371.52677138732\n"
     ]
    }
   ],
   "source": [
    "y_pred = stars_df['Stefan Boltzmann law'] \n",
    "y_fact = stars_df['Temperature (K)']\n",
    "mse = mean_squared_error(y_fact, y_pred)\n",
    "mse\n",
    "rmse = mse**(0.5)\n",
    "print(f'RMSE: {rmse}')"
   ]
  },
  {
   "cell_type": "markdown",
   "id": "712c161b",
   "metadata": {},
   "source": [
    "Ошибка слишком велика. Однако в рамках проекта невозможно определить, является ли исходная температура ошибочной, или нет. Поэтому никакая обработка трагета не производится. Тем более расчетная температура по закону Стефана-Больцмана является лишь частью методолгии определения температуры звезд и не может быть принята за единственное истинное значение.\n",
    "\n",
    "Параметр рассчетной температуры оставляется как синтетически разработанная фича."
   ]
  },
  {
   "cell_type": "markdown",
   "id": "43174316",
   "metadata": {},
   "source": [
    "### Спектральные классы звезд."
   ]
  },
  {
   "cell_type": "markdown",
   "id": "8fbdc141",
   "metadata": {},
   "source": [
    "Чтобы оценить насколько исходные данные соответствуют действительности строится график зависимости температуры от светимости звезд. На график накладываются цвета и размеры звезд. График сравнивается с спектральным классом звезд, принятым в астрономии."
   ]
  },
  {
   "cell_type": "markdown",
   "id": "1ba5c9fd",
   "metadata": {},
   "source": [
    "\n",
    "Для построения графика используется библиотека matplotlib. Для ее корректного использования необходимо добавить в датафрейм цвета в соответствии с цветовыми кодами данной библиотеки."
   ]
  },
  {
   "cell_type": "code",
   "execution_count": 15,
   "id": "7ffb8726",
   "metadata": {
    "scrolled": true
   },
   "outputs": [
    {
     "data": {
      "text/html": [
       "<div>\n",
       "<style scoped>\n",
       "    .dataframe tbody tr th:only-of-type {\n",
       "        vertical-align: middle;\n",
       "    }\n",
       "\n",
       "    .dataframe tbody tr th {\n",
       "        vertical-align: top;\n",
       "    }\n",
       "\n",
       "    .dataframe thead th {\n",
       "        text-align: right;\n",
       "    }\n",
       "</style>\n",
       "<table border=\"1\" class=\"dataframe\">\n",
       "  <thead>\n",
       "    <tr style=\"text-align: right;\">\n",
       "      <th></th>\n",
       "      <th>Star color</th>\n",
       "      <th>plt_color</th>\n",
       "    </tr>\n",
       "  </thead>\n",
       "  <tbody>\n",
       "    <tr>\n",
       "      <th>0</th>\n",
       "      <td>red</td>\n",
       "      <td>red</td>\n",
       "    </tr>\n",
       "    <tr>\n",
       "      <th>1</th>\n",
       "      <td>blue-white</td>\n",
       "      <td>skyblue</td>\n",
       "    </tr>\n",
       "    <tr>\n",
       "      <th>2</th>\n",
       "      <td>white</td>\n",
       "      <td>white</td>\n",
       "    </tr>\n",
       "    <tr>\n",
       "      <th>3</th>\n",
       "      <td>yellowish-white</td>\n",
       "      <td>lemonchiffon</td>\n",
       "    </tr>\n",
       "    <tr>\n",
       "      <th>4</th>\n",
       "      <td>orange</td>\n",
       "      <td>orange</td>\n",
       "    </tr>\n",
       "    <tr>\n",
       "      <th>5</th>\n",
       "      <td>blue</td>\n",
       "      <td>deepskyblue</td>\n",
       "    </tr>\n",
       "    <tr>\n",
       "      <th>6</th>\n",
       "      <td>yellow</td>\n",
       "      <td>yellow</td>\n",
       "    </tr>\n",
       "  </tbody>\n",
       "</table>\n",
       "</div>"
      ],
      "text/plain": [
       "        Star color     plt_color\n",
       "0              red           red\n",
       "1       blue-white       skyblue\n",
       "2            white         white\n",
       "3  yellowish-white  lemonchiffon\n",
       "4           orange        orange\n",
       "5             blue   deepskyblue\n",
       "6           yellow        yellow"
      ]
     },
     "execution_count": 15,
     "metadata": {},
     "output_type": "execute_result"
    }
   ],
   "source": [
    "#Датафрейм с цветами. Корреляция заданных цветов и цветов mplt. \n",
    "color_list = stars_df['Star color'].unique()\n",
    "colors_df = pd.DataFrame(color_list, columns=['Star color'])\n",
    "colors_df['plt_color'] = [\n",
    "    'red',\n",
    "    'skyblue',\n",
    "    'white',\n",
    "    'lemonchiffon',\n",
    "    'orange',\n",
    "    'deepskyblue',\n",
    "    'yellow',\n",
    "    \n",
    "]\n",
    "colors_df"
   ]
  },
  {
   "cell_type": "code",
   "execution_count": 16,
   "id": "00690566",
   "metadata": {},
   "outputs": [],
   "source": [
    "# Добавление в датасет цветов по номенклатуре matplotlib.\n",
    "def mplt(row):\n",
    "    for i in colors_df['Star color']:\n",
    "        if row['Star color'] == i:\n",
    "            plt_color_i = colors_df.loc[colors_df['Star color'] == i].index[0]\n",
    "            return colors_df['plt_color'][plt_color_i]\n"
   ]
  },
  {
   "cell_type": "code",
   "execution_count": 17,
   "id": "a1228c70",
   "metadata": {},
   "outputs": [
    {
     "data": {
      "text/html": [
       "<div>\n",
       "<style scoped>\n",
       "    .dataframe tbody tr th:only-of-type {\n",
       "        vertical-align: middle;\n",
       "    }\n",
       "\n",
       "    .dataframe tbody tr th {\n",
       "        vertical-align: top;\n",
       "    }\n",
       "\n",
       "    .dataframe thead th {\n",
       "        text-align: right;\n",
       "    }\n",
       "</style>\n",
       "<table border=\"1\" class=\"dataframe\">\n",
       "  <thead>\n",
       "    <tr style=\"text-align: right;\">\n",
       "      <th></th>\n",
       "      <th>Temperature (K)</th>\n",
       "      <th>Luminosity(L/Lo)</th>\n",
       "      <th>Radius(R/Ro)</th>\n",
       "      <th>Absolute magnitude(Mv)</th>\n",
       "      <th>Star type</th>\n",
       "      <th>Star color</th>\n",
       "      <th>Stefan Boltzmann law</th>\n",
       "      <th>plt_color</th>\n",
       "    </tr>\n",
       "  </thead>\n",
       "  <tbody>\n",
       "    <tr>\n",
       "      <th>0</th>\n",
       "      <td>3068</td>\n",
       "      <td>0.000520</td>\n",
       "      <td>0.1700</td>\n",
       "      <td>16.12</td>\n",
       "      <td>0</td>\n",
       "      <td>red</td>\n",
       "      <td>2114.581818</td>\n",
       "      <td>red</td>\n",
       "    </tr>\n",
       "    <tr>\n",
       "      <th>1</th>\n",
       "      <td>3042</td>\n",
       "      <td>0.000500</td>\n",
       "      <td>0.1542</td>\n",
       "      <td>16.60</td>\n",
       "      <td>0</td>\n",
       "      <td>red</td>\n",
       "      <td>2198.611183</td>\n",
       "      <td>red</td>\n",
       "    </tr>\n",
       "    <tr>\n",
       "      <th>2</th>\n",
       "      <td>2600</td>\n",
       "      <td>0.000300</td>\n",
       "      <td>0.1020</td>\n",
       "      <td>18.70</td>\n",
       "      <td>0</td>\n",
       "      <td>red</td>\n",
       "      <td>2379.185729</td>\n",
       "      <td>red</td>\n",
       "    </tr>\n",
       "    <tr>\n",
       "      <th>3</th>\n",
       "      <td>2800</td>\n",
       "      <td>0.000200</td>\n",
       "      <td>0.1600</td>\n",
       "      <td>16.65</td>\n",
       "      <td>0</td>\n",
       "      <td>red</td>\n",
       "      <td>1716.507186</td>\n",
       "      <td>red</td>\n",
       "    </tr>\n",
       "    <tr>\n",
       "      <th>4</th>\n",
       "      <td>1939</td>\n",
       "      <td>0.000138</td>\n",
       "      <td>0.1030</td>\n",
       "      <td>20.06</td>\n",
       "      <td>0</td>\n",
       "      <td>red</td>\n",
       "      <td>1949.841357</td>\n",
       "      <td>red</td>\n",
       "    </tr>\n",
       "  </tbody>\n",
       "</table>\n",
       "</div>"
      ],
      "text/plain": [
       "   Temperature (K)  Luminosity(L/Lo)  Radius(R/Ro)  Absolute magnitude(Mv)  \\\n",
       "0             3068          0.000520        0.1700                   16.12   \n",
       "1             3042          0.000500        0.1542                   16.60   \n",
       "2             2600          0.000300        0.1020                   18.70   \n",
       "3             2800          0.000200        0.1600                   16.65   \n",
       "4             1939          0.000138        0.1030                   20.06   \n",
       "\n",
       "   Star type Star color  Stefan Boltzmann law plt_color  \n",
       "0          0        red           2114.581818       red  \n",
       "1          0        red           2198.611183       red  \n",
       "2          0        red           2379.185729       red  \n",
       "3          0        red           1716.507186       red  \n",
       "4          0        red           1949.841357       red  "
      ]
     },
     "execution_count": 17,
     "metadata": {},
     "output_type": "execute_result"
    }
   ],
   "source": [
    "stars_df['plt_color'] = stars_df.apply(mplt, axis=1)\n",
    "stars_df.head(5)"
   ]
  },
  {
   "cell_type": "markdown",
   "id": "665c7446",
   "metadata": {},
   "source": [
    "Ниже приведен общепринятый в астраномии спектральный класс звезд.\n",
    "В рамках проекта он берется за эталон и с ним сравнивается график спектрального класса звезд, построенный на исходных данных."
   ]
  },
  {
   "cell_type": "markdown",
   "id": "cf19f682",
   "metadata": {},
   "source": [
    "![](https://upload.wikimedia.org/wikipedia/commons/f/fe/HRDiagram_ru.png)"
   ]
  },
  {
   "cell_type": "code",
   "execution_count": 18,
   "id": "57ab14f5",
   "metadata": {
    "scrolled": false
   },
   "outputs": [
    {
     "data": {
      "image/png": "[encoded data removed]",
      "text/plain": [
       "<Figure size 1440x1440 with 1 Axes>"
      ]
     },
     "metadata": {
      "needs_background": "light"
     },
     "output_type": "display_data"
    }
   ],
   "source": [
    "import matplotlib.pyplot as plt\n",
    "import numpy as np\n",
    "\n",
    "# Создайте общую диаграмму\n",
    "fig, ax = plt.subplots(figsize=(20, 20))\n",
    "ax.set_facecolor('black')  # Черный фон\n",
    "\n",
    "# Легенда\n",
    "legend_labels = ['Карлик', 'Красный карлик', 'Белый карлик', 'Главная последовательность', 'Сверхгигант', 'Гипергигант']\n",
    "legend_handles = []\n",
    "\n",
    "# Постройка HR-диаграммы для каждого типа звезды\n",
    "for i in range(6):\n",
    "    temperature = stars_df[stars_df['Star type'] == i]['Temperature (K)']\n",
    "    luminosity = stars_df[stars_df['Star type'] == i]['Luminosity(L/Lo)']\n",
    "\n",
    "    # Логарифмические шкалы\n",
    "    log_temperature = temperature\n",
    "    log_luminosity = luminosity**(0.1) # Возведение в степень необходима чтобы сжыть график по Оy\n",
    " \n",
    "    # Цвета и размеры точек\n",
    "    colors = stars_df[stars_df['Star type'] == i]['plt_color']\n",
    "    sizes = (stars_df[stars_df['Star type'] == i]['Star type'] + 1)**3\n",
    "\n",
    "    # Добавление точек на диаграмму\n",
    "    scatter = ax.scatter(log_temperature, log_luminosity, c=colors, s=sizes, alpha=1)\n",
    "    \n",
    "    # Добавление в легенду\n",
    "    legend_handles.append(scatter)\n",
    "\n",
    "# Настройка внешнего вида\n",
    "ax.set_title('HR-диаграмма', fontsize=25)\n",
    "ax.set_xlabel('Temperature (K)', fontsize=20)\n",
    "ax.set_ylabel('Luminosity(L/Lo) ^ (0.1)', fontsize=20)\n",
    "ax.invert_xaxis()  # Инвертировать ось температуры, чтобы высокие значения были слева\n",
    "ax.tick_params(axis='both', labelsize=15)\n",
    "ax.grid(True)\n",
    "\n",
    "# Добавление легенды\n",
    "#legend = ax.legend(handles=legend_handles, title='Тип звезды', labels=legend_labels)\n",
    "#ax.add_artist(legend)\n",
    "\n",
    "plt.show()"
   ]
  },
  {
   "cell_type": "markdown",
   "id": "f93bb608",
   "metadata": {},
   "source": [
    "На диаграмме видно, что часть звезд по цвету не соотвтетсвуют своей температуре. Также заметно что в районе, где должны располагаться гиганты и сверхгиганты, светила находятся вперемпешку между собой.\n",
    "\n",
    "Для того, чтобы убедиться в достоверности данных ниже производится сверка исходных дынных с гарвардской классификацией звезд, приведенной ниже."
   ]
  },
  {
   "cell_type": "markdown",
   "id": "0cdd8547",
   "metadata": {},
   "source": [
    "![](https://cosmosfrontier.com/wp-content/uploads/sites/32/2020/04/stellar-classification.jpg)"
   ]
  },
  {
   "cell_type": "markdown",
   "id": "299fd1d5",
   "metadata": {},
   "source": [
    "Приведение температур в соответствие с гарвардской классификацией звезд."
   ]
  },
  {
   "cell_type": "code",
   "execution_count": 19,
   "id": "3e14b553",
   "metadata": {},
   "outputs": [],
   "source": [
    "def star_colors_transformer(row):\n",
    "    temperature = row['Temperature (K)']\n",
    "    if temperature <= 3500:\n",
    "        return 'red'\n",
    "    elif temperature <= 5000:\n",
    "        return 'orange'\n",
    "    elif temperature <= 6000:\n",
    "        return 'yellow'\n",
    "    elif temperature <= 7500:\n",
    "        return 'yellowish-white'\n",
    "    elif temperature <= 10000:\n",
    "        return 'white'\n",
    "    elif temperature <= 30000:\n",
    "        return 'blue-white'\n",
    "    else:\n",
    "        return 'blue'"
   ]
  },
  {
   "cell_type": "code",
   "execution_count": 20,
   "id": "6c7c83c5",
   "metadata": {
    "scrolled": true
   },
   "outputs": [
    {
     "data": {
      "text/html": [
       "<div>\n",
       "<style scoped>\n",
       "    .dataframe tbody tr th:only-of-type {\n",
       "        vertical-align: middle;\n",
       "    }\n",
       "\n",
       "    .dataframe tbody tr th {\n",
       "        vertical-align: top;\n",
       "    }\n",
       "\n",
       "    .dataframe thead th {\n",
       "        text-align: right;\n",
       "    }\n",
       "</style>\n",
       "<table border=\"1\" class=\"dataframe\">\n",
       "  <thead>\n",
       "    <tr style=\"text-align: right;\">\n",
       "      <th></th>\n",
       "      <th>Temperature (K)</th>\n",
       "      <th>Luminosity(L/Lo)</th>\n",
       "      <th>Radius(R/Ro)</th>\n",
       "      <th>Absolute magnitude(Mv)</th>\n",
       "      <th>Star type</th>\n",
       "      <th>Star color</th>\n",
       "      <th>Stefan Boltzmann law</th>\n",
       "      <th>plt_color</th>\n",
       "    </tr>\n",
       "  </thead>\n",
       "  <tbody>\n",
       "    <tr>\n",
       "      <th>0</th>\n",
       "      <td>3068</td>\n",
       "      <td>0.000520</td>\n",
       "      <td>0.1700</td>\n",
       "      <td>16.12</td>\n",
       "      <td>0</td>\n",
       "      <td>red</td>\n",
       "      <td>2114.581818</td>\n",
       "      <td>red</td>\n",
       "    </tr>\n",
       "    <tr>\n",
       "      <th>1</th>\n",
       "      <td>3042</td>\n",
       "      <td>0.000500</td>\n",
       "      <td>0.1542</td>\n",
       "      <td>16.60</td>\n",
       "      <td>0</td>\n",
       "      <td>red</td>\n",
       "      <td>2198.611183</td>\n",
       "      <td>red</td>\n",
       "    </tr>\n",
       "    <tr>\n",
       "      <th>2</th>\n",
       "      <td>2600</td>\n",
       "      <td>0.000300</td>\n",
       "      <td>0.1020</td>\n",
       "      <td>18.70</td>\n",
       "      <td>0</td>\n",
       "      <td>red</td>\n",
       "      <td>2379.185729</td>\n",
       "      <td>red</td>\n",
       "    </tr>\n",
       "    <tr>\n",
       "      <th>3</th>\n",
       "      <td>2800</td>\n",
       "      <td>0.000200</td>\n",
       "      <td>0.1600</td>\n",
       "      <td>16.65</td>\n",
       "      <td>0</td>\n",
       "      <td>red</td>\n",
       "      <td>1716.507186</td>\n",
       "      <td>red</td>\n",
       "    </tr>\n",
       "    <tr>\n",
       "      <th>4</th>\n",
       "      <td>1939</td>\n",
       "      <td>0.000138</td>\n",
       "      <td>0.1030</td>\n",
       "      <td>20.06</td>\n",
       "      <td>0</td>\n",
       "      <td>red</td>\n",
       "      <td>1949.841357</td>\n",
       "      <td>red</td>\n",
       "    </tr>\n",
       "  </tbody>\n",
       "</table>\n",
       "</div>"
      ],
      "text/plain": [
       "   Temperature (K)  Luminosity(L/Lo)  Radius(R/Ro)  Absolute magnitude(Mv)  \\\n",
       "0             3068          0.000520        0.1700                   16.12   \n",
       "1             3042          0.000500        0.1542                   16.60   \n",
       "2             2600          0.000300        0.1020                   18.70   \n",
       "3             2800          0.000200        0.1600                   16.65   \n",
       "4             1939          0.000138        0.1030                   20.06   \n",
       "\n",
       "   Star type Star color  Stefan Boltzmann law plt_color  \n",
       "0          0        red           2114.581818       red  \n",
       "1          0        red           2198.611183       red  \n",
       "2          0        red           2379.185729       red  \n",
       "3          0        red           1716.507186       red  \n",
       "4          0        red           1949.841357       red  "
      ]
     },
     "execution_count": 20,
     "metadata": {},
     "output_type": "execute_result"
    }
   ],
   "source": [
    "#Корректировка цветов в df\n",
    "stars_df['Star color'] = stars_df.apply(star_colors_transformer, axis = 1)\n",
    "stars_df['plt_color'] = stars_df.apply(mplt, axis=1)\n",
    "stars_df.head(5)\n"
   ]
  },
  {
   "cell_type": "code",
   "execution_count": 21,
   "id": "ae477222",
   "metadata": {
    "scrolled": false
   },
   "outputs": [
    {
     "data": {
      "image/png": "[encoded data removed]",
      "text/plain": [
       "<Figure size 1440x1440 with 1 Axes>"
      ]
     },
     "metadata": {
      "needs_background": "light"
     },
     "output_type": "display_data"
    }
   ],
   "source": [
    "import matplotlib.pyplot as plt\n",
    "import numpy as np\n",
    "\n",
    "# Создайте общую диаграмму\n",
    "fig, ax = plt.subplots(figsize=(20, 20))\n",
    "ax.set_facecolor('black')  # Черный фон\n",
    "\n",
    "# Легенда\n",
    "legend_labels = ['Карлик', 'Красный карлик', 'Белый карлик', 'Главная последовательность', 'Сверхгигант', 'Гипергигант']\n",
    "legend_handles = []\n",
    "\n",
    "# Постройка HR-диаграммы для каждого типа звезды\n",
    "for i in range(6):\n",
    "    temperature = stars_df[stars_df['Star type'] == i]['Temperature (K)']\n",
    "    luminosity = stars_df[stars_df['Star type'] == i]['Luminosity(L/Lo)']\n",
    "\n",
    "    # Логарифмические шкалы\n",
    "    log_temperature = temperature\n",
    "    log_luminosity = luminosity**(0.1) # Возведение в степень необходима чтобы сжыть график по Оy\n",
    " \n",
    "    # Цвета и размеры точек\n",
    "    colors = stars_df[stars_df['Star type'] == i]['plt_color']\n",
    "    sizes = (stars_df[stars_df['Star type'] == i]['Star type'] + 1)**3\n",
    "\n",
    "    # Добавление точек на диаграмму\n",
    "    scatter = ax.scatter(log_temperature, log_luminosity, c=colors, s=sizes, alpha=1)\n",
    "    \n",
    "    # Добавление в легенду\n",
    "    legend_handles.append(scatter)\n",
    "\n",
    "# Настройка внешнего вида\n",
    "ax.set_title('HR-диаграмма', fontsize=25)\n",
    "ax.set_xlabel('Temperature (K)', fontsize=20)\n",
    "ax.set_ylabel('Luminosity(L/Lo) ^ (0.1)', fontsize=20)\n",
    "ax.invert_xaxis()  # Инвертировать ось температуры, чтобы высокие значения были слева\n",
    "ax.tick_params(axis='both', labelsize=15)\n",
    "ax.grid(True)\n",
    "\n",
    "\n",
    "# Добавление легенды\n",
    "#legend = ax.legend(handles=legend_handles, title='Тип звезды', labels=legend_labels)\n",
    "#ax.add_artist(legend)\n",
    "\n",
    "plt.show()"
   ]
  },
  {
   "cell_type": "code",
   "execution_count": 22,
   "id": "f6d9bfaa",
   "metadata": {},
   "outputs": [],
   "source": [
    "#Удаление параметра 'plt_color'.\n",
    "stars_df = stars_df.drop('plt_color', axis = 1)"
   ]
  },
  {
   "cell_type": "markdown",
   "id": "61867232",
   "metadata": {},
   "source": [
    "По характеристикам звезды с индексами 29 и 80 должны относиться к типу звезд - 2 и иметь белый цвет."
   ]
  },
  {
   "cell_type": "markdown",
   "id": "a8b2e0e8",
   "metadata": {},
   "source": [
    "**Вывод:**\n",
    "\n",
    "Данные преобразованы и соответствуют гарвардской классификацией звезд."
   ]
  },
  {
   "cell_type": "markdown",
   "id": "c8d04e19",
   "metadata": {},
   "source": [
    "## Анализ признаков на мультиколлинеарность."
   ]
  },
  {
   "cell_type": "markdown",
   "id": "3ef8abd3",
   "metadata": {},
   "source": [
    "Для анализа признаков на мультиколлинеарность используется библиотека phik.Она позволяет выявить степень корреляции между категориальными и числовыми признаками."
   ]
  },
  {
   "cell_type": "code",
   "execution_count": 23,
   "id": "85562b17",
   "metadata": {
    "scrolled": true
   },
   "outputs": [
    {
     "name": "stdout",
     "output_type": "stream",
     "text": [
      "interval columns not set, guessing: ['Temperature (K)', 'Luminosity(L/Lo)', 'Radius(R/Ro)', 'Absolute magnitude(Mv)', 'Star type', 'Stefan Boltzmann law']\n",
      "CPU times: user 66.3 ms, sys: 164 ms, total: 230 ms\n",
      "Wall time: 2.46 s\n"
     ]
    },
    {
     "data": {
      "text/html": [
       "<div>\n",
       "<style scoped>\n",
       "    .dataframe tbody tr th:only-of-type {\n",
       "        vertical-align: middle;\n",
       "    }\n",
       "\n",
       "    .dataframe tbody tr th {\n",
       "        vertical-align: top;\n",
       "    }\n",
       "\n",
       "    .dataframe thead th {\n",
       "        text-align: right;\n",
       "    }\n",
       "</style>\n",
       "<table border=\"1\" class=\"dataframe\">\n",
       "  <thead>\n",
       "    <tr style=\"text-align: right;\">\n",
       "      <th></th>\n",
       "      <th>Temperature (K)</th>\n",
       "      <th>Luminosity(L/Lo)</th>\n",
       "      <th>Radius(R/Ro)</th>\n",
       "      <th>Absolute magnitude(Mv)</th>\n",
       "      <th>Star type</th>\n",
       "      <th>Star color</th>\n",
       "      <th>Stefan Boltzmann law</th>\n",
       "    </tr>\n",
       "  </thead>\n",
       "  <tbody>\n",
       "    <tr>\n",
       "      <th>Temperature (K)</th>\n",
       "      <td>1.000000</td>\n",
       "      <td>0.561692</td>\n",
       "      <td>0.236090</td>\n",
       "      <td>0.709280</td>\n",
       "      <td>0.603203</td>\n",
       "      <td>0.854931</td>\n",
       "      <td>0.703638</td>\n",
       "    </tr>\n",
       "    <tr>\n",
       "      <th>Luminosity(L/Lo)</th>\n",
       "      <td>0.561692</td>\n",
       "      <td>1.000000</td>\n",
       "      <td>0.574964</td>\n",
       "      <td>0.709456</td>\n",
       "      <td>0.654026</td>\n",
       "      <td>0.380054</td>\n",
       "      <td>0.478895</td>\n",
       "    </tr>\n",
       "    <tr>\n",
       "      <th>Radius(R/Ro)</th>\n",
       "      <td>0.236090</td>\n",
       "      <td>0.574964</td>\n",
       "      <td>1.000000</td>\n",
       "      <td>0.512414</td>\n",
       "      <td>0.635115</td>\n",
       "      <td>0.310865</td>\n",
       "      <td>0.000000</td>\n",
       "    </tr>\n",
       "    <tr>\n",
       "      <th>Absolute magnitude(Mv)</th>\n",
       "      <td>0.709280</td>\n",
       "      <td>0.709456</td>\n",
       "      <td>0.512414</td>\n",
       "      <td>1.000000</td>\n",
       "      <td>0.915921</td>\n",
       "      <td>0.716944</td>\n",
       "      <td>0.664115</td>\n",
       "    </tr>\n",
       "    <tr>\n",
       "      <th>Star type</th>\n",
       "      <td>0.603203</td>\n",
       "      <td>0.654026</td>\n",
       "      <td>0.635115</td>\n",
       "      <td>0.915921</td>\n",
       "      <td>1.000000</td>\n",
       "      <td>0.622169</td>\n",
       "      <td>0.794675</td>\n",
       "    </tr>\n",
       "  </tbody>\n",
       "</table>\n",
       "</div>"
      ],
      "text/plain": [
       "                        Temperature (K)  Luminosity(L/Lo)  Radius(R/Ro)  \\\n",
       "Temperature (K)                1.000000          0.561692      0.236090   \n",
       "Luminosity(L/Lo)               0.561692          1.000000      0.574964   \n",
       "Radius(R/Ro)                   0.236090          0.574964      1.000000   \n",
       "Absolute magnitude(Mv)         0.709280          0.709456      0.512414   \n",
       "Star type                      0.603203          0.654026      0.635115   \n",
       "\n",
       "                        Absolute magnitude(Mv)  Star type  Star color  \\\n",
       "Temperature (K)                       0.709280   0.603203    0.854931   \n",
       "Luminosity(L/Lo)                      0.709456   0.654026    0.380054   \n",
       "Radius(R/Ro)                          0.512414   0.635115    0.310865   \n",
       "Absolute magnitude(Mv)                1.000000   0.915921    0.716944   \n",
       "Star type                             0.915921   1.000000    0.622169   \n",
       "\n",
       "                        Stefan Boltzmann law  \n",
       "Temperature (K)                     0.703638  \n",
       "Luminosity(L/Lo)                    0.478895  \n",
       "Radius(R/Ro)                        0.000000  \n",
       "Absolute magnitude(Mv)              0.664115  \n",
       "Star type                           0.794675  "
      ]
     },
     "execution_count": 23,
     "metadata": {},
     "output_type": "execute_result"
    }
   ],
   "source": [
    "%%time\n",
    "#Матрица корреляции / Correlation matrix\n",
    "phik_base = stars_df.phik_matrix()\n",
    "phik_base.head()"
   ]
  },
  {
   "cell_type": "code",
   "execution_count": 24,
   "id": "9c7810bd",
   "metadata": {
    "scrolled": false
   },
   "outputs": [
    {
     "data": {
      "image/png": "[encoded data removed]",
      "text/plain": [
       "<Figure size 720x720 with 2 Axes>"
      ]
     },
     "metadata": {
      "needs_background": "light"
     },
     "output_type": "display_data"
    }
   ],
   "source": [
    "#Визуализация матрицы 𝜙k / 𝜙k matrix visualisation\n",
    "plot_correlation_matrix(phik_base.values, \n",
    "                        x_labels=phik_base.columns, \n",
    "                        y_labels=phik_base.index, \n",
    "                        vmin=0, vmax=1, color_map=\"Purples\", \n",
    "                        title=r\"features_correlation $\\phi_K$\", \n",
    "                        fontsize_factor=1.1, \n",
    "                        figsize=(10, 10))\n",
    "plt.tight_layout()"
   ]
  },
  {
   "cell_type": "markdown",
   "id": "c4d59847",
   "metadata": {},
   "source": [
    "**Результат анализа:**\n",
    "\n",
    "- Мультиколлинеарность между признаками отсутствует.\n",
    "- Целевой признак (Температура на поверхности) в большей степени зависит от цвета звезды, а в меньшей степени зависит от ее радиуса."
   ]
  },
  {
   "cell_type": "markdown",
   "id": "524ede44",
   "metadata": {},
   "source": [
    "## Вывод\n",
    "- Пропуски в данных отсутствуют.\n",
    "- Значения в каждом признаке соответствуют требуемым физическим характеристикам звезд.\n",
    "- Аномальные значения в данных отсутствуют.\n",
    "- Мультиколлинеарность в признаках отсутствует.\n",
    "- Дубли в данных исключены."
   ]
  },
  {
   "cell_type": "markdown",
   "id": "6950ab14",
   "metadata": {},
   "source": [
    "# Подготовка данных к построению модели."
   ]
  },
  {
   "cell_type": "markdown",
   "id": "b2848826",
   "metadata": {},
   "source": [
    "## Объявление переменных."
   ]
  },
  {
   "cell_type": "code",
   "execution_count": 25,
   "id": "2e8ad4bc",
   "metadata": {},
   "outputs": [],
   "source": [
    "#random_state для train_test_split\n",
    "rand_st = 42\n"
   ]
  },
  {
   "cell_type": "markdown",
   "id": "75d551cb",
   "metadata": {},
   "source": [
    "## Подготовка обучаюшей и валидационной выборки."
   ]
  },
  {
   "cell_type": "code",
   "execution_count": 26,
   "id": "3559b866",
   "metadata": {},
   "outputs": [],
   "source": [
    "#Определение целевого признака и набора фичей.\n",
    "y = stars_df['Temperature (K)']\n",
    "X = stars_df.drop(['Temperature (K)'], axis = 1) \n",
    "\n",
    "#Валидационная и тестовая выборки.\n",
    "X_train, X_valid, y_train, y_valid = train_test_split(X, y, test_size = 0.2, random_state = rand_st) "
   ]
  },
  {
   "cell_type": "markdown",
   "id": "49b21c64",
   "metadata": {},
   "source": [
    "## Кодирование данных. OHE & StandardScaler. Pipeline"
   ]
  },
  {
   "cell_type": "code",
   "execution_count": 27,
   "id": "d06dff5b",
   "metadata": {
    "scrolled": true
   },
   "outputs": [],
   "source": [
    "#Выделение количественных призгнаков.\n",
    "NUMERIC_COLUMNS = X_train.select_dtypes(include = ['int', 'float']).columns.tolist()\n",
    "NUMERIC_COLUMNS.remove('Star type')\n",
    "#Выделение категориальных признаков. \n",
    "CAT_COLUMNNS = X_train.select_dtypes(include = 'object').columns.tolist()\n",
    "CAT_COLUMNNS.append('Star type')\n"
   ]
  },
  {
   "cell_type": "code",
   "execution_count": 28,
   "id": "e069261f",
   "metadata": {
    "scrolled": false
   },
   "outputs": [
    {
     "name": "stdout",
     "output_type": "stream",
     "text": [
      "Список числовых признаков: ['Luminosity(L/Lo)', 'Radius(R/Ro)', 'Absolute magnitude(Mv)', 'Stefan Boltzmann law']\n",
      "Список категориальных признаков: ['Star color', 'Star type']\n"
     ]
    }
   ],
   "source": [
    "print(f'Список числовых признаков: {NUMERIC_COLUMNS}')\n",
    "print(f'Список категориальных признаков: {CAT_COLUMNNS}')"
   ]
  },
  {
   "cell_type": "code",
   "execution_count": 29,
   "id": "e0777e42",
   "metadata": {},
   "outputs": [],
   "source": [
    "#Cоздание трансформера для числовых столбцов\n",
    "numeric_transformer = Pipeline(steps=[\n",
    "    ('scaler', StandardScaler())]) #StandardScaler()\n",
    "\n",
    "#Cоздание трансформера для категориальных столбцов\n",
    "categorical_transformer = Pipeline(steps=[\n",
    "    ('onehot', OneHotEncoder(handle_unknown='error', drop='first'))])"
   ]
  },
  {
   "cell_type": "code",
   "execution_count": 30,
   "id": "d9262cd2",
   "metadata": {},
   "outputs": [],
   "source": [
    "#создание общего трансформера\n",
    "preprocessor = ColumnTransformer(\n",
    "    transformers=[\n",
    "        ('num', numeric_transformer, NUMERIC_COLUMNS),\n",
    "        ('cat', categorical_transformer, CAT_COLUMNNS)],\n",
    "        remainder='passthrough'\n",
    ")\n",
    "\n",
    "#создание полного пайплайна\n",
    "pipeline = Pipeline(steps=[('preprocessor', preprocessor)])\n",
    "\n",
    "#применение пайплайна\n",
    "X_train_transformed = pipeline.fit_transform(X_train)\n",
    "X_valid_transformed = pipeline.transform(X_valid)"
   ]
  },
  {
   "cell_type": "code",
   "execution_count": 31,
   "id": "7437bfaa",
   "metadata": {},
   "outputs": [],
   "source": [
    "onehot = pipeline.named_steps['preprocessor'].named_transformers_['cat'].named_steps['onehot']"
   ]
  },
  {
   "cell_type": "code",
   "execution_count": 32,
   "id": "63226df5",
   "metadata": {
    "scrolled": true
   },
   "outputs": [
    {
     "name": "stderr",
     "output_type": "stream",
     "text": [
      "/Users/maksimgorskov/opt/anaconda3/lib/python3.9/site-packages/sklearn/utils/deprecation.py:87: FutureWarning: Function get_feature_names is deprecated; get_feature_names is deprecated in 1.0 and will be removed in 1.2. Please use get_feature_names_out instead.\n",
      "  warnings.warn(msg, category=FutureWarning)\n"
     ]
    },
    {
     "data": {
      "text/plain": [
       "array(['Star color_blue-white', 'Star color_orange', 'Star color_red',\n",
       "       'Star color_white', 'Star color_yellow',\n",
       "       'Star color_yellowish-white', 'Star type_1', 'Star type_2',\n",
       "       'Star type_3', 'Star type_4', 'Star type_5'], dtype=object)"
      ]
     },
     "execution_count": 32,
     "metadata": {},
     "output_type": "execute_result"
    }
   ],
   "source": [
    "categorical_features = onehot.get_feature_names(CAT_COLUMNNS)\n",
    "categorical_features"
   ]
  },
  {
   "cell_type": "code",
   "execution_count": 33,
   "id": "d1ac1d71",
   "metadata": {
    "scrolled": false
   },
   "outputs": [
    {
     "data": {
      "text/plain": [
       "array(['Luminosity(L/Lo)', 'Radius(R/Ro)', 'Absolute magnitude(Mv)',\n",
       "       'Stefan Boltzmann law', 'Star color_blue-white',\n",
       "       'Star color_orange', 'Star color_red', 'Star color_white',\n",
       "       'Star color_yellow', 'Star color_yellowish-white', 'Star type_1',\n",
       "       'Star type_2', 'Star type_3', 'Star type_4', 'Star type_5',\n",
       "       'Star color', 'Star type'], dtype=object)"
      ]
     },
     "execution_count": 33,
     "metadata": {},
     "output_type": "execute_result"
    }
   ],
   "source": [
    "all_features = np.concatenate([NUMERIC_COLUMNS, categorical_features, CAT_COLUMNNS])\n",
    "all_features"
   ]
  },
  {
   "cell_type": "code",
   "execution_count": 34,
   "id": "35e994bb",
   "metadata": {},
   "outputs": [
    {
     "data": {
      "text/plain": [
       "array(['Luminosity(L/Lo)', 'Radius(R/Ro)', 'Absolute magnitude(Mv)',\n",
       "       'Stefan Boltzmann law', 'Star color', 'Star type'], dtype='<U22')"
      ]
     },
     "execution_count": 34,
     "metadata": {},
     "output_type": "execute_result"
    }
   ],
   "source": [
    "all_features = np.concatenate([NUMERIC_COLUMNS, CAT_COLUMNNS])\n",
    "all_features"
   ]
  },
  {
   "cell_type": "code",
   "execution_count": 35,
   "id": "3f879c34",
   "metadata": {
    "scrolled": true
   },
   "outputs": [],
   "source": [
    "#преобразуем нашу разреженную матрицу, выходящую из пайплайна, в датафрейм\n",
    "\n",
    "onehot = pipeline.named_steps['preprocessor'].named_transformers_['cat'].named_steps['onehot']\n",
    "\n",
    "categorical_features = onehot.get_feature_names(CAT_COLUMNNS)\n",
    "all_features = np.concatenate([NUMERIC_COLUMNS, categorical_features])\n",
    "\n",
    "X_train_transformed_df = pd.DataFrame(X_train_transformed, columns=all_features)\n",
    "X_valid_transformed_df = pd.DataFrame(X_valid_transformed, columns=all_features)"
   ]
  },
  {
   "cell_type": "markdown",
   "id": "18145702",
   "metadata": {},
   "source": [
    "# Построение простой модели нейронной сети — baseline."
   ]
  },
  {
   "cell_type": "markdown",
   "id": "95e66c63",
   "metadata": {},
   "source": [
    "## Class для задания архитектуры нейронной сети."
   ]
  },
  {
   "cell_type": "markdown",
   "id": "acaa48e5",
   "metadata": {},
   "source": [
    "Создание класса-потомка для класса nn.Module."
   ]
  },
  {
   "cell_type": "code",
   "execution_count": 36,
   "id": "5b997b8b",
   "metadata": {
    "scrolled": true
   },
   "outputs": [],
   "source": [
    "class NeuralNet (nn.Module):\n",
    "    def __init__ (self, \n",
    "                  n_in_neurons, \n",
    "                  n_hidden_neurons_1, \n",
    "                  n_hidden_neurons_2, \n",
    "                  n_hidden_neurons_3, \n",
    "                  n_hidden_neurons_4, \n",
    "                  n_out_neurons, p):\n",
    "        super(NeuralNet, self).__init__()\n",
    "        \n",
    "        #Создание полносвязного графа\n",
    "        self.fc1 = nn.Linear(n_in_neurons, n_hidden_neurons_1)\n",
    "        self.fc2 = nn.Linear(n_hidden_neurons_1, n_hidden_neurons_2)\n",
    "        self.fc3 = nn.Linear(n_hidden_neurons_2, n_hidden_neurons_3)\n",
    "        self.fc4 = nn.Linear(n_hidden_neurons_3, n_hidden_neurons_4)\n",
    "        self.fc = nn.Linear(n_hidden_neurons_4, n_out_neurons)\n",
    "    \n",
    "        #Создание функции активации\n",
    "        self.act1 = nn.SiLU()\n",
    "        self.act2 = nn.SiLU()\n",
    "        self.act3 = nn.SiLU()\n",
    "        self.act4 = nn.SiLU()\n",
    "        \n",
    "        #формула для расчета стандартного отклонения \n",
    "        #std = (2/(n+(n+1)))**0.5, где n - кол-во нейронов в 1 слое\n",
    "          \n",
    "        #Инициализация весов и отступов\n",
    "        std1 = (2/(n_in_neurons + n_hidden_neurons_1))**0.5\n",
    "        nn.init.normal_(self.fc1.weight, mean=0, std=std1)\n",
    "        nn.init.normal_(self.fc1.bias, mean=0, std=std1)\n",
    "        \n",
    "        std2 = (2/(n_hidden_neurons_1 + n_hidden_neurons_2))**0.5\n",
    "        nn.init.normal_(self.fc2.weight, mean=0, std=std2)\n",
    "        nn.init.normal_(self.fc2.bias, mean=0, std=std2)\n",
    "        \n",
    "        std3 = (2/(n_hidden_neurons_2 + n_hidden_neurons_3))**0.5\n",
    "        nn.init.normal_(self.fc3.weight, mean=0, std=std3)\n",
    "        nn.init.normal_(self.fc3.bias, mean=0, std=std3)\n",
    "        \n",
    "        std4 = (2/(n_hidden_neurons_3 + n_hidden_neurons_4))**0.5\n",
    "        nn.init.normal_(self.fc4.weight, mean=0, std=std4)\n",
    "        nn.init.normal_(self.fc4.bias, mean=0, std=std4)\n",
    "        \n",
    "        #Введение dropout\n",
    "        self.dp1 = nn.Dropout(p=p)\n",
    "        self.dp2 = nn.Dropout(p=p)\n",
    "        self.dp3 = nn.Dropout(p=p)\n",
    "        self.dp4 = nn.Dropout(p=p)\n",
    "        \n",
    "        \n",
    "    def forward(self, x):\n",
    "        out = self.fc1(x)\n",
    "        out = self.act1(out)\n",
    "        out = self.dp1(out)\n",
    "        \n",
    "        out = self.fc2(out)\n",
    "        out = self.act2(out)\n",
    "        out = self.dp2(out)\n",
    "        \n",
    "        out = self.fc3(out)\n",
    "        out = self.act3(out)\n",
    "        out = self.dp3(out)\n",
    "                \n",
    "        out = self.fc4(out)\n",
    "        out = self.act4(out)\n",
    "        out = self.dp4(out)\n",
    "        \n",
    "        out = self.fc(out)\n",
    "        \n",
    "        return out"
   ]
  },
  {
   "cell_type": "markdown",
   "id": "7ed99eca",
   "metadata": {},
   "source": [
    "## Base Line нейронной сети.\n"
   ]
  },
  {
   "cell_type": "code",
   "execution_count": 37,
   "id": "c7e2e6d4",
   "metadata": {},
   "outputs": [],
   "source": [
    "#Перевод данных в тензор.\n",
    "X_train = torch.FloatTensor(X_train_transformed_df.values)\n",
    "X_valid = torch.FloatTensor(X_valid_transformed_df.values)\n",
    "y_train = torch.FloatTensor(y_train.values)\n",
    "y_valid = torch.FloatTensor(y_valid.values)"
   ]
  },
  {
   "cell_type": "code",
   "execution_count": 38,
   "id": "5aff736c",
   "metadata": {},
   "outputs": [],
   "source": [
    "n_in_neurons = X_train.shape[1]\n",
    "n_hidden_neurons_1 = 36\n",
    "n_hidden_neurons_2 = 12\n",
    "n_hidden_neurons_3 = 8\n",
    "n_hidden_neurons_4 = 2\n",
    "n_out_neurons = 1"
   ]
  },
  {
   "cell_type": "markdown",
   "id": "32cbaaed",
   "metadata": {},
   "source": [
    "Задание переменных для нейронной сети."
   ]
  },
  {
   "cell_type": "code",
   "execution_count": 39,
   "id": "8fb83082",
   "metadata": {},
   "outputs": [],
   "source": [
    "#Заданеи слоев для нейронной сети \n",
    "net_layers = [n_in_neurons, \n",
    "              n_hidden_neurons_1, \n",
    "              n_hidden_neurons_2, \n",
    "              n_hidden_neurons_3, \n",
    "              n_hidden_neurons_4, \n",
    "              n_out_neurons] \n",
    "\n",
    "#количество эпох обучения нейронки\n",
    "num_epoch =10000\n",
    "\n",
    "#скорость обучения\n",
    "learning_rate = 0.001"
   ]
  },
  {
   "cell_type": "code",
   "execution_count": 40,
   "id": "d14724b0",
   "metadata": {},
   "outputs": [],
   "source": [
    "#Фиксация значений у рандомайзеров для вопроизводимости результатов\n",
    "random.seed(rand_st)\n",
    "np.random.seed(rand_st)\n",
    "torch.manual_seed(rand_st)\n",
    "torch.use_deterministic_algorithms(True)\n",
    "\n",
    "net = NeuralNet(*net_layers, 0) #Base Line строится без Dropout\n",
    "optimizer = torch.optim.Adam(net.parameters(), lr=learning_rate)\n",
    "loss_function = nn.MSELoss()\n",
    "\n",
    "best_rmse = float('inf')\n",
    "patience = 10  #количество эпох без улучшений после которых обучение будет остановлено\n",
    "patience_counter = 0"
   ]
  },
  {
   "cell_type": "code",
   "execution_count": 41,
   "id": "248cdf3d",
   "metadata": {
    "scrolled": true
   },
   "outputs": [
    {
     "name": "stdout",
     "output_type": "stream",
     "text": [
      "RMSE for 500 epoch: 15253(K)\n",
      "RMSE for 1000 epoch: 11912(K)\n",
      "RMSE for 1500 epoch: 7263(K)\n",
      "RMSE for 2000 epoch: 5095(K)\n",
      "RMSE for 2500 epoch: 3217(K)\n",
      "Early stopping\n",
      "Best RMSE: 2985(K)\n"
     ]
    }
   ],
   "source": [
    "for epoch in range(num_epoch):\n",
    "    net.train()\n",
    "    optimizer.zero_grad() #Обнуление градиентов\n",
    "    \n",
    "    predictions_train = net.forward(X_train).flatten()\n",
    "    \n",
    "    loss_value = loss_function(predictions_train, y_train)\n",
    "    loss_value.backward()\n",
    "    \n",
    "    optimizer.step()\n",
    "    \n",
    "    if epoch%10 == 0:\n",
    "        with torch.no_grad():\n",
    "        \n",
    "            net.eval()\n",
    "            predictions_val = net.forward(X_valid).flatten()\n",
    "            rmse = torch.sqrt(loss_function(predictions_val, y_valid))\n",
    "            \n",
    "            if epoch%500 == 0:\n",
    "                print(f'RMSE for {epoch+500} epoch: {rmse:.0f}(K)')\n",
    "            \n",
    "            if rmse < best_rmse:\n",
    "                best_rmse = rmse\n",
    "                best_model = copy.deepcopy(net.state_dict())  # Сохраняем веса модели только если RMSE улучшился\n",
    "                patience_counter = 0\n",
    "            else:\n",
    "                patience_counter += 1\n",
    "                \n",
    "            #если RMSE не улучшился в течение заданного количества эпох, останавливаем обучение\n",
    "            if patience_counter >= patience:\n",
    "                print(\"Early stopping\")\n",
    "                break\n",
    "\n",
    "# Восстанавливаем лучшую модель\n",
    "net.load_state_dict(best_model)\n",
    "net.eval()\n",
    "predictions_val = net.forward(X_valid).flatten()\n",
    "rmse = torch.sqrt(loss_function(predictions_val, y_valid))\n",
    "print(f'Best RMSE: {rmse:.0f}(K)')"
   ]
  },
  {
   "cell_type": "code",
   "execution_count": 42,
   "id": "ecd5a2c5",
   "metadata": {},
   "outputs": [
    {
     "data": {
      "text/html": [
       "<div>\n",
       "<style scoped>\n",
       "    .dataframe tbody tr th:only-of-type {\n",
       "        vertical-align: middle;\n",
       "    }\n",
       "\n",
       "    .dataframe tbody tr th {\n",
       "        vertical-align: top;\n",
       "    }\n",
       "\n",
       "    .dataframe thead th {\n",
       "        text-align: right;\n",
       "    }\n",
       "</style>\n",
       "<table border=\"1\" class=\"dataframe\">\n",
       "  <thead>\n",
       "    <tr style=\"text-align: right;\">\n",
       "      <th></th>\n",
       "      <th>Количество эпох</th>\n",
       "      <th>1-й скрытый слой</th>\n",
       "      <th>2-й скрытый слой</th>\n",
       "      <th>3-й скрытый слой</th>\n",
       "      <th>4-й скрытый слой</th>\n",
       "      <th>1-я ф-я актиации</th>\n",
       "      <th>2-я ф-я актиации</th>\n",
       "      <th>3-я ф-я актиации</th>\n",
       "      <th>4-я ф-я актиации</th>\n",
       "      <th>Улучшения модели</th>\n",
       "      <th>RMSE</th>\n",
       "    </tr>\n",
       "  </thead>\n",
       "  <tbody>\n",
       "    <tr>\n",
       "      <th>0</th>\n",
       "      <td>1000</td>\n",
       "      <td>36</td>\n",
       "      <td>12</td>\n",
       "      <td>0</td>\n",
       "      <td>0</td>\n",
       "      <td>SiLU</td>\n",
       "      <td>SiLU</td>\n",
       "      <td>-</td>\n",
       "      <td>-</td>\n",
       "      <td>-</td>\n",
       "      <td>15649</td>\n",
       "    </tr>\n",
       "    <tr>\n",
       "      <th>1</th>\n",
       "      <td>1000</td>\n",
       "      <td>36</td>\n",
       "      <td>12</td>\n",
       "      <td>0</td>\n",
       "      <td>0</td>\n",
       "      <td>SiLU</td>\n",
       "      <td>ReLU</td>\n",
       "      <td>-</td>\n",
       "      <td>-</td>\n",
       "      <td>-</td>\n",
       "      <td>12715</td>\n",
       "    </tr>\n",
       "    <tr>\n",
       "      <th>2</th>\n",
       "      <td>10000</td>\n",
       "      <td>36</td>\n",
       "      <td>12</td>\n",
       "      <td>0</td>\n",
       "      <td>0</td>\n",
       "      <td>SiLU</td>\n",
       "      <td>SiLU</td>\n",
       "      <td>-</td>\n",
       "      <td>-</td>\n",
       "      <td>-</td>\n",
       "      <td>4114</td>\n",
       "    </tr>\n",
       "    <tr>\n",
       "      <th>3</th>\n",
       "      <td>10000</td>\n",
       "      <td>36</td>\n",
       "      <td>12</td>\n",
       "      <td>0</td>\n",
       "      <td>0</td>\n",
       "      <td>SiLU</td>\n",
       "      <td>SiLU</td>\n",
       "      <td>-</td>\n",
       "      <td>-</td>\n",
       "      <td>-</td>\n",
       "      <td>4965</td>\n",
       "    </tr>\n",
       "    <tr>\n",
       "      <th>4</th>\n",
       "      <td>10000</td>\n",
       "      <td>24</td>\n",
       "      <td>8</td>\n",
       "      <td>0</td>\n",
       "      <td>0</td>\n",
       "      <td>SiLU</td>\n",
       "      <td>SiLU</td>\n",
       "      <td>-</td>\n",
       "      <td>-</td>\n",
       "      <td>-</td>\n",
       "      <td>5178</td>\n",
       "    </tr>\n",
       "    <tr>\n",
       "      <th>5</th>\n",
       "      <td>10000</td>\n",
       "      <td>42</td>\n",
       "      <td>18</td>\n",
       "      <td>0</td>\n",
       "      <td>0</td>\n",
       "      <td>SiLU</td>\n",
       "      <td>SiLU</td>\n",
       "      <td>-</td>\n",
       "      <td>-</td>\n",
       "      <td>-</td>\n",
       "      <td>4252</td>\n",
       "    </tr>\n",
       "    <tr>\n",
       "      <th>6</th>\n",
       "      <td>10000</td>\n",
       "      <td>36</td>\n",
       "      <td>12</td>\n",
       "      <td>8</td>\n",
       "      <td>0</td>\n",
       "      <td>SiLU</td>\n",
       "      <td>SiLU</td>\n",
       "      <td>SiLU</td>\n",
       "      <td>-</td>\n",
       "      <td>-</td>\n",
       "      <td>3751</td>\n",
       "    </tr>\n",
       "    <tr>\n",
       "      <th>7</th>\n",
       "      <td>10000</td>\n",
       "      <td>36</td>\n",
       "      <td>12</td>\n",
       "      <td>8</td>\n",
       "      <td>0</td>\n",
       "      <td>SiLU</td>\n",
       "      <td>SiLU</td>\n",
       "      <td>ReLU</td>\n",
       "      <td>-</td>\n",
       "      <td>-</td>\n",
       "      <td>4060</td>\n",
       "    </tr>\n",
       "    <tr>\n",
       "      <th>8</th>\n",
       "      <td>10000</td>\n",
       "      <td>36</td>\n",
       "      <td>12</td>\n",
       "      <td>8</td>\n",
       "      <td>2</td>\n",
       "      <td>SiLU</td>\n",
       "      <td>SiLU</td>\n",
       "      <td>SiLU</td>\n",
       "      <td>SiLU</td>\n",
       "      <td>-</td>\n",
       "      <td>2985</td>\n",
       "    </tr>\n",
       "  </tbody>\n",
       "</table>\n",
       "</div>"
      ],
      "text/plain": [
       "   Количество эпох  1-й скрытый слой  2-й скрытый слой  3-й скрытый слой  \\\n",
       "0             1000                36                12                 0   \n",
       "1             1000                36                12                 0   \n",
       "2            10000                36                12                 0   \n",
       "3            10000                36                12                 0   \n",
       "4            10000                24                 8                 0   \n",
       "5            10000                42                18                 0   \n",
       "6            10000                36                12                 8   \n",
       "7            10000                36                12                 8   \n",
       "8            10000                36                12                 8   \n",
       "\n",
       "   4-й скрытый слой 1-я ф-я актиации 2-я ф-я актиации 3-я ф-я актиации  \\\n",
       "0                 0             SiLU             SiLU                -   \n",
       "1                 0             SiLU             ReLU                -   \n",
       "2                 0             SiLU             SiLU                -   \n",
       "3                 0             SiLU             SiLU                -   \n",
       "4                 0             SiLU             SiLU                -   \n",
       "5                 0             SiLU             SiLU                -   \n",
       "6                 0             SiLU             SiLU             SiLU   \n",
       "7                 0             SiLU             SiLU             ReLU   \n",
       "8                 2             SiLU             SiLU             SiLU   \n",
       "\n",
       "  4-я ф-я актиации Улучшения модели   RMSE  \n",
       "0                -                -  15649  \n",
       "1                -                -  12715  \n",
       "2                -                -   4114  \n",
       "3                -                -   4965  \n",
       "4                -                -   5178  \n",
       "5                -                -   4252  \n",
       "6                -                -   3751  \n",
       "7                -                -   4060  \n",
       "8             SiLU                -   2985  "
      ]
     },
     "execution_count": 42,
     "metadata": {},
     "output_type": "execute_result"
    }
   ],
   "source": [
    "#Создание датасета для ручной записи эксперементальных данных.\n",
    "test_data = {'Количество эпох': [1000, 1000, 10000, 10000, 10000, 10000, 10000, 10000, 10000],\n",
    "            '1-й скрытый слой' : [36, 36, 36, 36, 24, 42, 36, 36, 36],\n",
    "            '2-й скрытый слой' : [12, 12, 12, 12, 8, 18, 12, 12, 12],\n",
    "            '3-й скрытый слой' : [0, 0, 0, 0, 0, 0, 8, 8, 8],\n",
    "            '4-й скрытый слой' : [0, 0, 0, 0, 0, 0, 0, 0, 2],\n",
    "             '1-я ф-я актиации'  : ['SiLU', 'SiLU', 'SiLU', 'SiLU', 'SiLU', 'SiLU', 'SiLU', 'SiLU', 'SiLU'],\n",
    "             '2-я ф-я актиации'  : ['SiLU', 'ReLU', 'SiLU', 'SiLU', 'SiLU', 'SiLU', 'SiLU', 'SiLU', 'SiLU'],\n",
    "             '3-я ф-я актиации'  : ['-', '-', '-', '-', '-', '-', 'SiLU', 'ReLU', 'SiLU'],\n",
    "             '4-я ф-я актиации'  : ['-', '-', '-', '-', '-', '-', '-', '-', 'SiLU'],\n",
    "            'Улучшения модели' : ['-', '-', '-', '-', '-', '-', '-', '-', '-'],\n",
    "            'RMSE' : [15649, 12715, 4114, 4965, 5178, 4252, 3751, 4060, 2985]}\n",
    "analys_data = pd.DataFrame(test_data)\n",
    "analys_data"
   ]
  },
  {
   "cell_type": "markdown",
   "id": "0c4d70b4",
   "metadata": {},
   "source": [
    "**Добаввление 5 скрытого слоя не дает значимого прироста к метрике RMSE. Эксперемент остановлен на моделе с 4 нейронами. Лучшие гиперпараметры модели подобраны в таблице analys_data п.8.**"
   ]
  },
  {
   "cell_type": "markdown",
   "id": "515f5935",
   "metadata": {},
   "source": [
    "## Графическое сравнение прогноза модели и фактических значений."
   ]
  },
  {
   "cell_type": "code",
   "execution_count": 43,
   "id": "6edf0475",
   "metadata": {
    "scrolled": true
   },
   "outputs": [
    {
     "data": {
      "text/plain": [
       "tensor([15178.7354,  2983.8853,  4439.3403, 32538.1973, 17994.8594,  4829.8101,\n",
       "        21852.5664, 16734.7969,  2854.9077, 16890.6289,  3921.5295, 18754.6055,\n",
       "         4110.2144, 17208.3438,  4230.2212, 28130.8672,  2971.9077,  3168.1394,\n",
       "        15216.6289,  2835.8816,  2914.3167,  3166.5911, 36596.2891, 35924.7188,\n",
       "        20726.4648, 29258.3770,  3788.6738, 17072.9004, 10361.1221, 17110.3691,\n",
       "         5604.5161, 18621.8496, 12000.4736,  2792.2925,  3156.6438,  2842.5959,\n",
       "         3154.3320,  4017.0110,  3194.7849,  3400.1448, 24083.8125,  4088.0657,\n",
       "        18890.7949,  3181.7202, 25777.1523,  2866.4087,  9968.1943,  5791.2915],\n",
       "       grad_fn=<ViewBackward0>)"
      ]
     },
     "execution_count": 43,
     "metadata": {},
     "output_type": "execute_result"
    }
   ],
   "source": [
    "predictions_val"
   ]
  },
  {
   "cell_type": "markdown",
   "id": "c2645ff5",
   "metadata": {},
   "source": [
    "Подготовка данных."
   ]
  },
  {
   "cell_type": "code",
   "execution_count": 44,
   "id": "07d57a53",
   "metadata": {},
   "outputs": [],
   "source": [
    "predictions = predictions_val.tolist()"
   ]
  },
  {
   "cell_type": "code",
   "execution_count": 45,
   "id": "ac3c72c4",
   "metadata": {},
   "outputs": [],
   "source": [
    "predictions_flat = predictions_val.tolist() #Представляет из себя список списков.\n",
    "actual = y_valid.tolist()\n",
    "star_num =  [index for index, value in enumerate(actual)]\n",
    "predl_base = predictions_flat #Для сравнения с финальной моделью."
   ]
  },
  {
   "cell_type": "code",
   "execution_count": 46,
   "id": "bf2b5101",
   "metadata": {},
   "outputs": [
    {
     "data": {
      "image/png": "[encoded data removed]",
      "text/plain": [
       "<Figure size 1440x648 with 1 Axes>"
      ]
     },
     "metadata": {
      "needs_background": "light"
     },
     "output_type": "display_data"
    }
   ],
   "source": [
    "fig, ax = plt.subplots(figsize=(20, 9))\n",
    "ax.bar(star_num, predictions, color='powderblue', edgecolor='darkslategray') #Предсказанные значения \n",
    "ax.bar(star_num, actual, color='orange', edgecolor='black', width = 0.2) #Фактические значения \n",
    "ax.tick_params(axis='both', labelsize=15)\n",
    "\n",
    "ax.set_xlabel('Star Number', fontsize=20)\n",
    "ax.set_ylabel('Temperature', fontsize=20)\n",
    "ax.set_title('«Факт — Прогноз» температуры звезд', fontsize=25)\n",
    "ax.grid(True)\n",
    "\n",
    "# Создание объектов Line2D для легенды\n",
    "pred_legend = Line2D([0], [0], color='powderblue', linewidth=8, label='Прогноз')\n",
    "act_legend = Line2D([0], [0], color='orange', linewidth=8, label='Факт')\n",
    "ax.legend(handles=[pred_legend, act_legend], fontsize=20)  # Добавление легенды\n",
    "\n",
    "plt.show()"
   ]
  },
  {
   "cell_type": "markdown",
   "id": "d2326466",
   "metadata": {},
   "source": [
    "**Вывод:**\n",
    "\n",
    "Из графика видно, что нейронная сеть прогнозирует температуру достаточно точно.\n",
    "Фактическая метрика качества RMSE = 3004, что является лучшеим показателем, чем метрика требуемая по проекту. (Требуемая етрика качества RMSE = 4500)"
   ]
  },
  {
   "cell_type": "markdown",
   "id": "533b4d14",
   "metadata": {},
   "source": [
    "# Улучшение сети.\n"
   ]
  },
  {
   "cell_type": "markdown",
   "id": "c5cf3816",
   "metadata": {},
   "source": [
    "## Dropout"
   ]
  },
  {
   "cell_type": "markdown",
   "id": "4ccb9a4d",
   "metadata": {},
   "source": [
    "В архитектуру нейронной сети внедряется dropout. Методом перебора определяется наилучший гиперпараметр."
   ]
  },
  {
   "cell_type": "code",
   "execution_count": 47,
   "id": "e94713c8",
   "metadata": {
    "scrolled": true
   },
   "outputs": [
    {
     "name": "stdout",
     "output_type": "stream",
     "text": [
      "Значение dropout: 0.0\n",
      "RMSE for 500 epoch: 15253(K)\n",
      "RMSE for 1000 epoch: 11835(K)\n",
      "RMSE for 1500 epoch: 7394(K)\n",
      "RMSE for 2000 epoch: 5724(K)\n",
      "RMSE for 2500 epoch: 3686(K)\n",
      "RMSE for 3000 epoch: 3066(K)\n",
      "RMSE for 3500 epoch: 2944(K)\n",
      "RMSE for 4000 epoch: 2855(K)\n",
      "Early stopping\n",
      "Best RMSE: 2822(K)\n",
      "_________________________________________________________________________________\n",
      "Значение dropout: 0.1\n",
      "RMSE for 500 epoch: 15253(K)\n",
      "RMSE for 1000 epoch: 9250(K)\n",
      "RMSE for 1500 epoch: 7429(K)\n",
      "RMSE for 2000 epoch: 6945(K)\n",
      "RMSE for 2500 epoch: 6464(K)\n",
      "Early stopping\n",
      "Best RMSE: 6143(K)\n",
      "_________________________________________________________________________________\n",
      "Значение dropout: 0.2\n",
      "RMSE for 500 epoch: 15254(K)\n",
      "RMSE for 1000 epoch: 15253(K)\n",
      "RMSE for 1500 epoch: 15252(K)\n",
      "RMSE for 2000 epoch: 15251(K)\n",
      "RMSE for 2500 epoch: 15251(K)\n",
      "RMSE for 3000 epoch: 15250(K)\n",
      "RMSE for 3500 epoch: 15250(K)\n",
      "RMSE for 4000 epoch: 15249(K)\n",
      "RMSE for 4500 epoch: 15249(K)\n",
      "RMSE for 5000 epoch: 15248(K)\n",
      "RMSE for 5500 epoch: 15247(K)\n",
      "RMSE for 6000 epoch: 15247(K)\n",
      "RMSE for 6500 epoch: 15246(K)\n",
      "RMSE for 7000 epoch: 15246(K)\n",
      "RMSE for 7500 epoch: 15245(K)\n",
      "RMSE for 8000 epoch: 15245(K)\n",
      "RMSE for 8500 epoch: 15244(K)\n",
      "RMSE for 9000 epoch: 15243(K)\n",
      "RMSE for 9500 epoch: 15243(K)\n",
      "RMSE for 10000 epoch: 15242(K)\n",
      "Best RMSE: 15242(K)\n",
      "_________________________________________________________________________________\n",
      "Значение dropout: 0.30000000000000004\n",
      "RMSE for 500 epoch: 15253(K)\n",
      "RMSE for 1000 epoch: 11651(K)\n",
      "RMSE for 1500 epoch: 8883(K)\n",
      "RMSE for 2000 epoch: 7710(K)\n",
      "Early stopping\n",
      "Best RMSE: 7287(K)\n",
      "_________________________________________________________________________________\n",
      "Значение dropout: 0.4\n",
      "RMSE for 500 epoch: 15253(K)\n",
      "RMSE for 1000 epoch: 13814(K)\n",
      "RMSE for 1500 epoch: 10806(K)\n",
      "RMSE for 2000 epoch: 10319(K)\n",
      "Early stopping\n",
      "Best RMSE: 10108(K)\n",
      "_________________________________________________________________________________\n"
     ]
    }
   ],
   "source": [
    "#количество эпох обучения нейронки\n",
    "for p in np.arange(0, 0.5, 0.1):\n",
    "    print(f'Значение dropout: {p}')\n",
    "    best_rmse = float('inf')\n",
    "    net_dropout = NeuralNet(*net_layers, p) #добавление Dropout к слоям модели\n",
    "    optimizer = torch.optim.Adam(net_dropout.parameters(), lr=learning_rate)\n",
    "    loss_function = nn.MSELoss()\n",
    "\n",
    "    best_rmse = float('inf')\n",
    "    patience = 10  #количество эпох без улучшений после которых обучение будет остановлено\n",
    "    patience_counter = 0\n",
    "\n",
    "    for epoch in range(num_epoch):\n",
    "        net_dropout.train()\n",
    "        optimizer.zero_grad() #Обнуление градиентов\n",
    "\n",
    "        predictions_train = net_dropout.forward(X_train).flatten()\n",
    "\n",
    "        loss_value = loss_function(predictions_train, y_train)\n",
    "        loss_value.backward()\n",
    "\n",
    "        optimizer.step()\n",
    "\n",
    "        if epoch%10 == 0:\n",
    "            with torch.no_grad():\n",
    "\n",
    "                net_dropout.eval()\n",
    "                predictions_val = net_dropout.forward(X_valid).flatten()\n",
    "                rmse = torch.sqrt(loss_function(predictions_val, y_valid))\n",
    "\n",
    "                if epoch%500 == 0:\n",
    "                    print(f'RMSE for {epoch+500} epoch: {rmse:.0f}(K)')\n",
    "\n",
    "                if rmse < best_rmse:\n",
    "                    best_rmse = rmse\n",
    "                    best_model = copy.deepcopy(net_dropout.state_dict())  # Сохраняем веса модели только если RMSE улучшился\n",
    "                    patience_counter = 0\n",
    "                else:\n",
    "                    patience_counter += 1\n",
    "\n",
    "                #если RMSE не улучшился в течение заданного количества эпох, останавливаем обучение\n",
    "                if patience_counter >= patience:\n",
    "                    print(\"Early stopping\")\n",
    "                    break\n",
    "\n",
    "    # Восстанавливаем лучшую модель\n",
    "    net_dropout.load_state_dict(best_model)\n",
    "    net_dropout.eval()\n",
    "    predictions_val = net_dropout.forward(X_valid).flatten()\n",
    "    rmse = torch.sqrt(loss_function(predictions_val, y_valid))\n",
    "    print(f'Best RMSE: {rmse:.0f}(K)')\n",
    "    print('_________________________________________________________________________________')"
   ]
  },
  {
   "cell_type": "code",
   "execution_count": 48,
   "id": "186ecffc",
   "metadata": {
    "scrolled": true
   },
   "outputs": [
    {
     "name": "stderr",
     "output_type": "stream",
     "text": [
      "/var/folders/th/9xw9c71j3d34kscxr4b5q7m80000gn/T/ipykernel_44322/3223779514.py:14: FutureWarning: The frame.append method is deprecated and will be removed from pandas in a future version. Use pandas.concat instead.\n",
      "  analys_data = analys_data.append(dropout_data, ignore_index=True)\n"
     ]
    },
    {
     "data": {
      "text/html": [
       "<div>\n",
       "<style scoped>\n",
       "    .dataframe tbody tr th:only-of-type {\n",
       "        vertical-align: middle;\n",
       "    }\n",
       "\n",
       "    .dataframe tbody tr th {\n",
       "        vertical-align: top;\n",
       "    }\n",
       "\n",
       "    .dataframe thead th {\n",
       "        text-align: right;\n",
       "    }\n",
       "</style>\n",
       "<table border=\"1\" class=\"dataframe\">\n",
       "  <thead>\n",
       "    <tr style=\"text-align: right;\">\n",
       "      <th></th>\n",
       "      <th>Количество эпох</th>\n",
       "      <th>1-й скрытый слой</th>\n",
       "      <th>2-й скрытый слой</th>\n",
       "      <th>3-й скрытый слой</th>\n",
       "      <th>4-й скрытый слой</th>\n",
       "      <th>1-я ф-я актиации</th>\n",
       "      <th>2-я ф-я актиации</th>\n",
       "      <th>3-я ф-я актиации</th>\n",
       "      <th>4-я ф-я актиации</th>\n",
       "      <th>Улучшения модели</th>\n",
       "      <th>RMSE</th>\n",
       "    </tr>\n",
       "  </thead>\n",
       "  <tbody>\n",
       "    <tr>\n",
       "      <th>0</th>\n",
       "      <td>1000</td>\n",
       "      <td>36</td>\n",
       "      <td>12</td>\n",
       "      <td>0</td>\n",
       "      <td>0</td>\n",
       "      <td>SiLU</td>\n",
       "      <td>SiLU</td>\n",
       "      <td>-</td>\n",
       "      <td>-</td>\n",
       "      <td>-</td>\n",
       "      <td>15649</td>\n",
       "    </tr>\n",
       "    <tr>\n",
       "      <th>1</th>\n",
       "      <td>1000</td>\n",
       "      <td>36</td>\n",
       "      <td>12</td>\n",
       "      <td>0</td>\n",
       "      <td>0</td>\n",
       "      <td>SiLU</td>\n",
       "      <td>ReLU</td>\n",
       "      <td>-</td>\n",
       "      <td>-</td>\n",
       "      <td>-</td>\n",
       "      <td>12715</td>\n",
       "    </tr>\n",
       "    <tr>\n",
       "      <th>2</th>\n",
       "      <td>10000</td>\n",
       "      <td>36</td>\n",
       "      <td>12</td>\n",
       "      <td>0</td>\n",
       "      <td>0</td>\n",
       "      <td>SiLU</td>\n",
       "      <td>SiLU</td>\n",
       "      <td>-</td>\n",
       "      <td>-</td>\n",
       "      <td>-</td>\n",
       "      <td>4114</td>\n",
       "    </tr>\n",
       "    <tr>\n",
       "      <th>3</th>\n",
       "      <td>10000</td>\n",
       "      <td>36</td>\n",
       "      <td>12</td>\n",
       "      <td>0</td>\n",
       "      <td>0</td>\n",
       "      <td>SiLU</td>\n",
       "      <td>SiLU</td>\n",
       "      <td>-</td>\n",
       "      <td>-</td>\n",
       "      <td>-</td>\n",
       "      <td>4965</td>\n",
       "    </tr>\n",
       "    <tr>\n",
       "      <th>4</th>\n",
       "      <td>10000</td>\n",
       "      <td>24</td>\n",
       "      <td>8</td>\n",
       "      <td>0</td>\n",
       "      <td>0</td>\n",
       "      <td>SiLU</td>\n",
       "      <td>SiLU</td>\n",
       "      <td>-</td>\n",
       "      <td>-</td>\n",
       "      <td>-</td>\n",
       "      <td>5178</td>\n",
       "    </tr>\n",
       "    <tr>\n",
       "      <th>5</th>\n",
       "      <td>10000</td>\n",
       "      <td>42</td>\n",
       "      <td>18</td>\n",
       "      <td>0</td>\n",
       "      <td>0</td>\n",
       "      <td>SiLU</td>\n",
       "      <td>SiLU</td>\n",
       "      <td>-</td>\n",
       "      <td>-</td>\n",
       "      <td>-</td>\n",
       "      <td>4252</td>\n",
       "    </tr>\n",
       "    <tr>\n",
       "      <th>6</th>\n",
       "      <td>10000</td>\n",
       "      <td>36</td>\n",
       "      <td>12</td>\n",
       "      <td>8</td>\n",
       "      <td>0</td>\n",
       "      <td>SiLU</td>\n",
       "      <td>SiLU</td>\n",
       "      <td>SiLU</td>\n",
       "      <td>-</td>\n",
       "      <td>-</td>\n",
       "      <td>3751</td>\n",
       "    </tr>\n",
       "    <tr>\n",
       "      <th>7</th>\n",
       "      <td>10000</td>\n",
       "      <td>36</td>\n",
       "      <td>12</td>\n",
       "      <td>8</td>\n",
       "      <td>0</td>\n",
       "      <td>SiLU</td>\n",
       "      <td>SiLU</td>\n",
       "      <td>ReLU</td>\n",
       "      <td>-</td>\n",
       "      <td>-</td>\n",
       "      <td>4060</td>\n",
       "    </tr>\n",
       "    <tr>\n",
       "      <th>8</th>\n",
       "      <td>10000</td>\n",
       "      <td>36</td>\n",
       "      <td>12</td>\n",
       "      <td>8</td>\n",
       "      <td>2</td>\n",
       "      <td>SiLU</td>\n",
       "      <td>SiLU</td>\n",
       "      <td>SiLU</td>\n",
       "      <td>SiLU</td>\n",
       "      <td>-</td>\n",
       "      <td>2985</td>\n",
       "    </tr>\n",
       "    <tr>\n",
       "      <th>9</th>\n",
       "      <td>10000</td>\n",
       "      <td>36</td>\n",
       "      <td>12</td>\n",
       "      <td>8</td>\n",
       "      <td>2</td>\n",
       "      <td>SiLU</td>\n",
       "      <td>SiLU</td>\n",
       "      <td>SiLU</td>\n",
       "      <td>SiLU</td>\n",
       "      <td>Dropout - 0.0</td>\n",
       "      <td>2823</td>\n",
       "    </tr>\n",
       "  </tbody>\n",
       "</table>\n",
       "</div>"
      ],
      "text/plain": [
       "   Количество эпох  1-й скрытый слой  2-й скрытый слой  3-й скрытый слой  \\\n",
       "0             1000                36                12                 0   \n",
       "1             1000                36                12                 0   \n",
       "2            10000                36                12                 0   \n",
       "3            10000                36                12                 0   \n",
       "4            10000                24                 8                 0   \n",
       "5            10000                42                18                 0   \n",
       "6            10000                36                12                 8   \n",
       "7            10000                36                12                 8   \n",
       "8            10000                36                12                 8   \n",
       "9            10000                36                12                 8   \n",
       "\n",
       "   4-й скрытый слой 1-я ф-я актиации 2-я ф-я актиации 3-я ф-я актиации  \\\n",
       "0                 0             SiLU             SiLU                -   \n",
       "1                 0             SiLU             ReLU                -   \n",
       "2                 0             SiLU             SiLU                -   \n",
       "3                 0             SiLU             SiLU                -   \n",
       "4                 0             SiLU             SiLU                -   \n",
       "5                 0             SiLU             SiLU                -   \n",
       "6                 0             SiLU             SiLU             SiLU   \n",
       "7                 0             SiLU             SiLU             ReLU   \n",
       "8                 2             SiLU             SiLU             SiLU   \n",
       "9                 2             SiLU             SiLU             SiLU   \n",
       "\n",
       "  4-я ф-я актиации Улучшения модели   RMSE  \n",
       "0                -                -  15649  \n",
       "1                -                -  12715  \n",
       "2                -                -   4114  \n",
       "3                -                -   4965  \n",
       "4                -                -   5178  \n",
       "5                -                -   4252  \n",
       "6                -                -   3751  \n",
       "7                -                -   4060  \n",
       "8             SiLU                -   2985  \n",
       "9             SiLU    Dropout - 0.0   2823  "
      ]
     },
     "execution_count": 48,
     "metadata": {},
     "output_type": "execute_result"
    }
   ],
   "source": [
    "#Добавление. датасет с эксперементальными данными результато использоания Dropout\n",
    "dropout_data = {'Количество эпох': 10000,\n",
    "            '1-й скрытый слой' : 36,\n",
    "            '2-й скрытый слой' : 12,\n",
    "            '3-й скрытый слой' : 8,\n",
    "            '4-й скрытый слой' : 2,\n",
    "             '1-я ф-я актиации'  : 'SiLU',\n",
    "             '2-я ф-я актиации'  : 'SiLU',\n",
    "             '3-я ф-я актиации'  : 'SiLU',\n",
    "             '4-я ф-я актиации'  : 'SiLU',\n",
    "            'Улучшения модели' : 'Dropout - 0.0',\n",
    "            'RMSE' : 2823}\n",
    "\n",
    "analys_data = analys_data.append(dropout_data, ignore_index=True)\n",
    "analys_data"
   ]
  },
  {
   "cell_type": "markdown",
   "id": "434c2ca5",
   "metadata": {},
   "source": [
    "**Вывод:**\n",
    "\n",
    "Dropout не дал никакого прироста к метрике и ухудщил результат работы модели.\n",
    "\n",
    "**Что-то не так сдесь делаю, слишком странные значения получаются.**"
   ]
  },
  {
   "cell_type": "markdown",
   "id": "1949f858",
   "metadata": {},
   "source": [
    "## Рабивка данных на Batch-и"
   ]
  },
  {
   "cell_type": "code",
   "execution_count": 49,
   "id": "0ce65b10",
   "metadata": {},
   "outputs": [],
   "source": [
    "#Определение размера батчий для цикла перебора.\n",
    "for batch_size in range(25, 101, 25):\n",
    "# Dataloader для тренировочной и валидационной части датасета \n",
    "    train_loader = torch.utils.data.DataLoader(dataset=X_train, \n",
    "                                               batch_size=batch_size, \n",
    "                                               shuffle=True)\n",
    "\n",
    "    test_loader = torch.utils.data.DataLoader(dataset=X_valid, \n",
    "                                              batch_size=batch_size, \n",
    "                                              shuffle=False)\n",
    "    \n",
    "    # Цикл обучения\n",
    "    total_step = len(train_loader)\n",
    "    \n",
    "    "
   ]
  },
  {
   "cell_type": "code",
   "execution_count": 50,
   "id": "013f62f1",
   "metadata": {
    "scrolled": false
   },
   "outputs": [
    {
     "name": "stdout",
     "output_type": "stream",
     "text": [
      "Размер батча - 25\n",
      "RMSE for 500 epoch: 2985(K)\n",
      "RMSE for 500 epoch: 2985(K)\n",
      "RMSE for 500 epoch: 2985(K)\n",
      "RMSE for 500 epoch: 2985(K)\n",
      "RMSE for 500 epoch: 2985(K)\n",
      "RMSE for 500 epoch: 2985(K)\n",
      "RMSE for 500 epoch: 2985(K)\n",
      "RMSE for 500 epoch: 2985(K)\n",
      "RMSE for 1000 epoch: 2985(K)\n",
      "RMSE for 1500 epoch: 2985(K)\n",
      "RMSE for 2000 epoch: 2985(K)\n",
      "RMSE for 2500 epoch: 2985(K)\n",
      "RMSE for 3000 epoch: 2985(K)\n",
      "RMSE for 3500 epoch: 2985(K)\n",
      "RMSE for 4000 epoch: 2985(K)\n",
      "RMSE for 4500 epoch: 2985(K)\n",
      "RMSE for 5000 epoch: 2985(K)\n",
      "RMSE for 5500 epoch: 2985(K)\n",
      "RMSE for 6000 epoch: 2985(K)\n",
      "RMSE for 6500 epoch: 2985(K)\n",
      "RMSE for 7000 epoch: 2985(K)\n",
      "RMSE for 7500 epoch: 2985(K)\n",
      "RMSE for 8000 epoch: 2985(K)\n",
      "RMSE for 8500 epoch: 2985(K)\n",
      "RMSE for 9000 epoch: 2985(K)\n",
      "RMSE for 9500 epoch: 2985(K)\n",
      "RMSE for 10000 epoch: 2985(K)\n",
      "Best RMSE: 2985(K)\n",
      "_________________________________________________________\n",
      "Размер батча - 50\n",
      "RMSE for 500 epoch: 2985(K)\n",
      "RMSE for 500 epoch: 2985(K)\n",
      "RMSE for 500 epoch: 2985(K)\n",
      "RMSE for 500 epoch: 2985(K)\n",
      "RMSE for 1000 epoch: 2985(K)\n",
      "RMSE for 1500 epoch: 2985(K)\n",
      "RMSE for 2000 epoch: 2985(K)\n",
      "RMSE for 2500 epoch: 2985(K)\n",
      "RMSE for 3000 epoch: 2985(K)\n",
      "RMSE for 3500 epoch: 2985(K)\n",
      "RMSE for 4000 epoch: 2985(K)\n",
      "RMSE for 4500 epoch: 2985(K)\n",
      "RMSE for 5000 epoch: 2985(K)\n",
      "RMSE for 5500 epoch: 2985(K)\n",
      "RMSE for 6000 epoch: 2985(K)\n",
      "RMSE for 6500 epoch: 2985(K)\n",
      "RMSE for 7000 epoch: 2985(K)\n",
      "RMSE for 7500 epoch: 2985(K)\n",
      "RMSE for 8000 epoch: 2985(K)\n",
      "RMSE for 8500 epoch: 2985(K)\n",
      "RMSE for 9000 epoch: 2985(K)\n",
      "RMSE for 9500 epoch: 2985(K)\n",
      "RMSE for 10000 epoch: 2985(K)\n",
      "Best RMSE: 2985(K)\n",
      "_________________________________________________________\n",
      "Размер батча - 75\n",
      "RMSE for 500 epoch: 2985(K)\n",
      "RMSE for 500 epoch: 2985(K)\n",
      "RMSE for 500 epoch: 2985(K)\n",
      "RMSE for 1000 epoch: 2985(K)\n",
      "RMSE for 1500 epoch: 2985(K)\n",
      "RMSE for 2000 epoch: 2985(K)\n",
      "RMSE for 2500 epoch: 2985(K)\n",
      "RMSE for 3000 epoch: 2985(K)\n",
      "RMSE for 3500 epoch: 2985(K)\n",
      "RMSE for 4000 epoch: 2985(K)\n",
      "RMSE for 4500 epoch: 2985(K)\n",
      "RMSE for 5000 epoch: 2985(K)\n",
      "RMSE for 5500 epoch: 2985(K)\n",
      "RMSE for 6000 epoch: 2985(K)\n",
      "RMSE for 6500 epoch: 2985(K)\n",
      "RMSE for 7000 epoch: 2985(K)\n",
      "RMSE for 7500 epoch: 2985(K)\n",
      "RMSE for 8000 epoch: 2985(K)\n",
      "RMSE for 8500 epoch: 2985(K)\n",
      "RMSE for 9000 epoch: 2985(K)\n",
      "RMSE for 9500 epoch: 2985(K)\n",
      "RMSE for 10000 epoch: 2985(K)\n",
      "Best RMSE: 2985(K)\n",
      "_________________________________________________________\n",
      "Размер батча - 100\n",
      "RMSE for 500 epoch: 2985(K)\n",
      "RMSE for 500 epoch: 2985(K)\n",
      "RMSE for 1000 epoch: 2985(K)\n",
      "RMSE for 1500 epoch: 2985(K)\n",
      "RMSE for 2000 epoch: 2985(K)\n",
      "RMSE for 2500 epoch: 2985(K)\n",
      "RMSE for 3000 epoch: 2985(K)\n",
      "RMSE for 3500 epoch: 2985(K)\n",
      "RMSE for 4000 epoch: 2985(K)\n",
      "RMSE for 4500 epoch: 2985(K)\n",
      "RMSE for 5000 epoch: 2985(K)\n",
      "RMSE for 5500 epoch: 2985(K)\n",
      "RMSE for 6000 epoch: 2985(K)\n",
      "RMSE for 6500 epoch: 2985(K)\n",
      "RMSE for 7000 epoch: 2985(K)\n",
      "RMSE for 7500 epoch: 2985(K)\n",
      "RMSE for 8000 epoch: 2985(K)\n",
      "RMSE for 8500 epoch: 2985(K)\n",
      "RMSE for 9000 epoch: 2985(K)\n",
      "RMSE for 9500 epoch: 2985(K)\n",
      "RMSE for 10000 epoch: 2985(K)\n",
      "Best RMSE: 2985(K)\n",
      "_________________________________________________________\n"
     ]
    }
   ],
   "source": [
    "#Определение размера батчий для цикла перебора.\n",
    "\n",
    "for batch_size in range(25, 101, 25):\n",
    "    best_rmse = float('inf')\n",
    "    print(f'Размер батча - {batch_size}')\n",
    "    num_batches = ceil(len(X_train)/batch_size)\n",
    "    for epoch in range(num_epoch):\n",
    "        order = np.random.permutation(len(X_train)) #Случайная перестановка индексов объектов\n",
    "        for batch_idx in range(num_batches):\n",
    "            start_index =  batch_idx*batch_size #Номер стартового объекта батча\n",
    "            optimizer.zero_grad()\n",
    "            \n",
    "            batch_indexes = order[start_index : start_index+batch_size] #Индексы объектов текущего обатча\n",
    "            \n",
    "            X_batch = X_train[batch_indexes]\n",
    "            y_batch = y_train[batch_indexes]\n",
    "            \n",
    "            net.train()\n",
    "            optimizer.zero_grad() #Обнуление градиентов\n",
    "\n",
    "            predictions_train = net.forward(X_batch).flatten()\n",
    "\n",
    "            loss_value = loss_function(predictions_train, y_batch)\n",
    "            loss_value.backward()\n",
    "\n",
    "            optimizer.step()\n",
    "            \n",
    "            if epoch%10 == 0:\n",
    "                with torch.no_grad():\n",
    "\n",
    "                    net.eval()\n",
    "                    predictions_val = net.forward(X_valid).flatten()\n",
    "                    rmse = torch.sqrt(loss_function(predictions_val, y_valid))\n",
    "\n",
    "                    if epoch%500 == 0:\n",
    "                        print(f'RMSE for {epoch+500} epoch: {rmse:.0f}(K)')\n",
    "\n",
    "                    if rmse < best_rmse:\n",
    "                        best_rmse = rmse\n",
    "                        best_model = copy.deepcopy(net.state_dict())  # Сохраняем веса модели только если RMSE улучшился\n",
    "                        patience_counter = 0\n",
    "                    else:\n",
    "                        patience_counter += 1\n",
    "\n",
    "                    #если RMSE не улучшился в течение заданного количества эпох, останавливаем обучение\n",
    "                    if patience_counter >= patience:\n",
    "                        break\n",
    "                        \n",
    "                        \n",
    "    # Восстановление лучшей модели\n",
    "    net.load_state_dict(best_model)\n",
    "    net.eval()\n",
    "    predictions_val = net.forward(X_valid).flatten()\n",
    "    rmse = torch.sqrt(loss_function(predictions_val, y_valid))\n",
    "    print(f'Best RMSE: {rmse:.0f}(K)')\n",
    "    print('_________________________________________________________')"
   ]
  },
  {
   "cell_type": "code",
   "execution_count": 51,
   "id": "aaa882f3",
   "metadata": {
    "scrolled": false
   },
   "outputs": [
    {
     "name": "stderr",
     "output_type": "stream",
     "text": [
      "/var/folders/th/9xw9c71j3d34kscxr4b5q7m80000gn/T/ipykernel_44322/1559413936.py:14: FutureWarning: The frame.append method is deprecated and will be removed from pandas in a future version. Use pandas.concat instead.\n",
      "  analys_data = analys_data.append(dropout_data, ignore_index=True)\n"
     ]
    },
    {
     "data": {
      "text/html": [
       "<div>\n",
       "<style scoped>\n",
       "    .dataframe tbody tr th:only-of-type {\n",
       "        vertical-align: middle;\n",
       "    }\n",
       "\n",
       "    .dataframe tbody tr th {\n",
       "        vertical-align: top;\n",
       "    }\n",
       "\n",
       "    .dataframe thead th {\n",
       "        text-align: right;\n",
       "    }\n",
       "</style>\n",
       "<table border=\"1\" class=\"dataframe\">\n",
       "  <thead>\n",
       "    <tr style=\"text-align: right;\">\n",
       "      <th></th>\n",
       "      <th>Количество эпох</th>\n",
       "      <th>1-й скрытый слой</th>\n",
       "      <th>2-й скрытый слой</th>\n",
       "      <th>3-й скрытый слой</th>\n",
       "      <th>4-й скрытый слой</th>\n",
       "      <th>1-я ф-я актиации</th>\n",
       "      <th>2-я ф-я актиации</th>\n",
       "      <th>3-я ф-я актиации</th>\n",
       "      <th>4-я ф-я актиации</th>\n",
       "      <th>Улучшения модели</th>\n",
       "      <th>RMSE</th>\n",
       "    </tr>\n",
       "  </thead>\n",
       "  <tbody>\n",
       "    <tr>\n",
       "      <th>0</th>\n",
       "      <td>1000</td>\n",
       "      <td>36</td>\n",
       "      <td>12</td>\n",
       "      <td>0</td>\n",
       "      <td>0</td>\n",
       "      <td>SiLU</td>\n",
       "      <td>SiLU</td>\n",
       "      <td>-</td>\n",
       "      <td>-</td>\n",
       "      <td>-</td>\n",
       "      <td>15649</td>\n",
       "    </tr>\n",
       "    <tr>\n",
       "      <th>1</th>\n",
       "      <td>1000</td>\n",
       "      <td>36</td>\n",
       "      <td>12</td>\n",
       "      <td>0</td>\n",
       "      <td>0</td>\n",
       "      <td>SiLU</td>\n",
       "      <td>ReLU</td>\n",
       "      <td>-</td>\n",
       "      <td>-</td>\n",
       "      <td>-</td>\n",
       "      <td>12715</td>\n",
       "    </tr>\n",
       "    <tr>\n",
       "      <th>2</th>\n",
       "      <td>10000</td>\n",
       "      <td>36</td>\n",
       "      <td>12</td>\n",
       "      <td>0</td>\n",
       "      <td>0</td>\n",
       "      <td>SiLU</td>\n",
       "      <td>SiLU</td>\n",
       "      <td>-</td>\n",
       "      <td>-</td>\n",
       "      <td>-</td>\n",
       "      <td>4114</td>\n",
       "    </tr>\n",
       "    <tr>\n",
       "      <th>3</th>\n",
       "      <td>10000</td>\n",
       "      <td>36</td>\n",
       "      <td>12</td>\n",
       "      <td>0</td>\n",
       "      <td>0</td>\n",
       "      <td>SiLU</td>\n",
       "      <td>SiLU</td>\n",
       "      <td>-</td>\n",
       "      <td>-</td>\n",
       "      <td>-</td>\n",
       "      <td>4965</td>\n",
       "    </tr>\n",
       "    <tr>\n",
       "      <th>4</th>\n",
       "      <td>10000</td>\n",
       "      <td>24</td>\n",
       "      <td>8</td>\n",
       "      <td>0</td>\n",
       "      <td>0</td>\n",
       "      <td>SiLU</td>\n",
       "      <td>SiLU</td>\n",
       "      <td>-</td>\n",
       "      <td>-</td>\n",
       "      <td>-</td>\n",
       "      <td>5178</td>\n",
       "    </tr>\n",
       "    <tr>\n",
       "      <th>5</th>\n",
       "      <td>10000</td>\n",
       "      <td>42</td>\n",
       "      <td>18</td>\n",
       "      <td>0</td>\n",
       "      <td>0</td>\n",
       "      <td>SiLU</td>\n",
       "      <td>SiLU</td>\n",
       "      <td>-</td>\n",
       "      <td>-</td>\n",
       "      <td>-</td>\n",
       "      <td>4252</td>\n",
       "    </tr>\n",
       "    <tr>\n",
       "      <th>6</th>\n",
       "      <td>10000</td>\n",
       "      <td>36</td>\n",
       "      <td>12</td>\n",
       "      <td>8</td>\n",
       "      <td>0</td>\n",
       "      <td>SiLU</td>\n",
       "      <td>SiLU</td>\n",
       "      <td>SiLU</td>\n",
       "      <td>-</td>\n",
       "      <td>-</td>\n",
       "      <td>3751</td>\n",
       "    </tr>\n",
       "    <tr>\n",
       "      <th>7</th>\n",
       "      <td>10000</td>\n",
       "      <td>36</td>\n",
       "      <td>12</td>\n",
       "      <td>8</td>\n",
       "      <td>0</td>\n",
       "      <td>SiLU</td>\n",
       "      <td>SiLU</td>\n",
       "      <td>ReLU</td>\n",
       "      <td>-</td>\n",
       "      <td>-</td>\n",
       "      <td>4060</td>\n",
       "    </tr>\n",
       "    <tr>\n",
       "      <th>8</th>\n",
       "      <td>10000</td>\n",
       "      <td>36</td>\n",
       "      <td>12</td>\n",
       "      <td>8</td>\n",
       "      <td>2</td>\n",
       "      <td>SiLU</td>\n",
       "      <td>SiLU</td>\n",
       "      <td>SiLU</td>\n",
       "      <td>SiLU</td>\n",
       "      <td>-</td>\n",
       "      <td>2985</td>\n",
       "    </tr>\n",
       "    <tr>\n",
       "      <th>9</th>\n",
       "      <td>10000</td>\n",
       "      <td>36</td>\n",
       "      <td>12</td>\n",
       "      <td>8</td>\n",
       "      <td>2</td>\n",
       "      <td>SiLU</td>\n",
       "      <td>SiLU</td>\n",
       "      <td>SiLU</td>\n",
       "      <td>SiLU</td>\n",
       "      <td>Dropout - 0.0</td>\n",
       "      <td>2823</td>\n",
       "    </tr>\n",
       "    <tr>\n",
       "      <th>10</th>\n",
       "      <td>10000</td>\n",
       "      <td>36</td>\n",
       "      <td>12</td>\n",
       "      <td>8</td>\n",
       "      <td>2</td>\n",
       "      <td>SiLU</td>\n",
       "      <td>SiLU</td>\n",
       "      <td>SiLU</td>\n",
       "      <td>SiLU</td>\n",
       "      <td>Batch size - 100</td>\n",
       "      <td>2783</td>\n",
       "    </tr>\n",
       "  </tbody>\n",
       "</table>\n",
       "</div>"
      ],
      "text/plain": [
       "    Количество эпох  1-й скрытый слой  2-й скрытый слой  3-й скрытый слой  \\\n",
       "0              1000                36                12                 0   \n",
       "1              1000                36                12                 0   \n",
       "2             10000                36                12                 0   \n",
       "3             10000                36                12                 0   \n",
       "4             10000                24                 8                 0   \n",
       "5             10000                42                18                 0   \n",
       "6             10000                36                12                 8   \n",
       "7             10000                36                12                 8   \n",
       "8             10000                36                12                 8   \n",
       "9             10000                36                12                 8   \n",
       "10            10000                36                12                 8   \n",
       "\n",
       "    4-й скрытый слой 1-я ф-я актиации 2-я ф-я актиации 3-я ф-я актиации  \\\n",
       "0                  0             SiLU             SiLU                -   \n",
       "1                  0             SiLU             ReLU                -   \n",
       "2                  0             SiLU             SiLU                -   \n",
       "3                  0             SiLU             SiLU                -   \n",
       "4                  0             SiLU             SiLU                -   \n",
       "5                  0             SiLU             SiLU                -   \n",
       "6                  0             SiLU             SiLU             SiLU   \n",
       "7                  0             SiLU             SiLU             ReLU   \n",
       "8                  2             SiLU             SiLU             SiLU   \n",
       "9                  2             SiLU             SiLU             SiLU   \n",
       "10                 2             SiLU             SiLU             SiLU   \n",
       "\n",
       "   4-я ф-я актиации  Улучшения модели   RMSE  \n",
       "0                 -                 -  15649  \n",
       "1                 -                 -  12715  \n",
       "2                 -                 -   4114  \n",
       "3                 -                 -   4965  \n",
       "4                 -                 -   5178  \n",
       "5                 -                 -   4252  \n",
       "6                 -                 -   3751  \n",
       "7                 -                 -   4060  \n",
       "8              SiLU                 -   2985  \n",
       "9              SiLU     Dropout - 0.0   2823  \n",
       "10             SiLU  Batch size - 100   2783  "
      ]
     },
     "execution_count": 51,
     "metadata": {},
     "output_type": "execute_result"
    }
   ],
   "source": [
    "#Добавление. датасет с эксперементальными данными результато использоания Dropout\n",
    "dropout_data = {'Количество эпох': 10000,\n",
    "            '1-й скрытый слой' : 36,\n",
    "            '2-й скрытый слой' : 12,\n",
    "            '3-й скрытый слой' : 8,\n",
    "            '4-й скрытый слой' : 2,\n",
    "             '1-я ф-я актиации'  : 'SiLU',\n",
    "             '2-я ф-я актиации'  : 'SiLU',\n",
    "             '3-я ф-я актиации'  : 'SiLU',\n",
    "             '4-я ф-я актиации'  : 'SiLU',\n",
    "            'Улучшения модели' : 'Batch size - 100',\n",
    "            'RMSE' : 2783}\n",
    "\n",
    "analys_data = analys_data.append(dropout_data, ignore_index=True)\n",
    "analys_data"
   ]
  },
  {
   "cell_type": "markdown",
   "id": "c531112d",
   "metadata": {},
   "source": [
    "## Графическое сравнение прогноза лучшей модели и фактических значений."
   ]
  },
  {
   "cell_type": "code",
   "execution_count": 52,
   "id": "620896ba",
   "metadata": {},
   "outputs": [],
   "source": [
    "predictions = predictions_val.tolist()"
   ]
  },
  {
   "cell_type": "code",
   "execution_count": 53,
   "id": "fcc0ddf7",
   "metadata": {},
   "outputs": [],
   "source": [
    "predictions_flat = predictions_val.tolist() #Представляет из себя список списков.\n",
    "actual = y_valid.tolist()\n",
    "star_num =  [index for index, value in enumerate(actual)]"
   ]
  },
  {
   "cell_type": "code",
   "execution_count": 54,
   "id": "d0f4a987",
   "metadata": {
    "scrolled": false
   },
   "outputs": [
    {
     "data": {
      "image/png": "[encoded data removed]",
      "text/plain": [
       "<Figure size 1440x648 with 1 Axes>"
      ]
     },
     "metadata": {
      "needs_background": "light"
     },
     "output_type": "display_data"
    }
   ],
   "source": [
    "fig, ax = plt.subplots(figsize=(20, 9))\n",
    "ax.bar(star_num, predictions, color='powderblue', edgecolor='darkslategray', width = 1) #Предсказанные значения \n",
    "ax.bar(star_num, actual, color='orange', edgecolor='black', width = 0.4) #Фактические значения \n",
    "ax.bar(star_num, predl_base, color='yellow', edgecolor='black', width = 0.2) #BaseLine значения\n",
    "\n",
    "ax.tick_params(axis='both', labelsize=15)\n",
    "\n",
    "ax.set_xlabel('Star Number', fontsize=20)\n",
    "ax.set_ylabel('Temperature', fontsize=20)\n",
    "ax.set_title('«Факт — Прогноз» температуры звезд', fontsize=25)\n",
    "ax.grid(True)\n",
    "\n",
    "# Создание объектов Line2D для легенды\n",
    "pred_legend = Line2D([0], [0], color='powderblue', linewidth=8, label='Прогноз')\n",
    "act_legend = Line2D([0], [0], color='orange', linewidth=8, label='Факт')\n",
    "pred_base_legend = Line2D([0], [0], color='yellow', linewidth=8, label='BaseLine значени')\n",
    "ax.legend(handles=[pred_legend, act_legend, pred_base_legend], fontsize=20)  # Добавление легенды\n",
    "\n",
    "plt.show()"
   ]
  },
  {
   "cell_type": "markdown",
   "id": "46869df6",
   "metadata": {},
   "source": [
    "**Вывод:**\n",
    "\n",
    "Из графика видно, что полсе улучшения модели нейронная сеть прогнозирует температуру с большей точностью. Распределние значений предсказаний выровнялось и стало более точным."
   ]
  },
  {
   "cell_type": "markdown",
   "id": "61694023",
   "metadata": {},
   "source": [
    "## Анализ улучшения модели."
   ]
  },
  {
   "cell_type": "code",
   "execution_count": 55,
   "id": "6d388370",
   "metadata": {
    "scrolled": false
   },
   "outputs": [
    {
     "data": {
      "image/png": "[encoded data removed]",
      "text/plain": [
       "<Figure size 1440x648 with 1 Axes>"
      ]
     },
     "metadata": {
      "needs_background": "light"
     },
     "output_type": "display_data"
    }
   ],
   "source": [
    "#Построения графика улучшения метрики в зависимости от номера эксперемента.\n",
    "\n",
    "ax_x = analys_data.index.tolist()\n",
    "ax_y = analys_data['RMSE']\n",
    "fig, ax = plt.subplots(figsize=(20, 9))\n",
    "ax.plot(ax_x, ax_y, marker='o', linestyle='-')\n",
    "\n",
    "# Добавляем заголовок и подписи к осям\n",
    "plt.title('Зависимость метрики от номера эксперемнта.', fontsize=20)\n",
    "plt.xlabel('Номер эксперимента', fontsize=20)\n",
    "plt.ylabel('RMSE', fontsize=20)\n",
    "ax.grid(True)\n",
    "ax.tick_params(axis='both', labelsize=15)\n"
   ]
  },
  {
   "cell_type": "markdown",
   "id": "09844a90",
   "metadata": {},
   "source": [
    "# Вывод."
   ]
  },
  {
   "cell_type": "markdown",
   "id": "86a360c9",
   "metadata": {},
   "source": [
    "Лучшей нейронной сетью для определения температы на поверхности звезд является модель с 4скрытыми слоями. Кол-во нейронов в каждом слое - 36, 12, 8, 2 соответственно. В сети для обучения используется 10.000 эпох с разбивкой на батчи размерами - 100 ед. \n",
    "\n",
    "Целевая метрика проекта RMSE = 4500.\n",
    "Фактическая метрика RMSE = 2783. Что почти в 2 раза лучше требуемой.\n",
    "\n",
    "Наиболлее важными параметрами нейронной сети являются - количество эпох и скрытых слоев. Они дают прирост метрики почти на 400%, что продемонстрировано на графики зависимости метрики от номера эксперимента."
   ]
  }
 ],
 "metadata": {
  "ExecuteTimeLog": [
   {
    "duration": 2130,
    "start_time": "2023-11-17T20:45:39.365Z"
   },
   {
    "duration": 155,
    "start_time": "2023-11-17T20:45:41.497Z"
   },
   {
    "duration": 0,
    "start_time": "2023-11-17T20:45:41.656Z"
   },
   {
    "duration": 0,
    "start_time": "2023-11-17T20:45:41.657Z"
   },
   {
    "duration": 0,
    "start_time": "2023-11-17T20:45:41.658Z"
   },
   {
    "duration": 0,
    "start_time": "2023-11-17T20:45:41.660Z"
   },
   {
    "duration": 0,
    "start_time": "2023-11-17T20:45:41.661Z"
   },
   {
    "duration": 0,
    "start_time": "2023-11-17T20:45:41.663Z"
   },
   {
    "duration": 0,
    "start_time": "2023-11-17T20:45:41.664Z"
   },
   {
    "duration": 0,
    "start_time": "2023-11-17T20:45:41.665Z"
   },
   {
    "duration": 0,
    "start_time": "2023-11-17T20:45:41.666Z"
   },
   {
    "duration": 0,
    "start_time": "2023-11-17T20:45:41.667Z"
   },
   {
    "duration": 0,
    "start_time": "2023-11-17T20:45:41.668Z"
   },
   {
    "duration": 0,
    "start_time": "2023-11-17T20:45:41.669Z"
   },
   {
    "duration": 0,
    "start_time": "2023-11-17T20:45:41.670Z"
   },
   {
    "duration": 0,
    "start_time": "2023-11-17T20:45:41.671Z"
   },
   {
    "duration": 0,
    "start_time": "2023-11-17T20:45:41.672Z"
   },
   {
    "duration": 0,
    "start_time": "2023-11-17T20:45:41.673Z"
   },
   {
    "duration": 0,
    "start_time": "2023-11-17T20:45:41.674Z"
   },
   {
    "duration": 0,
    "start_time": "2023-11-17T20:45:41.675Z"
   },
   {
    "duration": 0,
    "start_time": "2023-11-17T20:45:41.676Z"
   },
   {
    "duration": 0,
    "start_time": "2023-11-17T20:45:41.712Z"
   },
   {
    "duration": 0,
    "start_time": "2023-11-17T20:45:41.713Z"
   },
   {
    "duration": 0,
    "start_time": "2023-11-17T20:45:41.713Z"
   },
   {
    "duration": 0,
    "start_time": "2023-11-17T20:45:41.715Z"
   },
   {
    "duration": 73,
    "start_time": "2023-11-17T20:47:03.311Z"
   },
   {
    "duration": 12,
    "start_time": "2023-11-17T20:47:04.967Z"
   },
   {
    "duration": 18,
    "start_time": "2023-11-17T20:47:05.119Z"
   },
   {
    "duration": 3,
    "start_time": "2023-11-17T20:47:05.447Z"
   },
   {
    "duration": 4,
    "start_time": "2023-11-17T20:47:05.952Z"
   },
   {
    "duration": 8,
    "start_time": "2023-11-17T20:47:06.104Z"
   },
   {
    "duration": 7620,
    "start_time": "2023-11-17T20:47:06.948Z"
   },
   {
    "duration": 761,
    "start_time": "2023-11-17T20:47:14.570Z"
   },
   {
    "duration": 5,
    "start_time": "2023-11-17T20:47:15.332Z"
   },
   {
    "duration": 21,
    "start_time": "2023-11-17T20:47:15.339Z"
   },
   {
    "duration": 9,
    "start_time": "2023-11-17T20:47:15.361Z"
   },
   {
    "duration": 10,
    "start_time": "2023-11-17T20:47:15.372Z"
   },
   {
    "duration": 7,
    "start_time": "2023-11-17T20:47:15.384Z"
   },
   {
    "duration": 18,
    "start_time": "2023-11-17T20:47:15.412Z"
   },
   {
    "duration": 311,
    "start_time": "2023-11-17T20:47:15.431Z"
   },
   {
    "duration": 22,
    "start_time": "2023-11-17T20:47:15.744Z"
   },
   {
    "duration": 6,
    "start_time": "2023-11-17T20:47:15.768Z"
   },
   {
    "duration": 5,
    "start_time": "2023-11-17T20:47:15.775Z"
   },
   {
    "duration": 38,
    "start_time": "2023-11-17T20:47:15.781Z"
   },
   {
    "duration": 5,
    "start_time": "2023-11-17T20:47:15.821Z"
   },
   {
    "duration": 8,
    "start_time": "2023-11-17T20:47:15.828Z"
   },
   {
    "duration": 8,
    "start_time": "2023-11-17T20:47:15.837Z"
   },
   {
    "duration": 3,
    "start_time": "2023-11-17T20:47:15.847Z"
   },
   {
    "duration": 72,
    "start_time": "2023-11-17T20:47:15.852Z"
   },
   {
    "duration": 7955,
    "start_time": "2023-11-17T20:47:35.467Z"
   },
   {
    "duration": 3,
    "start_time": "2023-11-17T20:48:25.824Z"
   },
   {
    "duration": 60,
    "start_time": "2023-11-17T20:48:26.253Z"
   },
   {
    "duration": 8573,
    "start_time": "2023-11-17T20:48:34.258Z"
   },
   {
    "duration": 3,
    "start_time": "2023-11-17T20:48:56.554Z"
   },
   {
    "duration": 0,
    "start_time": "2023-11-17T20:49:14.924Z"
   },
   {
    "duration": 15503,
    "start_time": "2023-11-17T20:49:17.618Z"
   },
   {
    "duration": 3,
    "start_time": "2023-11-17T20:49:53.903Z"
   },
   {
    "duration": 4646,
    "start_time": "2023-11-17T20:49:54.480Z"
   },
   {
    "duration": 40216,
    "start_time": "2023-11-17T20:49:59.507Z"
   },
   {
    "duration": 2344,
    "start_time": "2023-11-22T13:41:57.767Z"
   },
   {
    "duration": 0,
    "start_time": "2023-11-22T13:42:00.116Z"
   },
   {
    "duration": 0,
    "start_time": "2023-11-22T13:42:00.118Z"
   },
   {
    "duration": 0,
    "start_time": "2023-11-22T13:42:00.120Z"
   },
   {
    "duration": 0,
    "start_time": "2023-11-22T13:42:00.121Z"
   },
   {
    "duration": 0,
    "start_time": "2023-11-22T13:42:00.123Z"
   },
   {
    "duration": 0,
    "start_time": "2023-11-22T13:42:00.124Z"
   },
   {
    "duration": 0,
    "start_time": "2023-11-22T13:42:00.126Z"
   },
   {
    "duration": 0,
    "start_time": "2023-11-22T13:42:00.127Z"
   },
   {
    "duration": 0,
    "start_time": "2023-11-22T13:42:00.129Z"
   },
   {
    "duration": 0,
    "start_time": "2023-11-22T13:42:00.130Z"
   },
   {
    "duration": 0,
    "start_time": "2023-11-22T13:42:00.131Z"
   },
   {
    "duration": 0,
    "start_time": "2023-11-22T13:42:00.156Z"
   },
   {
    "duration": 0,
    "start_time": "2023-11-22T13:42:00.158Z"
   },
   {
    "duration": 0,
    "start_time": "2023-11-22T13:42:00.159Z"
   },
   {
    "duration": 0,
    "start_time": "2023-11-22T13:42:00.161Z"
   },
   {
    "duration": 0,
    "start_time": "2023-11-22T13:42:00.162Z"
   },
   {
    "duration": 1,
    "start_time": "2023-11-22T13:42:00.163Z"
   },
   {
    "duration": 0,
    "start_time": "2023-11-22T13:42:00.165Z"
   },
   {
    "duration": 0,
    "start_time": "2023-11-22T13:42:00.166Z"
   },
   {
    "duration": 0,
    "start_time": "2023-11-22T13:42:00.168Z"
   },
   {
    "duration": 0,
    "start_time": "2023-11-22T13:42:00.169Z"
   },
   {
    "duration": 1,
    "start_time": "2023-11-22T13:42:00.170Z"
   },
   {
    "duration": 0,
    "start_time": "2023-11-22T13:42:00.172Z"
   },
   {
    "duration": 0,
    "start_time": "2023-11-22T13:42:00.173Z"
   },
   {
    "duration": 0,
    "start_time": "2023-11-22T13:42:00.175Z"
   },
   {
    "duration": 0,
    "start_time": "2023-11-22T13:42:00.176Z"
   },
   {
    "duration": 0,
    "start_time": "2023-11-22T13:42:00.177Z"
   },
   {
    "duration": 0,
    "start_time": "2023-11-22T13:42:00.178Z"
   },
   {
    "duration": 0,
    "start_time": "2023-11-22T13:42:00.179Z"
   },
   {
    "duration": 0,
    "start_time": "2023-11-22T13:42:00.180Z"
   },
   {
    "duration": 0,
    "start_time": "2023-11-22T13:42:00.181Z"
   },
   {
    "duration": 0,
    "start_time": "2023-11-22T13:42:00.182Z"
   },
   {
    "duration": 0,
    "start_time": "2023-11-22T13:42:00.183Z"
   },
   {
    "duration": 0,
    "start_time": "2023-11-22T13:42:00.184Z"
   },
   {
    "duration": 0,
    "start_time": "2023-11-22T13:42:00.185Z"
   },
   {
    "duration": 0,
    "start_time": "2023-11-22T13:42:00.186Z"
   },
   {
    "duration": 0,
    "start_time": "2023-11-22T13:42:00.186Z"
   },
   {
    "duration": 0,
    "start_time": "2023-11-22T13:42:00.188Z"
   },
   {
    "duration": 0,
    "start_time": "2023-11-22T13:42:00.188Z"
   },
   {
    "duration": 0,
    "start_time": "2023-11-22T13:42:00.190Z"
   },
   {
    "duration": 0,
    "start_time": "2023-11-22T13:42:00.190Z"
   },
   {
    "duration": 0,
    "start_time": "2023-11-22T13:42:00.191Z"
   },
   {
    "duration": 0,
    "start_time": "2023-11-22T13:42:00.192Z"
   },
   {
    "duration": 0,
    "start_time": "2023-11-22T13:42:00.193Z"
   },
   {
    "duration": 0,
    "start_time": "2023-11-22T13:42:00.256Z"
   },
   {
    "duration": 0,
    "start_time": "2023-11-22T13:42:00.257Z"
   },
   {
    "duration": 0,
    "start_time": "2023-11-22T13:42:00.258Z"
   },
   {
    "duration": 0,
    "start_time": "2023-11-22T13:42:00.259Z"
   },
   {
    "duration": 0,
    "start_time": "2023-11-22T13:42:00.260Z"
   },
   {
    "duration": 0,
    "start_time": "2023-11-22T13:42:00.262Z"
   },
   {
    "duration": 0,
    "start_time": "2023-11-22T13:42:00.263Z"
   },
   {
    "duration": 0,
    "start_time": "2023-11-22T13:42:00.264Z"
   },
   {
    "duration": 0,
    "start_time": "2023-11-22T13:42:00.265Z"
   },
   {
    "duration": 0,
    "start_time": "2023-11-22T13:42:00.266Z"
   },
   {
    "duration": 0,
    "start_time": "2023-11-22T13:42:00.267Z"
   },
   {
    "duration": 5627,
    "start_time": "2023-11-22T13:42:26.897Z"
   },
   {
    "duration": 63,
    "start_time": "2023-11-22T13:42:32.527Z"
   },
   {
    "duration": 12,
    "start_time": "2023-11-22T13:42:32.591Z"
   },
   {
    "duration": 16,
    "start_time": "2023-11-22T13:42:32.605Z"
   },
   {
    "duration": 14,
    "start_time": "2023-11-22T13:42:32.622Z"
   },
   {
    "duration": 11,
    "start_time": "2023-11-22T13:42:32.637Z"
   },
   {
    "duration": 3312,
    "start_time": "2023-11-22T13:42:32.649Z"
   },
   {
    "duration": 6,
    "start_time": "2023-11-22T13:42:35.962Z"
   },
   {
    "duration": 21,
    "start_time": "2023-11-22T13:42:35.970Z"
   },
   {
    "duration": 785,
    "start_time": "2023-11-22T13:42:35.994Z"
   },
   {
    "duration": 6,
    "start_time": "2023-11-22T13:42:36.780Z"
   },
   {
    "duration": 6,
    "start_time": "2023-11-22T13:42:36.787Z"
   },
   {
    "duration": 17,
    "start_time": "2023-11-22T13:42:36.795Z"
   },
   {
    "duration": 22,
    "start_time": "2023-11-22T13:42:36.814Z"
   },
   {
    "duration": 9,
    "start_time": "2023-11-22T13:42:36.838Z"
   },
   {
    "duration": 26,
    "start_time": "2023-11-22T13:42:36.848Z"
   },
   {
    "duration": 25,
    "start_time": "2023-11-22T13:42:36.876Z"
   },
   {
    "duration": 99,
    "start_time": "2023-11-22T13:42:36.903Z"
   },
   {
    "duration": 344,
    "start_time": "2023-11-22T13:42:37.004Z"
   },
   {
    "duration": 5,
    "start_time": "2023-11-22T13:42:37.350Z"
   },
   {
    "duration": 92,
    "start_time": "2023-11-22T13:42:37.357Z"
   },
   {
    "duration": 330,
    "start_time": "2023-11-22T13:42:37.450Z"
   },
   {
    "duration": 3,
    "start_time": "2023-11-22T13:42:37.782Z"
   },
   {
    "duration": 185,
    "start_time": "2023-11-22T13:42:37.786Z"
   },
   {
    "duration": 1304,
    "start_time": "2023-11-22T13:42:37.972Z"
   },
   {
    "duration": 3,
    "start_time": "2023-11-22T13:42:39.277Z"
   },
   {
    "duration": 10,
    "start_time": "2023-11-22T13:42:39.282Z"
   },
   {
    "duration": 7,
    "start_time": "2023-11-22T13:42:39.296Z"
   },
   {
    "duration": 10,
    "start_time": "2023-11-22T13:42:39.304Z"
   },
   {
    "duration": 6,
    "start_time": "2023-11-22T13:42:39.316Z"
   },
   {
    "duration": 32,
    "start_time": "2023-11-22T13:42:39.324Z"
   },
   {
    "duration": 3,
    "start_time": "2023-11-22T13:42:39.357Z"
   },
   {
    "duration": 6,
    "start_time": "2023-11-22T13:42:39.361Z"
   },
   {
    "duration": 14,
    "start_time": "2023-11-22T13:42:39.368Z"
   },
   {
    "duration": 12,
    "start_time": "2023-11-22T13:42:39.383Z"
   },
   {
    "duration": 3,
    "start_time": "2023-11-22T13:42:39.397Z"
   },
   {
    "duration": 9,
    "start_time": "2023-11-22T13:42:39.402Z"
   },
   {
    "duration": 8,
    "start_time": "2023-11-22T13:42:39.413Z"
   },
   {
    "duration": 4,
    "start_time": "2023-11-22T13:42:39.423Z"
   },
   {
    "duration": 16,
    "start_time": "2023-11-22T13:42:39.428Z"
   },
   {
    "duration": 23,
    "start_time": "2023-11-22T13:42:39.445Z"
   },
   {
    "duration": 14086,
    "start_time": "2023-11-22T13:42:39.470Z"
   },
   {
    "duration": 15,
    "start_time": "2023-11-22T13:42:53.557Z"
   },
   {
    "duration": 9,
    "start_time": "2023-11-22T13:42:53.574Z"
   },
   {
    "duration": 13,
    "start_time": "2023-11-22T13:42:53.585Z"
   },
   {
    "duration": 8,
    "start_time": "2023-11-22T13:42:53.600Z"
   },
   {
    "duration": 361,
    "start_time": "2023-11-22T13:42:53.610Z"
   },
   {
    "duration": 3201,
    "start_time": "2023-11-22T13:42:53.973Z"
   },
   {
    "duration": 85,
    "start_time": "2023-11-22T13:42:57.176Z"
   },
   {
    "duration": 15,
    "start_time": "2023-11-22T13:42:57.262Z"
   },
   {
    "duration": 183820,
    "start_time": "2023-11-22T13:42:57.279Z"
   },
   {
    "duration": 18,
    "start_time": "2023-11-22T13:46:01.100Z"
   },
   {
    "duration": 248,
    "start_time": "2023-11-22T13:46:01.119Z"
   },
   {
    "duration": 54,
    "start_time": "2023-11-22T13:46:01.369Z"
   },
   {
    "duration": 519,
    "start_time": "2023-11-22T13:46:01.425Z"
   },
   {
    "duration": 228,
    "start_time": "2023-11-22T13:46:01.945Z"
   },
   {
    "duration": 30,
    "start_time": "2023-11-22T13:46:22.863Z"
   },
   {
    "duration": 5312,
    "start_time": "2023-11-22T15:22:57.235Z"
   },
   {
    "duration": 70,
    "start_time": "2023-11-22T15:23:02.549Z"
   },
   {
    "duration": 12,
    "start_time": "2023-11-22T15:23:02.620Z"
   },
   {
    "duration": 11,
    "start_time": "2023-11-22T15:23:02.633Z"
   },
   {
    "duration": 16,
    "start_time": "2023-11-22T15:23:02.645Z"
   },
   {
    "duration": 22,
    "start_time": "2023-11-22T15:23:02.662Z"
   },
   {
    "duration": 3356,
    "start_time": "2023-11-22T15:23:02.685Z"
   },
   {
    "duration": 9,
    "start_time": "2023-11-22T15:23:06.042Z"
   },
   {
    "duration": 842,
    "start_time": "2023-11-22T15:23:06.053Z"
   },
   {
    "duration": 5,
    "start_time": "2023-11-22T15:23:06.898Z"
   },
   {
    "duration": 5,
    "start_time": "2023-11-22T15:23:06.904Z"
   },
   {
    "duration": 4,
    "start_time": "2023-11-22T15:23:06.910Z"
   },
   {
    "duration": 5,
    "start_time": "2023-11-22T15:23:06.915Z"
   },
   {
    "duration": 6,
    "start_time": "2023-11-22T15:23:06.922Z"
   },
   {
    "duration": 10,
    "start_time": "2023-11-22T15:23:06.929Z"
   },
   {
    "duration": 3,
    "start_time": "2023-11-22T15:23:06.940Z"
   },
   {
    "duration": 120,
    "start_time": "2023-11-22T15:23:06.945Z"
   },
   {
    "duration": 357,
    "start_time": "2023-11-22T15:23:07.067Z"
   },
   {
    "duration": 5,
    "start_time": "2023-11-22T15:23:07.426Z"
   },
   {
    "duration": 88,
    "start_time": "2023-11-22T15:23:07.432Z"
   },
   {
    "duration": 327,
    "start_time": "2023-11-22T15:23:07.522Z"
   },
   {
    "duration": 4,
    "start_time": "2023-11-22T15:23:07.851Z"
   },
   {
    "duration": 172,
    "start_time": "2023-11-22T15:23:07.856Z"
   },
   {
    "duration": 1257,
    "start_time": "2023-11-22T15:23:08.030Z"
   },
   {
    "duration": 2,
    "start_time": "2023-11-22T15:23:09.289Z"
   },
   {
    "duration": 7,
    "start_time": "2023-11-22T15:23:09.293Z"
   },
   {
    "duration": 6,
    "start_time": "2023-11-22T15:23:09.301Z"
   },
   {
    "duration": 4,
    "start_time": "2023-11-22T15:23:09.310Z"
   },
   {
    "duration": 8,
    "start_time": "2023-11-22T15:23:09.315Z"
   },
   {
    "duration": 20,
    "start_time": "2023-11-22T15:23:09.324Z"
   },
   {
    "duration": 3,
    "start_time": "2023-11-22T15:23:09.345Z"
   },
   {
    "duration": 5,
    "start_time": "2023-11-22T15:23:09.349Z"
   },
   {
    "duration": 4,
    "start_time": "2023-11-22T15:23:09.381Z"
   },
   {
    "duration": 5,
    "start_time": "2023-11-22T15:23:09.386Z"
   },
   {
    "duration": 5,
    "start_time": "2023-11-22T15:23:09.392Z"
   },
   {
    "duration": 9,
    "start_time": "2023-11-22T15:23:09.398Z"
   },
   {
    "duration": 8,
    "start_time": "2023-11-22T15:23:09.408Z"
   },
   {
    "duration": 4,
    "start_time": "2023-11-22T15:23:09.417Z"
   },
   {
    "duration": 11,
    "start_time": "2023-11-22T15:23:09.423Z"
   },
   {
    "duration": 7,
    "start_time": "2023-11-22T15:23:09.435Z"
   },
   {
    "duration": 13346,
    "start_time": "2023-11-22T15:23:09.444Z"
   },
   {
    "duration": 14,
    "start_time": "2023-11-22T15:23:22.791Z"
   },
   {
    "duration": 12,
    "start_time": "2023-11-22T15:23:22.807Z"
   },
   {
    "duration": 7,
    "start_time": "2023-11-22T15:23:22.821Z"
   },
   {
    "duration": 4,
    "start_time": "2023-11-22T15:23:22.829Z"
   },
   {
    "duration": 363,
    "start_time": "2023-11-22T15:23:22.835Z"
   },
   {
    "duration": 3187,
    "start_time": "2023-11-22T15:23:23.200Z"
   },
   {
    "duration": 17,
    "start_time": "2023-11-22T15:23:26.389Z"
   },
   {
    "duration": 18,
    "start_time": "2023-11-22T15:23:26.408Z"
   },
   {
    "duration": 180715,
    "start_time": "2023-11-22T15:23:26.428Z"
   },
   {
    "duration": 15,
    "start_time": "2023-11-22T15:26:27.144Z"
   },
   {
    "duration": 5,
    "start_time": "2023-11-22T15:26:27.160Z"
   },
   {
    "duration": 4,
    "start_time": "2023-11-22T15:26:27.166Z"
   },
   {
    "duration": 396,
    "start_time": "2023-11-22T15:26:27.171Z"
   },
   {
    "duration": 181,
    "start_time": "2023-11-22T15:26:27.569Z"
   }
  ],
  "hide_input": false,
  "kernelspec": {
   "display_name": "Python 3 (ipykernel)",
   "language": "python",
   "name": "python3"
  },
  "language_info": {
   "codemirror_mode": {
    "name": "ipython",
    "version": 3
   },
   "file_extension": ".py",
   "mimetype": "text/x-python",
   "name": "python",
   "nbconvert_exporter": "python",
   "pygments_lexer": "ipython3",
   "version": "3.9.12"
  },
  "toc": {
   "base_numbering": 1,
   "nav_menu": {},
   "number_sections": true,
   "sideBar": true,
   "skip_h1_title": false,
   "title_cell": "Table of Contents",
   "title_sidebar": "Contents",
   "toc_cell": false,
   "toc_position": {
    "height": "calc(100% - 180px)",
    "left": "10px",
    "top": "150px",
    "width": "336px"
   },
   "toc_section_display": true,
   "toc_window_display": true
  }
 },
 "nbformat": 4,
 "nbformat_minor": 5
}
